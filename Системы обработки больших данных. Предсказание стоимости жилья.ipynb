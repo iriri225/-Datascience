{
 "cells": [
  {
   "cell_type": "markdown",
   "id": "GEqQaHzsZ_bA",
   "metadata": {
    "id": "GEqQaHzsZ_bA"
   },
   "source": [
    "## Предсказание стоимости жилья\n",
    "\n",
    "В проекте вам нужно обучить модель линейной регрессии на данных о жилье в Калифорнии в 1990 году. На основе данных нужно предсказать медианную стоимость дома в жилом массиве. Обучите модель и сделайте предсказания на тестовой выборке. Для оценки качества модели используйте метрики RMSE, MAE и R2."
   ]
  },
  {
   "cell_type": "code",
   "execution_count": 49,
   "id": "9d6b32fa",
   "metadata": {},
   "outputs": [],
   "source": [
    "from pyspark.sql import SparkSession\n",
    "from pyspark.ml.feature import StringIndexer, OneHotEncoder\n",
    "from pyspark.ml.feature import VectorAssembler\n",
    "from pyspark.ml.regression import LinearRegression\n",
    "from pyspark.ml.evaluation import RegressionEvaluator\n",
    "from pyspark.ml import Pipeline\n",
    "from pyspark.sql.functions import count, when, col, mean, rand"
   ]
  },
  {
   "cell_type": "markdown",
   "id": "6eb70ae3",
   "metadata": {},
   "source": [
    "<font color='blue'><b>Комментарий ревьюера: </b></font> ✔️\\\n",
    "<font color='green'> Отлично, что все импорты собраны в первой ячейке ноутбука! Если у того, кто будет запускать твой ноутбук будут отсутствовать некоторые библиотеки, то он это увидит сразу, а не в процессе!</font>"
   ]
  },
  {
   "cell_type": "code",
   "execution_count": 50,
   "id": "f3200aad",
   "metadata": {},
   "outputs": [],
   "source": [
    "spark = SparkSession.builder.appName(\"Housing\").getOrCreate()"
   ]
  },
  {
   "cell_type": "markdown",
   "id": "53871372",
   "metadata": {
    "id": "53871372"
   },
   "source": [
    "# Подготовка данных"
   ]
  },
  {
   "cell_type": "markdown",
   "id": "defb7d54",
   "metadata": {},
   "source": []
  },
  {
   "cell_type": "code",
   "execution_count": 51,
   "id": "df92e3ec",
   "metadata": {
    "id": "df92e3ec"
   },
   "outputs": [],
   "source": [
    "data = spark.read.csv(\"/datasets/housing.csv\", header=True, inferSchema=True)"
   ]
  },
  {
   "cell_type": "markdown",
   "id": "a466fbbd",
   "metadata": {},
   "source": [
    "Вывод типов данных колонок датасета"
   ]
  },
  {
   "cell_type": "code",
   "execution_count": 52,
   "id": "efcdd1d2",
   "metadata": {},
   "outputs": [
    {
     "name": "stdout",
     "output_type": "stream",
     "text": [
      "root\n",
      " |-- longitude: double (nullable = true)\n",
      " |-- latitude: double (nullable = true)\n",
      " |-- housing_median_age: double (nullable = true)\n",
      " |-- total_rooms: double (nullable = true)\n",
      " |-- total_bedrooms: double (nullable = true)\n",
      " |-- population: double (nullable = true)\n",
      " |-- households: double (nullable = true)\n",
      " |-- median_income: double (nullable = true)\n",
      " |-- median_house_value: double (nullable = true)\n",
      " |-- ocean_proximity: string (nullable = true)\n",
      "\n"
     ]
    }
   ],
   "source": [
    "data.printSchema()"
   ]
  },
  {
   "cell_type": "code",
   "execution_count": 53,
   "id": "1f4daba0",
   "metadata": {},
   "outputs": [
    {
     "name": "stdout",
     "output_type": "stream",
     "text": [
      "   longitude  latitude  housing_median_age  total_rooms  total_bedrooms  \\\n",
      "0          0         0                   0            0             207   \n",
      "\n",
      "   population  households  median_income  median_house_value  ocean_proximity  \n",
      "0           0           0              0                   0                0  \n"
     ]
    }
   ],
   "source": [
    "# Проверка наличия пропущенных значений в данных\n",
    "missing_values = data.select([count(when(col(c).isNull(), c)).alias(c) for c in data.columns]).toPandas()\n",
    "print(missing_values)"
   ]
  },
  {
   "cell_type": "markdown",
   "id": "2889eb66",
   "metadata": {},
   "source": [
    "Заполнение пропущенных значений"
   ]
  },
  {
   "cell_type": "code",
   "execution_count": 54,
   "id": "ff417ac8",
   "metadata": {},
   "outputs": [],
   "source": [
    "data = data.fillna(1)"
   ]
  },
  {
   "cell_type": "code",
   "execution_count": 55,
   "id": "d65a796d",
   "metadata": {},
   "outputs": [
    {
     "name": "stdout",
     "output_type": "stream",
     "text": [
      "   longitude  latitude  housing_median_age  total_rooms  total_bedrooms  \\\n",
      "0          0         0                   0            0               0   \n",
      "\n",
      "   population  households  median_income  median_house_value  ocean_proximity  \n",
      "0           0           0              0                   0                0  \n"
     ]
    }
   ],
   "source": [
    "# повторная проверка наличия пропущенных значений в данных\n",
    "missing_values = data.select([count(when(col(c).isNull(), c)).alias(c) for c in data.columns]).toPandas()\n",
    "print(missing_values)"
   ]
  },
  {
   "cell_type": "code",
   "execution_count": 57,
   "id": "b32936be",
   "metadata": {},
   "outputs": [],
   "source": [
    "data = data.orderBy(rand())"
   ]
  },
  {
   "cell_type": "code",
   "execution_count": 63,
   "id": "b7cc45ba",
   "metadata": {},
   "outputs": [],
   "source": [
    "train_data, test_data = data.randomSplit([0.7, 0.3])"
   ]
  },
  {
   "cell_type": "markdown",
   "id": "40ac9110",
   "metadata": {},
   "source": [
    "Построение модели пайплайном"
   ]
  },
  {
   "cell_type": "markdown",
   "id": "b811b93e",
   "metadata": {},
   "source": [
    "исправил"
   ]
  },
  {
   "cell_type": "code",
   "execution_count": 64,
   "id": "0cd38d13",
   "metadata": {},
   "outputs": [],
   "source": [
    "# Определение шагов предобработки данных\n",
    "indexer = StringIndexer(inputCol=\"ocean_proximity\", outputCol=\"ocean_proximity_index\")\n",
    "encoder = OneHotEncoder(inputCol=\"ocean_proximity_index\", outputCol=\"ocean_proximity_encoded\")"
   ]
  },
  {
   "cell_type": "markdown",
   "id": "9f0a82f3",
   "metadata": {
    "id": "9f0a82f3"
   },
   "source": [
    "# Обучение моделей"
   ]
  },
  {
   "cell_type": "code",
   "execution_count": 65,
   "id": "fc59f4fb",
   "metadata": {},
   "outputs": [],
   "source": [
    "# Создание ассемблеров для двух моделей\n",
    "assembler1 = VectorAssembler(inputCols=[\"longitude\", \"latitude\", \"housing_median_age\", \"total_rooms\", \"total_bedrooms\",\n",
    "                                        \"population\", \"households\", \"median_income\", \"ocean_proximity_encoded\"],\n",
    "                             outputCol=\"features\")\n",
    "assembler2 = VectorAssembler(inputCols=[\"longitude\", \"latitude\", \"housing_median_age\", \"total_rooms\", \"total_bedrooms\",\n",
    "                                        \"population\", \"households\", \"median_income\"],\n",
    "                             outputCol=\"features\")"
   ]
  },
  {
   "cell_type": "markdown",
   "id": "12d1cdfc",
   "metadata": {},
   "source": [
    "Выполнение предсказания на тестовой выборке"
   ]
  },
  {
   "cell_type": "code",
   "execution_count": 66,
   "id": "4d6674de",
   "metadata": {},
   "outputs": [],
   "source": [
    "# Создание моделей линейной регрессии\n",
    "lr1 = LinearRegression(featuresCol=\"features\", labelCol=\"median_house_value\")\n",
    "lr2 = LinearRegression(featuresCol=\"features\", labelCol=\"median_house_value\")"
   ]
  },
  {
   "cell_type": "code",
   "execution_count": 67,
   "id": "fd53dc69",
   "metadata": {},
   "outputs": [],
   "source": [
    "# Создание двух конвейеров для двух моделей\n",
    "pipeline1 = Pipeline(stages=[indexer, encoder, assembler1, lr1])\n",
    "pipeline2 = Pipeline(stages=[assembler2, lr2])"
   ]
  },
  {
   "cell_type": "code",
   "execution_count": 68,
   "id": "566e132d",
   "metadata": {},
   "outputs": [
    {
     "name": "stderr",
     "output_type": "stream",
     "text": [
      "23/10/17 12:36:35 WARN Instrumentation: [6605afab] regParam is zero, which might cause numerical instability and overfitting.\n",
      "23/10/17 12:36:36 WARN BLAS: Failed to load implementation from: com.github.fommil.netlib.NativeSystemBLAS\n",
      "23/10/17 12:36:36 WARN BLAS: Failed to load implementation from: com.github.fommil.netlib.NativeRefBLAS\n",
      "23/10/17 12:36:36 WARN LAPACK: Failed to load implementation from: com.github.fommil.netlib.NativeSystemLAPACK\n",
      "23/10/17 12:36:36 WARN LAPACK: Failed to load implementation from: com.github.fommil.netlib.NativeRefLAPACK\n",
      "23/10/17 12:36:38 WARN Instrumentation: [d513092b] regParam is zero, which might cause numerical instability and overfitting.\n"
     ]
    }
   ],
   "source": [
    "# Обучение моделей на обучающих данных\n",
    "model1 = pipeline1.fit(train_data)\n",
    "model2 = pipeline2.fit(train_data)"
   ]
  },
  {
   "cell_type": "code",
   "execution_count": 70,
   "id": "b008c7a2",
   "metadata": {},
   "outputs": [],
   "source": [
    "# Выполнение предсказания на тестовой выборке\n",
    "predictions1 = model1.transform(test_data)\n",
    "predictions2 = model2.transform(test_data)"
   ]
  },
  {
   "cell_type": "markdown",
   "id": "757fd103",
   "metadata": {
    "id": "757fd103"
   },
   "source": [
    "# Анализ результатов"
   ]
  },
  {
   "cell_type": "markdown",
   "id": "8332b6ce",
   "metadata": {},
   "source": [
    "Вычисление метрик RMSE, MAE и R2"
   ]
  },
  {
   "cell_type": "code",
   "execution_count": 71,
   "id": "5aa5b0a6",
   "metadata": {},
   "outputs": [],
   "source": [
    "# Вычисление метрик RMSE, MAE и R2\n",
    "evaluator = RegressionEvaluator(labelCol=\"median_house_value\")\n",
    "rmse1 = evaluator.evaluate(predictions1, {evaluator.metricName: \"rmse\"})\n",
    "mae1 = evaluator.evaluate(predictions1, {evaluator.metricName: \"mae\"})\n",
    "r2_1 = evaluator.evaluate(predictions1, {evaluator.metricName: \"r2\"})\n",
    "\n",
    "rmse2 = evaluator.evaluate(predictions2, {evaluator.metricName: \"rmse\"})\n",
    "mae2 = evaluator.evaluate(predictions2, {evaluator.metricName: \"mae\"})\n",
    "r2_2 = evaluator.evaluate(predictions2, {evaluator.metricName: \"r2\"})\n"
   ]
  },
  {
   "cell_type": "markdown",
   "id": "5e3bc141",
   "metadata": {},
   "source": [
    " Вывод результатов"
   ]
  },
  {
   "cell_type": "code",
   "execution_count": 72,
   "id": "107c3dba",
   "metadata": {},
   "outputs": [
    {
     "name": "stdout",
     "output_type": "stream",
     "text": [
      "Модель с использованием всех данных:\n",
      "RMSE: 70209.90753271118\n",
      "MAE: 50909.02060464449\n",
      "R2: 0.6389181494753682\n",
      "Модель только с числовыми переменными:\n",
      "RMSE: 71328.46045645037\n",
      "MAE: 52001.259313827926\n",
      "R2: 0.6273213117961614\n"
     ]
    }
   ],
   "source": [
    "# Вывод результатов\n",
    "print(\"Модель с использованием всех данных:\")\n",
    "print(f\"RMSE: {rmse1}\")\n",
    "print(f\"MAE: {mae1}\")\n",
    "print(f\"R2: {r2_1}\")\n",
    "\n",
    "print(\"Модель только с числовыми переменными:\")\n",
    "print(f\"RMSE: {rmse2}\")\n",
    "print(f\"MAE: {mae2}\")\n",
    "print(f\"R2: {r2_2}\")"
   ]
  },
  {
   "cell_type": "markdown",
   "id": "2ee965a4",
   "metadata": {},
   "source": [
    "Исходя из предоставленных результатов, можно сделать следующие аналитические выводы:\n",
    "\n",
    "Сравнение моделей:\n",
    "\n",
    "\"Модель с использованием всех данных\" имеет ниже значение RMSE (70209.91) и MAE (50909.02), что говорит о более точных прогнозах стоимости домов в жилом массиве, по сравнению с \"Модель только с числовыми переменными\", у которой RMSE равен 71328.46 и MAE равен 52001.26.\n",
    "Коэффициент детерминации R2 говорит о том, что около 63,9% дисперсии стоимости домов можно объяснить предсказанными переменными в \"Модели с использованием всех данных\" и около 62,7% в \"Модели только с числовыми переменными\". Чем ближе R2 к единице, тем лучше модель объясняет данные.\n",
    "Оценка модели:\n",
    "\n",
    "RMSE (корень из среднеквадратичной ошибки) измеряет среднюю ошибку модели и показывает разброс между фактическими значениями и предсказаниями модели. В данном случае, значения RMSE близки друг к другу для обеих моделей, но \"Модель с использованием всех данных\" демонстрирует немного лучшие результаты.\n",
    "MAE (средняя абсолютная ошибка) также измеряет среднюю ошибку модели, но в абсолютных величинах, что позволяет легче интерпретировать ошибки. Аналогично RMSE, \"Модель с использованием всех данных\" демонстрирует немного лучшие результаты.\n",
    "Коэффициент детерминации R2 используется для оценки объяснительной способности модели. Значение R2 близкое к 1 указывает на лучшую способность модели объяснить и предсказать зависимую переменную. В данном случае, \"Модель с использованием всех данных\" имеет немного более высокое значение R2, что говорит о ее лучшей способности объяснить стоимость домов.\n"
   ]
  }
 ],
 "metadata": {
  "ExecuteTimeLog": [
   {
    "duration": 542,
    "start_time": "2023-10-16T11:48:25.751Z"
   },
   {
    "duration": 14977,
    "start_time": "2023-10-16T11:48:27.477Z"
   },
   {
    "duration": 7837,
    "start_time": "2023-10-16T11:49:04.756Z"
   },
   {
    "duration": 926,
    "start_time": "2023-10-16T11:49:57.042Z"
   },
   {
    "duration": 15,
    "start_time": "2023-10-16T11:50:23.249Z"
   },
   {
    "duration": 197,
    "start_time": "2023-10-16T11:50:43.953Z"
   },
   {
    "duration": 2392,
    "start_time": "2023-10-16T11:51:18.056Z"
   },
   {
    "duration": 257,
    "start_time": "2023-10-16T11:51:51.014Z"
   },
   {
    "duration": 3,
    "start_time": "2023-10-16T11:51:55.151Z"
   },
   {
    "duration": 3,
    "start_time": "2023-10-16T11:51:56.558Z"
   },
   {
    "duration": 607,
    "start_time": "2023-10-16T11:52:00.278Z"
   },
   {
    "duration": 4,
    "start_time": "2023-10-16T11:52:04.014Z"
   },
   {
    "duration": 63,
    "start_time": "2023-10-16T11:52:05.501Z"
   },
   {
    "duration": 3,
    "start_time": "2023-10-16T11:56:22.281Z"
   },
   {
    "duration": 3,
    "start_time": "2023-10-16T11:56:23.776Z"
   },
   {
    "duration": 611,
    "start_time": "2023-10-16T11:56:26.857Z"
   },
   {
    "duration": 4,
    "start_time": "2023-10-16T11:56:27.807Z"
   },
   {
    "duration": 44,
    "start_time": "2023-10-16T11:56:30.224Z"
   },
   {
    "duration": 668,
    "start_time": "2023-10-16T11:56:32.279Z"
   },
   {
    "duration": 3360,
    "start_time": "2023-10-16T11:56:50.703Z"
   },
   {
    "duration": 2152,
    "start_time": "2023-10-16T11:57:18.398Z"
   },
   {
    "duration": 5,
    "start_time": "2023-10-16T13:10:10.525Z"
   },
   {
    "duration": 4,
    "start_time": "2023-10-16T13:10:12.189Z"
   },
   {
    "duration": 820,
    "start_time": "2023-10-16T13:10:15.027Z"
   },
   {
    "duration": 4,
    "start_time": "2023-10-16T13:10:16.483Z"
   },
   {
    "duration": 41,
    "start_time": "2023-10-16T13:10:18.315Z"
   },
   {
    "duration": 562,
    "start_time": "2023-10-16T13:10:20.620Z"
   },
   {
    "duration": 1790,
    "start_time": "2023-10-16T13:10:22.067Z"
   },
   {
    "duration": 1527,
    "start_time": "2023-10-16T13:10:29.052Z"
   },
   {
    "duration": 63,
    "start_time": "2023-10-16T13:10:34.108Z"
   },
   {
    "duration": 252,
    "start_time": "2023-10-16T13:10:37.324Z"
   },
   {
    "duration": 3,
    "start_time": "2023-10-16T13:11:42.695Z"
   },
   {
    "duration": 4,
    "start_time": "2023-10-16T13:11:44.627Z"
   },
   {
    "duration": 610,
    "start_time": "2023-10-16T13:11:49.773Z"
   },
   {
    "duration": 4,
    "start_time": "2023-10-16T13:11:52.179Z"
   },
   {
    "duration": 27,
    "start_time": "2023-10-16T13:11:54.939Z"
   },
   {
    "duration": 612,
    "start_time": "2023-10-16T13:11:56.957Z"
   },
   {
    "duration": 1507,
    "start_time": "2023-10-16T13:12:00.547Z"
   },
   {
    "duration": 1275,
    "start_time": "2023-10-16T13:12:05.724Z"
   },
   {
    "duration": 45,
    "start_time": "2023-10-16T13:12:09.565Z"
   },
   {
    "duration": 3246,
    "start_time": "2023-10-16T13:12:13.235Z"
   },
   {
    "duration": 6,
    "start_time": "2023-10-16T13:12:18.595Z"
   },
   {
    "duration": 665,
    "start_time": "2023-10-17T07:14:59.688Z"
   },
   {
    "duration": 20346,
    "start_time": "2023-10-17T07:15:02.523Z"
   },
   {
    "duration": 11637,
    "start_time": "2023-10-17T07:15:53.693Z"
   },
   {
    "duration": 25,
    "start_time": "2023-10-17T07:16:19.449Z"
   },
   {
    "duration": 144,
    "start_time": "2023-10-17T07:16:23.263Z"
   },
   {
    "duration": 15,
    "start_time": "2023-10-17T07:17:56.467Z"
   },
   {
    "duration": 4,
    "start_time": "2023-10-17T07:19:22.013Z"
   },
   {
    "duration": 4,
    "start_time": "2023-10-17T07:19:23.907Z"
   },
   {
    "duration": 1223,
    "start_time": "2023-10-17T07:19:26.021Z"
   },
   {
    "duration": 4,
    "start_time": "2023-10-17T07:19:30.069Z"
   },
   {
    "duration": 2709,
    "start_time": "2023-10-17T07:19:34.263Z"
   },
   {
    "duration": 198,
    "start_time": "2023-10-17T07:19:43.591Z"
   },
   {
    "duration": 59,
    "start_time": "2023-10-17T07:19:47.258Z"
   },
   {
    "duration": 41,
    "start_time": "2023-10-17T07:19:51.405Z"
   },
   {
    "duration": 9,
    "start_time": "2023-10-17T07:21:17.454Z"
   },
   {
    "duration": 9,
    "start_time": "2023-10-17T07:21:29.959Z"
   },
   {
    "duration": 5,
    "start_time": "2023-10-17T07:22:39.049Z"
   },
   {
    "duration": 8,
    "start_time": "2023-10-17T07:22:42.324Z"
   },
   {
    "duration": 815,
    "start_time": "2023-10-17T07:22:44.841Z"
   },
   {
    "duration": 4,
    "start_time": "2023-10-17T07:22:48.707Z"
   },
   {
    "duration": 1001,
    "start_time": "2023-10-17T07:22:51.866Z"
   },
   {
    "duration": 111,
    "start_time": "2023-10-17T07:22:56.647Z"
   },
   {
    "duration": 15,
    "start_time": "2023-10-17T07:22:59.683Z"
   },
   {
    "duration": 16,
    "start_time": "2023-10-17T07:23:01.987Z"
   },
   {
    "duration": 11,
    "start_time": "2023-10-17T07:24:07.403Z"
   },
   {
    "duration": 21,
    "start_time": "2023-10-17T07:24:11.835Z"
   },
   {
    "duration": 12,
    "start_time": "2023-10-17T07:25:45.546Z"
   },
   {
    "duration": 12,
    "start_time": "2023-10-17T07:26:28.345Z"
   },
   {
    "duration": 8,
    "start_time": "2023-10-17T08:11:16.773Z"
   },
   {
    "duration": 3,
    "start_time": "2023-10-17T08:11:29.775Z"
   },
   {
    "duration": 4,
    "start_time": "2023-10-17T08:11:31.260Z"
   },
   {
    "duration": 740,
    "start_time": "2023-10-17T08:11:33.085Z"
   },
   {
    "duration": 3,
    "start_time": "2023-10-17T08:11:37.069Z"
   },
   {
    "duration": 738,
    "start_time": "2023-10-17T08:13:56.196Z"
   },
   {
    "duration": 7,
    "start_time": "2023-10-17T08:15:23.561Z"
   },
   {
    "duration": 10,
    "start_time": "2023-10-17T08:16:52.791Z"
   },
   {
    "duration": 3,
    "start_time": "2023-10-17T08:17:51.686Z"
   },
   {
    "duration": 5,
    "start_time": "2023-10-17T08:17:56.046Z"
   },
   {
    "duration": 716,
    "start_time": "2023-10-17T08:17:58.814Z"
   },
   {
    "duration": 14,
    "start_time": "2023-10-17T08:18:01.421Z"
   },
   {
    "duration": 741,
    "start_time": "2023-10-17T08:18:04.790Z"
   },
   {
    "duration": 1187,
    "start_time": "2023-10-17T08:18:19.566Z"
   },
   {
    "duration": 655,
    "start_time": "2023-10-17T08:19:40.581Z"
   },
   {
    "duration": 14,
    "start_time": "2023-10-17T08:20:02.903Z"
   },
   {
    "duration": 1389,
    "start_time": "2023-10-17T08:25:04.484Z"
   },
   {
    "duration": 4,
    "start_time": "2023-10-17T08:25:21.348Z"
   },
   {
    "duration": 4,
    "start_time": "2023-10-17T08:25:22.468Z"
   },
   {
    "duration": 570,
    "start_time": "2023-10-17T08:25:24.296Z"
   },
   {
    "duration": 4,
    "start_time": "2023-10-17T08:25:25.884Z"
   },
   {
    "duration": 511,
    "start_time": "2023-10-17T08:25:29.036Z"
   },
   {
    "duration": 692,
    "start_time": "2023-10-17T08:25:33.941Z"
   },
   {
    "duration": 661,
    "start_time": "2023-10-17T08:25:51.893Z"
   },
   {
    "duration": 31,
    "start_time": "2023-10-17T08:27:27.713Z"
   },
   {
    "duration": 515,
    "start_time": "2023-10-17T08:27:37.346Z"
   },
   {
    "duration": 1655,
    "start_time": "2023-10-17T08:28:30.312Z"
   },
   {
    "duration": 1193,
    "start_time": "2023-10-17T08:29:33.049Z"
   },
   {
    "duration": 372,
    "start_time": "2023-10-17T08:29:37.574Z"
   },
   {
    "duration": 13,
    "start_time": "2023-10-17T08:29:41.998Z"
   },
   {
    "duration": 8,
    "start_time": "2023-10-17T08:29:46.391Z"
   },
   {
    "duration": 95,
    "start_time": "2023-10-17T08:33:41.678Z"
   },
   {
    "duration": 27,
    "start_time": "2023-10-17T08:34:41.306Z"
   },
   {
    "duration": 16,
    "start_time": "2023-10-17T08:36:03.816Z"
   },
   {
    "duration": 187,
    "start_time": "2023-10-17T08:36:47.568Z"
   },
   {
    "duration": 8,
    "start_time": "2023-10-17T08:40:41.883Z"
   },
   {
    "duration": 3243,
    "start_time": "2023-10-17T08:41:03.306Z"
   },
   {
    "duration": 1161,
    "start_time": "2023-10-17T08:44:43.999Z"
   },
   {
    "duration": 9,
    "start_time": "2023-10-17T08:45:14.103Z"
   },
   {
    "duration": 9,
    "start_time": "2023-10-17T08:45:31.286Z"
   },
   {
    "duration": 13,
    "start_time": "2023-10-17T08:47:13.745Z"
   },
   {
    "duration": 17,
    "start_time": "2023-10-17T08:47:42.196Z"
   },
   {
    "duration": 20,
    "start_time": "2023-10-17T08:48:18.541Z"
   },
   {
    "duration": 23,
    "start_time": "2023-10-17T08:48:35.958Z"
   },
   {
    "duration": 17,
    "start_time": "2023-10-17T08:49:05.635Z"
   },
   {
    "duration": 20,
    "start_time": "2023-10-17T08:49:19.442Z"
   },
   {
    "duration": 16,
    "start_time": "2023-10-17T08:49:40.505Z"
   },
   {
    "duration": 17,
    "start_time": "2023-10-17T08:49:49.745Z"
   },
   {
    "duration": 25,
    "start_time": "2023-10-17T08:49:57.529Z"
   },
   {
    "duration": 22,
    "start_time": "2023-10-17T08:50:16.951Z"
   },
   {
    "duration": 23,
    "start_time": "2023-10-17T08:50:25.017Z"
   },
   {
    "duration": 1042,
    "start_time": "2023-10-17T09:01:14.846Z"
   },
   {
    "duration": 518,
    "start_time": "2023-10-17T11:28:34.339Z"
   },
   {
    "duration": 16504,
    "start_time": "2023-10-17T11:28:38.751Z"
   },
   {
    "duration": 9406,
    "start_time": "2023-10-17T11:29:12.934Z"
   },
   {
    "duration": 17,
    "start_time": "2023-10-17T11:30:01.363Z"
   },
   {
    "duration": 2698,
    "start_time": "2023-10-17T11:30:03.543Z"
   },
   {
    "duration": 2618,
    "start_time": "2023-10-17T11:30:15.092Z"
   },
   {
    "duration": 3,
    "start_time": "2023-10-17T11:36:49.918Z"
   },
   {
    "duration": 4,
    "start_time": "2023-10-17T11:36:59.259Z"
   },
   {
    "duration": 699,
    "start_time": "2023-10-17T11:37:18.459Z"
   },
   {
    "duration": 4,
    "start_time": "2023-10-17T11:37:22.291Z"
   },
   {
    "duration": 879,
    "start_time": "2023-10-17T11:37:26.985Z"
   },
   {
    "duration": 1079,
    "start_time": "2023-10-17T11:37:33.083Z"
   },
   {
    "duration": 4158,
    "start_time": "2023-10-17T11:39:02.002Z"
   },
   {
    "duration": 7,
    "start_time": "2023-10-17T11:40:23.296Z"
   },
   {
    "duration": 15,
    "start_time": "2023-10-17T11:41:09.421Z"
   },
   {
    "duration": 626,
    "start_time": "2023-10-17T11:41:41.750Z"
   },
   {
    "duration": 86,
    "start_time": "2023-10-17T11:42:29.342Z"
   },
   {
    "duration": 621,
    "start_time": "2023-10-17T11:42:30.734Z"
   },
   {
    "duration": 31,
    "start_time": "2023-10-17T11:42:35.405Z"
   },
   {
    "duration": 2733,
    "start_time": "2023-10-17T11:42:38.021Z"
   },
   {
    "duration": 19,
    "start_time": "2023-10-17T11:51:58.014Z"
   },
   {
    "duration": 10,
    "start_time": "2023-10-17T11:52:21.805Z"
   },
   {
    "duration": 11,
    "start_time": "2023-10-17T11:52:48.478Z"
   },
   {
    "duration": 3,
    "start_time": "2023-10-17T11:53:18.982Z"
   },
   {
    "duration": 1037,
    "start_time": "2023-10-17T11:55:25.577Z"
   },
   {
    "duration": 1276,
    "start_time": "2023-10-17T11:55:44.578Z"
   },
   {
    "duration": 403,
    "start_time": "2023-10-17T12:02:30.435Z"
   },
   {
    "duration": 46,
    "start_time": "2023-10-17T12:02:33.922Z"
   },
   {
    "duration": 431,
    "start_time": "2023-10-17T12:02:36.356Z"
   },
   {
    "duration": 12,
    "start_time": "2023-10-17T12:03:35.000Z"
   },
   {
    "duration": 9,
    "start_time": "2023-10-17T12:03:47.794Z"
   },
   {
    "duration": 27,
    "start_time": "2023-10-17T12:05:05.651Z"
   },
   {
    "duration": 14,
    "start_time": "2023-10-17T12:05:17.952Z"
   },
   {
    "duration": 4,
    "start_time": "2023-10-17T12:05:28.360Z"
   },
   {
    "duration": 1408,
    "start_time": "2023-10-17T12:05:32.744Z"
   },
   {
    "duration": 6517,
    "start_time": "2023-10-17T12:10:01.750Z"
   },
   {
    "duration": 9,
    "start_time": "2023-10-17T12:19:20.207Z"
   },
   {
    "duration": 6,
    "start_time": "2023-10-17T12:19:54.537Z"
   },
   {
    "duration": 4,
    "start_time": "2023-10-17T12:19:56.946Z"
   },
   {
    "duration": 649,
    "start_time": "2023-10-17T12:19:58.783Z"
   },
   {
    "duration": 4,
    "start_time": "2023-10-17T12:20:01.509Z"
   },
   {
    "duration": 503,
    "start_time": "2023-10-17T12:20:03.558Z"
   },
   {
    "duration": 35,
    "start_time": "2023-10-17T12:20:06.491Z"
   },
   {
    "duration": 433,
    "start_time": "2023-10-17T12:20:07.543Z"
   },
   {
    "duration": 11,
    "start_time": "2023-10-17T12:20:10.997Z"
   },
   {
    "duration": 4,
    "start_time": "2023-10-17T12:22:09.693Z"
   },
   {
    "duration": 7,
    "start_time": "2023-10-17T12:22:14.565Z"
   },
   {
    "duration": 163,
    "start_time": "2023-10-17T12:22:38.810Z"
   },
   {
    "duration": 4,
    "start_time": "2023-10-17T12:23:50.147Z"
   },
   {
    "duration": 4,
    "start_time": "2023-10-17T12:23:52.383Z"
   },
   {
    "duration": 441,
    "start_time": "2023-10-17T12:23:54.944Z"
   },
   {
    "duration": 4,
    "start_time": "2023-10-17T12:23:58.146Z"
   },
   {
    "duration": 423,
    "start_time": "2023-10-17T12:24:00.240Z"
   },
   {
    "duration": 27,
    "start_time": "2023-10-17T12:24:03.992Z"
   },
   {
    "duration": 367,
    "start_time": "2023-10-17T12:24:06.225Z"
   },
   {
    "duration": 7,
    "start_time": "2023-10-17T12:34:24.293Z"
   },
   {
    "duration": 19,
    "start_time": "2023-10-17T12:35:29.737Z"
   },
   {
    "duration": 10,
    "start_time": "2023-10-17T12:35:33.103Z"
   },
   {
    "duration": 10,
    "start_time": "2023-10-17T12:35:38.400Z"
   },
   {
    "duration": 10,
    "start_time": "2023-10-17T12:35:42.481Z"
   },
   {
    "duration": 11,
    "start_time": "2023-10-17T12:35:45.735Z"
   },
   {
    "duration": 4,
    "start_time": "2023-10-17T12:35:46.638Z"
   },
   {
    "duration": 9,
    "start_time": "2023-10-17T12:36:24.390Z"
   },
   {
    "duration": 13,
    "start_time": "2023-10-17T12:36:27.030Z"
   },
   {
    "duration": 16,
    "start_time": "2023-10-17T12:36:29.132Z"
   },
   {
    "duration": 11,
    "start_time": "2023-10-17T12:36:31.150Z"
   },
   {
    "duration": 5,
    "start_time": "2023-10-17T12:36:31.989Z"
   },
   {
    "duration": 7459,
    "start_time": "2023-10-17T12:36:33.290Z"
   },
   {
    "duration": 18,
    "start_time": "2023-10-17T12:42:50.896Z"
   },
   {
    "duration": 82,
    "start_time": "2023-10-17T12:43:23.794Z"
   },
   {
    "duration": 3586,
    "start_time": "2023-10-17T12:43:26.961Z"
   },
   {
    "duration": 19,
    "start_time": "2023-10-17T12:43:43.822Z"
   }
  ],
  "colab": {
   "name": "PySparkSprint.ipynb",
   "provenance": []
  },
  "kernelspec": {
   "display_name": "Python 3 (ipykernel)",
   "language": "python",
   "name": "python3"
  },
  "language_info": {
   "codemirror_mode": {
    "name": "ipython",
    "version": 3
   },
   "file_extension": ".py",
   "mimetype": "text/x-python",
   "name": "python",
   "nbconvert_exporter": "python",
   "pygments_lexer": "ipython3",
   "version": "3.11.5"
  },
  "toc": {
   "base_numbering": 1,
   "nav_menu": {},
   "number_sections": true,
   "sideBar": true,
   "skip_h1_title": true,
   "title_cell": "Table of Contents",
   "title_sidebar": "Contents",
   "toc_cell": false,
   "toc_position": {},
   "toc_section_display": true,
   "toc_window_display": false
  }
 },
 "nbformat": 4,
 "nbformat_minor": 5
}
