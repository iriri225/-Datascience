{
 "cells": [
  {
   "cell_type": "markdown",
   "metadata": {
    "toc": true
   },
   "source": [
    "<h1>Содержание<span class=\"tocSkip\"></span></h1>\n",
    "<div class=\"toc\"><ul class=\"toc-item\"><li><span><a href=\"#Подготовка\" data-toc-modified-id=\"Подготовка-1\"><span class=\"toc-item-num\">1&nbsp;&nbsp;</span>Подготовка</a></span></li><li><span><a href=\"#Обучение\" data-toc-modified-id=\"Обучение-2\"><span class=\"toc-item-num\">2&nbsp;&nbsp;</span>Обучение</a></span></li><li><span><a href=\"#Выводы\" data-toc-modified-id=\"Выводы-3\"><span class=\"toc-item-num\">3&nbsp;&nbsp;</span>Выводы</a></span></li><li><span><a href=\"#Чек-лист-проверки\" data-toc-modified-id=\"Чек-лист-проверки-4\"><span class=\"toc-item-num\">4&nbsp;&nbsp;</span>Чек-лист проверки</a></span></li></ul></div>"
   ]
  },
  {
   "cell_type": "markdown",
   "metadata": {},
   "source": [
    "# Проект для «Викишоп»"
   ]
  },
  {
   "cell_type": "markdown",
   "metadata": {},
   "source": [
    "Интернет-магазин «Викишоп» запускает новый сервис. Теперь пользователи могут редактировать и дополнять описания товаров, как в вики-сообществах. То есть клиенты предлагают свои правки и комментируют изменения других. Магазину нужен инструмент, который будет искать токсичные комментарии и отправлять их на модерацию. \n",
    "\n",
    "Обучите модель классифицировать комментарии на позитивные и негативные. В вашем распоряжении набор данных с разметкой о токсичности правок.\n",
    "\n",
    "Постройте модель со значением метрики качества *F1* не меньше 0.75. \n",
    "\n",
    "**Инструкция по выполнению проекта**\n",
    "\n",
    "1. Загрузите и подготовьте данные.\n",
    "2. Обучите разные модели. \n",
    "3. Сделайте выводы.\n",
    "\n",
    "Для выполнения проекта применять *BERT* необязательно, но вы можете попробовать.\n",
    "\n",
    "**Описание данных**\n",
    "\n",
    "Данные находятся в файле `toxic_comments.csv`. Столбец *text* в нём содержит текст комментария, а *toxic* — целевой признак."
   ]
  },
  {
   "cell_type": "code",
   "execution_count": 1,
   "metadata": {},
   "outputs": [
    {
     "name": "stderr",
     "output_type": "stream",
     "text": [
      "[nltk_data] Downloading package stopwords to /home/jovyan/nltk_data...\n",
      "[nltk_data]   Package stopwords is already up-to-date!\n",
      "[nltk_data] Downloading package averaged_perceptron_tagger to\n",
      "[nltk_data]     /home/jovyan/nltk_data...\n",
      "[nltk_data]   Package averaged_perceptron_tagger is already up-to-\n",
      "[nltk_data]       date!\n"
     ]
    }
   ],
   "source": [
    "import pandas as pd\n",
    "import re\n",
    "import nltk\n",
    "nltk.download('stopwords')\n",
    "nltk.download('averaged_perceptron_tagger')\n",
    "from nltk.corpus import stopwords as nltk_stopwords\n",
    "from sklearn.feature_extraction.text import TfidfVectorizer\n",
    "from sklearn.linear_model import LogisticRegression\n",
    "from sklearn.pipeline import Pipeline\n",
    "from sklearn.model_selection import GridSearchCV\n",
    "from sklearn.metrics import f1_score\n",
    "import numpy as np\n",
    "from pymystem3 import Mystem\n",
    "m = Mystem()\n",
    "from sklearn.model_selection import train_test_split\n",
    "import warnings\n",
    "warnings.filterwarnings('ignore')\n",
    "from nltk.corpus import stopwords as nltk_stopwords\n",
    "from nltk.corpus import wordnet\n",
    "from nltk.stem import WordNetLemmatizer"
   ]
  },
  {
   "cell_type": "code",
   "execution_count": 2,
   "metadata": {},
   "outputs": [],
   "source": [
    "from sklearn.feature_extraction.text import TfidfVectorizer, CountVectorizer\n",
    "from sklearn.linear_model import LogisticRegression\n",
    "from sklearn.pipeline import Pipeline\n",
    "from sklearn import metrics\n",
    "from sklearn.metrics import f1_score\n",
    "import nltk\n",
    "#from nltk.corpus import stopwords as nltk_stopwords\n",
    "import spacy\n",
    "from sklearn.utils import shuffle\n",
    "from sklearn.ensemble import RandomForestClassifier"
   ]
  },
  {
   "cell_type": "markdown",
   "metadata": {},
   "source": [
    "## Подготовка"
   ]
  },
  {
   "cell_type": "code",
   "execution_count": 3,
   "metadata": {
    "scrolled": true
   },
   "outputs": [
    {
     "data": {
      "text/plain": [
       "<bound method NDFrame.head of         Unnamed: 0                                               text  toxic\n",
       "0                0  Explanation\\nWhy the edits made under my usern...      0\n",
       "1                1  D'aww! He matches this background colour I'm s...      0\n",
       "2                2  Hey man, I'm really not trying to edit war. It...      0\n",
       "3                3  \"\\nMore\\nI can't make any real suggestions on ...      0\n",
       "4                4  You, sir, are my hero. Any chance you remember...      0\n",
       "...            ...                                                ...    ...\n",
       "159287      159446  \":::::And for the second time of asking, when ...      0\n",
       "159288      159447  You should be ashamed of yourself \\n\\nThat is ...      0\n",
       "159289      159448  Spitzer \\n\\nUmm, theres no actual article for ...      0\n",
       "159290      159449  And it looks like it was actually you who put ...      0\n",
       "159291      159450  \"\\nAnd ... I really don't think you understand...      0\n",
       "\n",
       "[159292 rows x 3 columns]>"
      ]
     },
     "execution_count": 3,
     "metadata": {},
     "output_type": "execute_result"
    }
   ],
   "source": [
    "df = pd.read_csv('/datasets/toxic_comments.csv')\n",
    "df.head"
   ]
  },
  {
   "cell_type": "code",
   "execution_count": 4,
   "metadata": {},
   "outputs": [
    {
     "data": {
      "text/plain": [
       "0         Explanation\\nWhy the edits made under my usern...\n",
       "1         D'aww! He matches this background colour I'm s...\n",
       "2         Hey man, I'm really not trying to edit war. It...\n",
       "3         \"\\nMore\\nI can't make any real suggestions on ...\n",
       "4         You, sir, are my hero. Any chance you remember...\n",
       "                                ...                        \n",
       "159287    \":::::And for the second time of asking, when ...\n",
       "159288    You should be ashamed of yourself \\n\\nThat is ...\n",
       "159289    Spitzer \\n\\nUmm, theres no actual article for ...\n",
       "159290    And it looks like it was actually you who put ...\n",
       "159291    \"\\nAnd ... I really don't think you understand...\n",
       "Name: text, Length: 159292, dtype: object"
      ]
     },
     "execution_count": 4,
     "metadata": {},
     "output_type": "execute_result"
    }
   ],
   "source": [
    "df.text"
   ]
  },
  {
   "cell_type": "code",
   "execution_count": 5,
   "metadata": {},
   "outputs": [],
   "source": [
    "#удаляю столбец Unnamed:\n",
    "df = df.drop(['Unnamed: 0'], axis=1)"
   ]
  },
  {
   "cell_type": "code",
   "execution_count": 6,
   "metadata": {},
   "outputs": [],
   "source": [
    "#ввожу функцию очищения текстов постов:\n",
    "def clear_text(text):\n",
    "    text = text.lower()\n",
    "    text = re.sub(r'[^a-zA-Z]', ' ', text)   \n",
    "    text = ' '.join(text.split())\n",
    "    return text"
   ]
  },
  {
   "cell_type": "code",
   "execution_count": 7,
   "metadata": {},
   "outputs": [
    {
     "name": "stdout",
     "output_type": "stream",
     "text": [
      "CPU times: user 4.55 s, sys: 43.7 ms, total: 4.59 s\n",
      "Wall time: 4.59 s\n"
     ]
    }
   ],
   "source": [
    "%%time\n",
    "#очищаю тексты постов:\n",
    "df['text'] = df['text'].apply(clear_text) "
   ]
  },
  {
   "cell_type": "code",
   "execution_count": 8,
   "metadata": {},
   "outputs": [
    {
     "data": {
      "text/html": [
       "<div>\n",
       "<style scoped>\n",
       "    .dataframe tbody tr th:only-of-type {\n",
       "        vertical-align: middle;\n",
       "    }\n",
       "\n",
       "    .dataframe tbody tr th {\n",
       "        vertical-align: top;\n",
       "    }\n",
       "\n",
       "    .dataframe thead th {\n",
       "        text-align: right;\n",
       "    }\n",
       "</style>\n",
       "<table border=\"1\" class=\"dataframe\">\n",
       "  <thead>\n",
       "    <tr style=\"text-align: right;\">\n",
       "      <th></th>\n",
       "      <th>text</th>\n",
       "      <th>toxic</th>\n",
       "    </tr>\n",
       "  </thead>\n",
       "  <tbody>\n",
       "    <tr>\n",
       "      <th>0</th>\n",
       "      <td>explanation why the edits made under my userna...</td>\n",
       "      <td>0</td>\n",
       "    </tr>\n",
       "    <tr>\n",
       "      <th>1</th>\n",
       "      <td>d aww he matches this background colour i m se...</td>\n",
       "      <td>0</td>\n",
       "    </tr>\n",
       "    <tr>\n",
       "      <th>2</th>\n",
       "      <td>hey man i m really not trying to edit war it s...</td>\n",
       "      <td>0</td>\n",
       "    </tr>\n",
       "    <tr>\n",
       "      <th>3</th>\n",
       "      <td>more i can t make any real suggestions on impr...</td>\n",
       "      <td>0</td>\n",
       "    </tr>\n",
       "    <tr>\n",
       "      <th>4</th>\n",
       "      <td>you sir are my hero any chance you remember wh...</td>\n",
       "      <td>0</td>\n",
       "    </tr>\n",
       "  </tbody>\n",
       "</table>\n",
       "</div>"
      ],
      "text/plain": [
       "                                                text  toxic\n",
       "0  explanation why the edits made under my userna...      0\n",
       "1  d aww he matches this background colour i m se...      0\n",
       "2  hey man i m really not trying to edit war it s...      0\n",
       "3  more i can t make any real suggestions on impr...      0\n",
       "4  you sir are my hero any chance you remember wh...      0"
      ]
     },
     "execution_count": 8,
     "metadata": {},
     "output_type": "execute_result"
    }
   ],
   "source": [
    "df.head()"
   ]
  },
  {
   "cell_type": "markdown",
   "metadata": {},
   "source": [
    "Произведем очистку данных от разделителей и заглавных символов"
   ]
  },
  {
   "cell_type": "code",
   "execution_count": 9,
   "metadata": {},
   "outputs": [],
   "source": [
    "#def cleaning(text):\n",
    "  #  text = re.sub(r\"(?:\\n|\\r)\", \" \", text)\n",
    "   # text = re.sub(r\"[^a-zA-Z ]+\", \"\", text).strip()\n",
    "    #text = text.lower()\n",
    "    #return text\n",
    "\n",
    "# df['text'] = df['text'].apply(cleaning)"
   ]
  },
  {
   "cell_type": "code",
   "execution_count": 10,
   "metadata": {},
   "outputs": [
    {
     "name": "stdout",
     "output_type": "stream",
     "text": [
      "0    explanation why the edits made under my userna...\n",
      "1    d aww he matches this background colour i m se...\n",
      "2    hey man i m really not trying to edit war it s...\n",
      "Name: text, dtype: object\n"
     ]
    }
   ],
   "source": [
    "print(df.text[:3])"
   ]
  },
  {
   "cell_type": "markdown",
   "metadata": {},
   "source": [
    "Проведем лемматизацию"
   ]
  },
  {
   "cell_type": "code",
   "execution_count": 11,
   "metadata": {},
   "outputs": [],
   "source": [
    "#corpus = df['text'].values.astype('U')\n",
    "#def lemmatize(text):\n",
    " #   lemm = m.lemmatize(text)\n",
    "  #  return \"\".join(lemm)\n",
    "\n",
    "#corpus[0] = lemmatize(corpus[0])\n",
    "#corpus"
   ]
  },
  {
   "cell_type": "code",
   "execution_count": 12,
   "metadata": {},
   "outputs": [],
   "source": [
    "#ввожу функцию РОS-тэгирования слов:\n",
    "def get_wordnet_pos(word):\n",
    "    tag = nltk.pos_tag([word])[0][1][0].upper()\n",
    "    tag_dict = {\"J\": wordnet.ADJ,               #прилагательное\n",
    "                \"N\": wordnet.NOUN,              #существительное\n",
    "                \"V\": wordnet.VERB,              #глагол\n",
    "                \"R\": wordnet.ADV                #наречие\n",
    "               }  \n",
    "    return tag_dict.get(tag, wordnet.NOUN)\n",
    "\n",
    "lemmatizer = WordNetLemmatizer()\n",
    "\n",
    "#ввожу функцию леммализации тектов постов:\n",
    "def lemm_text(text):\n",
    "    text = [lemmatizer.lemmatize(w, get_wordnet_pos(w)) for w in nltk.word_tokenize(text)]\n",
    "    return ' '.join(text)"
   ]
  },
  {
   "cell_type": "code",
   "execution_count": 13,
   "metadata": {},
   "outputs": [
    {
     "name": "stdout",
     "output_type": "stream",
     "text": [
      "CPU times: user 17min 16s, sys: 1min 24s, total: 18min 40s\n",
      "Wall time: 18min 41s\n"
     ]
    }
   ],
   "source": [
    "%%time\n",
    "#леммализирую тексты постов:\n",
    "df['text'] = df['text'].apply(lemm_text) "
   ]
  },
  {
   "cell_type": "code",
   "execution_count": 14,
   "metadata": {},
   "outputs": [
    {
     "data": {
      "text/html": [
       "<div>\n",
       "<style scoped>\n",
       "    .dataframe tbody tr th:only-of-type {\n",
       "        vertical-align: middle;\n",
       "    }\n",
       "\n",
       "    .dataframe tbody tr th {\n",
       "        vertical-align: top;\n",
       "    }\n",
       "\n",
       "    .dataframe thead th {\n",
       "        text-align: right;\n",
       "    }\n",
       "</style>\n",
       "<table border=\"1\" class=\"dataframe\">\n",
       "  <thead>\n",
       "    <tr style=\"text-align: right;\">\n",
       "      <th></th>\n",
       "      <th>text</th>\n",
       "      <th>toxic</th>\n",
       "    </tr>\n",
       "  </thead>\n",
       "  <tbody>\n",
       "    <tr>\n",
       "      <th>0</th>\n",
       "      <td>explanation why the edits make under my userna...</td>\n",
       "      <td>0</td>\n",
       "    </tr>\n",
       "    <tr>\n",
       "      <th>1</th>\n",
       "      <td>d aww he match this background colour i m seem...</td>\n",
       "      <td>0</td>\n",
       "    </tr>\n",
       "    <tr>\n",
       "      <th>2</th>\n",
       "      <td>hey man i m really not try to edit war it s ju...</td>\n",
       "      <td>0</td>\n",
       "    </tr>\n",
       "    <tr>\n",
       "      <th>3</th>\n",
       "      <td>more i can t make any real suggestion on impro...</td>\n",
       "      <td>0</td>\n",
       "    </tr>\n",
       "    <tr>\n",
       "      <th>4</th>\n",
       "      <td>you sir be my hero any chance you remember wha...</td>\n",
       "      <td>0</td>\n",
       "    </tr>\n",
       "  </tbody>\n",
       "</table>\n",
       "</div>"
      ],
      "text/plain": [
       "                                                text  toxic\n",
       "0  explanation why the edits make under my userna...      0\n",
       "1  d aww he match this background colour i m seem...      0\n",
       "2  hey man i m really not try to edit war it s ju...      0\n",
       "3  more i can t make any real suggestion on impro...      0\n",
       "4  you sir be my hero any chance you remember wha...      0"
      ]
     },
     "execution_count": 14,
     "metadata": {},
     "output_type": "execute_result"
    }
   ],
   "source": [
    "df.head()"
   ]
  },
  {
   "cell_type": "code",
   "execution_count": 15,
   "metadata": {},
   "outputs": [],
   "source": [
    "#разделяю выборки в соотношении 80/10/10:\n",
    "features = df.drop(['toxic'], axis=1) \n",
    "target = df.toxic\n",
    "\n",
    "features_train, features_valid, target_train, target_valid = train_test_split(features, \n",
    "                                                                              target, \n",
    "                                                                              test_size=.2, \n",
    "                                                                              random_state=12345)\n",
    "\n",
    "features_valid, features_test, target_valid, target_test = train_test_split(features_valid, \n",
    "                                                                            target_valid, \n",
    "                                                                            test_size=.5,\n",
    "                                                                            random_state=12345)"
   ]
  },
  {
   "cell_type": "code",
   "execution_count": 16,
   "metadata": {},
   "outputs": [
    {
     "name": "stdout",
     "output_type": "stream",
     "text": [
      "(127433, 1)\n",
      "(127433,)\n",
      "(15929, 1)\n",
      "(15929,)\n",
      "(15930, 1)\n",
      "(15930,)\n"
     ]
    }
   ],
   "source": [
    "#смотрю размеры выборок:\n",
    "for i in [features_train, target_train, features_valid, target_valid, features_test, target_test]:\n",
    "    print(i.shape)"
   ]
  },
  {
   "cell_type": "code",
   "execution_count": 17,
   "metadata": {},
   "outputs": [
    {
     "name": "stdout",
     "output_type": "stream",
     "text": [
      "Доля значений 1 в тренировочной выборке: 0.10166911239631807\n"
     ]
    }
   ],
   "source": [
    "#смотрю соотношение 1/0 в выборках на примере target_train:\n",
    "indices_1 = [i for i,x in enumerate(target_train) if x == 1]\n",
    "count_1 = len(indices_1)\n",
    "\n",
    "indices_0 = [i for i,x in enumerate(target_train) if x == 0]\n",
    "count_0 = len(indices_0)\n",
    "\n",
    "print('Доля значений 1 в тренировочной выборке:', len(indices_1) / (len(indices_1) + len(indices_0)))"
   ]
  },
  {
   "cell_type": "code",
   "execution_count": 18,
   "metadata": {},
   "outputs": [
    {
     "name": "stdout",
     "output_type": "stream",
     "text": [
      "Соотношение 1/0 в тренировочной выборке:\n",
      "0    0.5\n",
      "1    0.5\n",
      "Name: toxic, dtype: float64\n",
      "\n",
      "(25912,)\n",
      "(25912,)\n"
     ]
    }
   ],
   "source": [
    "#уменьшаю кол-во 0 в выборках train:\n",
    "\n",
    "df_train = df.iloc[target_train.index]\n",
    "target_train_0 = df_train[df_train['toxic'] == 0]['toxic']\n",
    "target_train_1 = df_train[df_train['toxic'] == 1]['toxic']\n",
    "\n",
    "\n",
    "target_train_0_resample = target_train_0.sample(target_train_1.shape[0], random_state=12345)\n",
    "target_train_resample = pd.concat([target_train_0_resample, target_train_1])\n",
    "\n",
    "features_train_resample = df.iloc[target_train_resample.index]\n",
    "\n",
    "features_train_resample, target_train_resample = shuffle(features_train_resample,\n",
    "                                                         target_train_resample,\n",
    "                                                         random_state=12345)\n",
    "\n",
    "features_train_resample = features_train_resample.text \n",
    "\n",
    "print('Соотношение 1/0 в тренировочной выборке:')\n",
    "print(target_train_resample.value_counts(normalize=True))\n",
    "print()\n",
    "print(features_train_resample.shape)\n",
    "print(target_train_resample.shape)"
   ]
  },
  {
   "cell_type": "markdown",
   "metadata": {},
   "source": [
    "Выводы: При подготовке данных:\n",
    "\n",
    " * Удален ненужный столбец\n",
    " * Проведена очиста текстов комментариев от ненужных знаков, леммализировал, убрал стоп-слова\n",
    " * Сбалансированы данные в целевом признаке"
   ]
  },
  {
   "cell_type": "markdown",
   "metadata": {},
   "source": [
    "## Обучение"
   ]
  },
  {
   "cell_type": "markdown",
   "metadata": {},
   "source": [
    "Список стоп слов"
   ]
  },
  {
   "cell_type": "code",
   "execution_count": 19,
   "metadata": {},
   "outputs": [],
   "source": [
    "stopwords = set(nltk_stopwords.words('english'))"
   ]
  },
  {
   "cell_type": "markdown",
   "metadata": {},
   "source": [
    "Разделим выборки"
   ]
  },
  {
   "cell_type": "code",
   "execution_count": 20,
   "metadata": {},
   "outputs": [
    {
     "data": {
      "text/plain": [
       "(107521, 35841, 15930)"
      ]
     },
     "execution_count": 20,
     "metadata": {},
     "output_type": "execute_result"
    }
   ],
   "source": [
    "target=df['toxic'].values\n",
    "features = df['text']\n",
    "f_other, f_test, t_other, t_test = train_test_split(features, target, test_size = .1, random_state = 42)\n",
    "f_train, f_valid, t_train, t_valid = train_test_split(f_other, t_other, shuffle=False, test_size=0.25, random_state = 42)\n",
    "\n",
    "f_train.shape[0], f_valid.shape[0], f_test.shape[0]"
   ]
  },
  {
   "cell_type": "markdown",
   "metadata": {},
   "source": [
    "Выполним TFIDF векторизацию"
   ]
  },
  {
   "cell_type": "code",
   "execution_count": 21,
   "metadata": {},
   "outputs": [],
   "source": [
    "\n",
    "count_tf_idf = TfidfVectorizer(stop_words=stopwords)\n",
    "tfidf_train = count_tf_idf.fit_transform(f_train)\n",
    "tfidf_valid = count_tf_idf.transform(f_valid)\n",
    "tfidf_test = count_tf_idf.transform(f_test)"
   ]
  },
  {
   "cell_type": "markdown",
   "metadata": {},
   "source": [
    "Произведем подбор параметров"
   ]
  },
  {
   "cell_type": "code",
   "execution_count": 22,
   "metadata": {},
   "outputs": [
    {
     "name": "stdout",
     "output_type": "stream",
     "text": [
      "Fitting 3 folds for each of 10 candidates, totalling 30 fits\n",
      "Best parameters is: {'model': LogisticRegression(C=4, penalty='l1', random_state=42, solver='liblinear'), 'model__C': 4, 'model__penalty': 'l1'}\n",
      "Best score is: 0.7642355461017781\n",
      "CPU times: user 1min 34s, sys: 1min 6s, total: 2min 40s\n",
      "Wall time: 2min 40s\n"
     ]
    }
   ],
   "source": [
    "%%time\n",
    "pipe = Pipeline([\n",
    "    (\n",
    "    ('model', LogisticRegression(random_state=1, solver='liblinear', max_iter=200))\n",
    "    )\n",
    "    ])\n",
    "\n",
    "\n",
    "param_grid = [\n",
    "        {\n",
    "\n",
    "            'model': [LogisticRegression(random_state=42, solver='liblinear')],\n",
    "            'model__penalty' : ['l1', 'l2'],\n",
    "            'model__C': list(range(1,15,3))\n",
    "        }\n",
    "]\n",
    "grid = GridSearchCV(pipe, param_grid=param_grid, scoring='f1', cv=3, verbose=True, n_jobs=-1)\n",
    "best_grid = grid.fit(tfidf_train, t_train)\n",
    "print('Best parameters is:', grid.best_params_)\n",
    "print('Best score is:', grid.best_score_)"
   ]
  },
  {
   "cell_type": "code",
   "execution_count": 23,
   "metadata": {},
   "outputs": [
    {
     "name": "stdout",
     "output_type": "stream",
     "text": [
      "Fitting 3 folds for each of 60 candidates, totalling 180 fits\n",
      "Best parameters is: {'max_depth': 5, 'max_features': 1, 'n_estimators': 40}\n",
      "Best score is: 0.0\n",
      "CPU times: user 7min 22s, sys: 4.91 s, total: 7min 26s\n",
      "Wall time: 7min 27s\n"
     ]
    }
   ],
   "source": [
    "%%time\n",
    "params_forest = {\n",
    "    'n_estimators': list(range(40,150,40)),\n",
    "    'max_depth':[5,15],\n",
    "    'max_features' : list(range(1,20, 2))\n",
    "}\n",
    "\n",
    "\n",
    "model_forest = RandomForestClassifier(random_state=12345)\n",
    "                                 \n",
    "grid = GridSearchCV(model_forest, param_grid=params_forest, scoring='f1', cv=3, verbose=True, n_jobs=-1)\n",
    "best_grid = grid.fit(tfidf_train, t_train)\n",
    "print('Best parameters is:', grid.best_params_)\n",
    "print('Best score is:', grid.best_score_)"
   ]
  },
  {
   "cell_type": "markdown",
   "metadata": {},
   "source": [
    "Произведем обучение модели регрессии"
   ]
  },
  {
   "cell_type": "code",
   "execution_count": 24,
   "metadata": {},
   "outputs": [
    {
     "data": {
      "text/plain": [
       "0.7832395617411905"
      ]
     },
     "execution_count": 24,
     "metadata": {},
     "output_type": "execute_result"
    }
   ],
   "source": [
    "model = LogisticRegression(random_state=42, C = 4, penalty = 'l1', solver='liblinear', max_iter=200)\n",
    "model.fit(tfidf_train, t_train)\n",
    "valid_pred = model.predict(tfidf_valid)\n",
    "f1_score(t_valid, valid_pred)"
   ]
  },
  {
   "cell_type": "code",
   "execution_count": 25,
   "metadata": {},
   "outputs": [
    {
     "name": "stdout",
     "output_type": "stream",
     "text": [
      "              precision    recall  f1-score   support\n",
      "\n",
      "           0       0.97      0.99      0.98     14314\n",
      "           1       0.87      0.71      0.78      1616\n",
      "\n",
      "    accuracy                           0.96     15930\n",
      "   macro avg       0.92      0.85      0.88     15930\n",
      "weighted avg       0.96      0.96      0.96     15930\n",
      " 0.7794417971409122\n"
     ]
    }
   ],
   "source": [
    "test_pred = model.predict(tfidf_test)\n",
    "print(metrics.classification_report(t_test, test_pred), metrics.f1_score(t_test, test_pred))"
   ]
  },
  {
   "cell_type": "code",
   "execution_count": 26,
   "metadata": {},
   "outputs": [],
   "source": [
    "#model_forest = RandomForestClassifier(max_depth=5, max_features=1, n_estimators = 50)\n",
    "#model_forest.fit(tfidf_train, t_train)\n",
    "#valid_pred_f = model_forest.predict(tfidf_valid)\n",
    "#f1_score(t_valid, valid_pred_f)"
   ]
  },
  {
   "cell_type": "markdown",
   "metadata": {},
   "source": [
    "## Выводы"
   ]
  },
  {
   "cell_type": "markdown",
   "metadata": {},
   "source": [
    "Необходимая модель найдена, результат полученный на тестовой выборке удовлетворяет условию, в данных не найдены пропуски и дубликаты. Лучшая модель основанна на алгоритме LogisticRegression\n",
    "\n",
    "F1=0.7832 - модель обучилась с качеством не менее 0.75"
   ]
  },
  {
   "cell_type": "markdown",
   "metadata": {},
   "source": [
    "- [x]  Jupyter Notebook открыт\n",
    "- [ ]  Весь код выполняется без ошибок\n",
    "- [ ]  Ячейки с кодом расположены в порядке исполнения\n",
    "- [ ]  Данные загружены и подготовлены\n",
    "- [ ]  Модели обучены\n",
    "- [ ]  Значение метрики *F1* не меньше 0.75\n",
    "- [ ]  Выводы написаны"
   ]
  }
 ],
 "metadata": {
  "ExecuteTimeLog": [
   {
    "duration": 2392,
    "start_time": "2023-12-28T02:18:01.292Z"
   },
   {
    "duration": 29,
    "start_time": "2023-12-28T02:18:32.570Z"
   },
   {
    "duration": 2382,
    "start_time": "2023-12-28T02:18:47.346Z"
   },
   {
    "duration": 8,
    "start_time": "2023-12-28T02:19:06.427Z"
   },
   {
    "duration": 2883,
    "start_time": "2023-12-28T02:20:41.587Z"
   },
   {
    "duration": 3,
    "start_time": "2023-12-28T02:20:53.475Z"
   },
   {
    "duration": 115,
    "start_time": "2023-12-28T02:21:26.587Z"
   },
   {
    "duration": 3169,
    "start_time": "2023-12-28T02:21:55.917Z"
   },
   {
    "duration": 73,
    "start_time": "2023-12-28T02:31:05.607Z"
   },
   {
    "duration": 120,
    "start_time": "2023-12-28T02:31:48.599Z"
   },
   {
    "duration": 4,
    "start_time": "2023-12-28T02:31:58.151Z"
   },
   {
    "duration": 55,
    "start_time": "2023-12-28T02:31:59.407Z"
   },
   {
    "duration": 7565,
    "start_time": "2023-12-28T02:32:00.631Z"
   },
   {
    "duration": 187130,
    "start_time": "2023-12-28T02:32:52.184Z"
   },
   {
    "duration": 1512,
    "start_time": "2023-12-28T02:37:18.220Z"
   },
   {
    "duration": 27,
    "start_time": "2023-12-28T02:37:19.733Z"
   },
   {
    "duration": 931,
    "start_time": "2023-12-28T02:37:19.762Z"
   },
   {
    "duration": 5,
    "start_time": "2023-12-28T02:37:20.695Z"
   },
   {
    "duration": 2569,
    "start_time": "2023-12-28T02:37:20.701Z"
   },
   {
    "duration": 4,
    "start_time": "2023-12-28T02:37:23.272Z"
   },
   {
    "duration": 3134,
    "start_time": "2023-12-28T02:37:23.277Z"
   },
   {
    "duration": 5,
    "start_time": "2023-12-28T02:37:26.414Z"
   },
   {
    "duration": 72,
    "start_time": "2023-12-28T02:37:26.421Z"
   },
   {
    "duration": 7556,
    "start_time": "2023-12-28T02:37:26.516Z"
   },
   {
    "duration": 190252,
    "start_time": "2023-12-28T02:37:34.073Z"
   },
   {
    "duration": 1114181,
    "start_time": "2023-12-28T02:40:44.327Z"
   },
   {
    "duration": 1609,
    "start_time": "2023-12-28T02:59:18.509Z"
   },
   {
    "duration": 28,
    "start_time": "2023-12-28T02:59:20.120Z"
   },
   {
    "duration": 881,
    "start_time": "2023-12-28T02:59:20.150Z"
   },
   {
    "duration": 74,
    "start_time": "2023-12-28T02:59:21.032Z"
   },
   {
    "duration": 1529,
    "start_time": "2023-12-28T02:59:49.839Z"
   },
   {
    "duration": 26,
    "start_time": "2023-12-28T02:59:51.370Z"
   },
   {
    "duration": 1029,
    "start_time": "2023-12-28T02:59:51.398Z"
   },
   {
    "duration": 7,
    "start_time": "2023-12-28T02:59:52.431Z"
   },
   {
    "duration": 2912,
    "start_time": "2023-12-28T02:59:52.441Z"
   },
   {
    "duration": 4,
    "start_time": "2023-12-28T02:59:55.354Z"
   },
   {
    "duration": 3230,
    "start_time": "2023-12-28T02:59:55.360Z"
   },
   {
    "duration": 4,
    "start_time": "2023-12-28T02:59:58.592Z"
   },
   {
    "duration": 89,
    "start_time": "2023-12-28T02:59:58.598Z"
   },
   {
    "duration": 7880,
    "start_time": "2023-12-28T02:59:58.689Z"
   },
   {
    "duration": 186324,
    "start_time": "2023-12-28T03:00:06.571Z"
   },
   {
    "duration": 409011,
    "start_time": "2023-12-28T03:03:12.897Z"
   },
   {
    "duration": 1606,
    "start_time": "2023-12-28T03:10:01.914Z"
   },
   {
    "duration": 31,
    "start_time": "2023-12-28T03:10:03.522Z"
   },
   {
    "duration": 962,
    "start_time": "2023-12-28T03:10:03.555Z"
   },
   {
    "duration": 97,
    "start_time": "2023-12-28T03:10:04.520Z"
   },
   {
    "duration": 29,
    "start_time": "2023-12-28T05:16:01.448Z"
   },
   {
    "duration": 915,
    "start_time": "2023-12-28T05:16:04.519Z"
   },
   {
    "duration": 1463,
    "start_time": "2024-01-03T14:38:31.870Z"
   },
   {
    "duration": 28,
    "start_time": "2024-01-03T14:38:33.335Z"
   },
   {
    "duration": 2476,
    "start_time": "2024-01-03T14:38:36.294Z"
   },
   {
    "duration": 137,
    "start_time": "2024-01-03T16:09:14.427Z"
   },
   {
    "duration": 2908,
    "start_time": "2024-01-03T16:09:16.290Z"
   },
   {
    "duration": 3,
    "start_time": "2024-01-03T16:25:05.270Z"
   },
   {
    "duration": 2,
    "start_time": "2024-01-03T16:25:22.469Z"
   },
   {
    "duration": 592,
    "start_time": "2024-01-03T16:25:39.484Z"
   },
   {
    "duration": 1357,
    "start_time": "2024-01-03T16:27:08.116Z"
   },
   {
    "duration": 2425,
    "start_time": "2024-01-03T16:27:09.475Z"
   },
   {
    "duration": 807,
    "start_time": "2024-01-03T16:27:11.902Z"
   },
   {
    "duration": 5,
    "start_time": "2024-01-03T16:27:12.711Z"
   },
   {
    "duration": 2395,
    "start_time": "2024-01-03T16:27:12.718Z"
   },
   {
    "duration": 3,
    "start_time": "2024-01-03T16:27:15.115Z"
   },
   {
    "duration": 26,
    "start_time": "2024-01-03T16:27:15.120Z"
   },
   {
    "duration": 23,
    "start_time": "2024-01-03T16:27:15.147Z"
   },
   {
    "duration": 458,
    "start_time": "2024-01-03T16:27:15.172Z"
   },
   {
    "duration": 3,
    "start_time": "2024-01-03T16:27:15.632Z"
   },
   {
    "duration": 4,
    "start_time": "2024-01-03T16:27:15.636Z"
   },
   {
    "duration": 306,
    "start_time": "2024-01-03T16:27:15.642Z"
   },
   {
    "duration": 0,
    "start_time": "2024-01-03T16:27:15.950Z"
   },
   {
    "duration": 0,
    "start_time": "2024-01-03T16:27:15.952Z"
   },
   {
    "duration": 0,
    "start_time": "2024-01-03T16:27:15.953Z"
   },
   {
    "duration": 0,
    "start_time": "2024-01-03T16:27:15.954Z"
   },
   {
    "duration": 0,
    "start_time": "2024-01-03T16:27:15.965Z"
   },
   {
    "duration": 0,
    "start_time": "2024-01-03T16:27:15.966Z"
   },
   {
    "duration": 0,
    "start_time": "2024-01-03T16:27:15.967Z"
   },
   {
    "duration": 0,
    "start_time": "2024-01-03T16:27:15.968Z"
   },
   {
    "duration": 0,
    "start_time": "2024-01-03T16:27:15.969Z"
   },
   {
    "duration": 0,
    "start_time": "2024-01-03T16:27:15.969Z"
   },
   {
    "duration": 1410,
    "start_time": "2024-01-03T16:29:46.404Z"
   },
   {
    "duration": 2436,
    "start_time": "2024-01-03T16:29:47.816Z"
   },
   {
    "duration": 821,
    "start_time": "2024-01-03T16:29:50.253Z"
   },
   {
    "duration": 5,
    "start_time": "2024-01-03T16:29:51.076Z"
   },
   {
    "duration": 2412,
    "start_time": "2024-01-03T16:29:51.082Z"
   },
   {
    "duration": 4,
    "start_time": "2024-01-03T16:29:53.496Z"
   },
   {
    "duration": 10,
    "start_time": "2024-01-03T16:29:53.501Z"
   },
   {
    "duration": 313,
    "start_time": "2024-01-03T16:29:53.512Z"
   },
   {
    "duration": 0,
    "start_time": "2024-01-03T16:29:53.826Z"
   },
   {
    "duration": 0,
    "start_time": "2024-01-03T16:29:53.827Z"
   },
   {
    "duration": 0,
    "start_time": "2024-01-03T16:29:53.828Z"
   },
   {
    "duration": 0,
    "start_time": "2024-01-03T16:29:53.829Z"
   },
   {
    "duration": 0,
    "start_time": "2024-01-03T16:29:53.830Z"
   },
   {
    "duration": 0,
    "start_time": "2024-01-03T16:29:53.831Z"
   },
   {
    "duration": 0,
    "start_time": "2024-01-03T16:29:53.832Z"
   },
   {
    "duration": 0,
    "start_time": "2024-01-03T16:29:53.833Z"
   },
   {
    "duration": 0,
    "start_time": "2024-01-03T16:29:53.834Z"
   },
   {
    "duration": 0,
    "start_time": "2024-01-03T16:29:53.835Z"
   },
   {
    "duration": 0,
    "start_time": "2024-01-03T16:29:53.835Z"
   },
   {
    "duration": 0,
    "start_time": "2024-01-03T16:29:53.836Z"
   },
   {
    "duration": 0,
    "start_time": "2024-01-03T16:29:53.837Z"
   },
   {
    "duration": 0,
    "start_time": "2024-01-03T16:29:53.838Z"
   },
   {
    "duration": 0,
    "start_time": "2024-01-03T16:29:53.839Z"
   },
   {
    "duration": 1383,
    "start_time": "2024-01-03T17:19:24.787Z"
   },
   {
    "duration": 2593,
    "start_time": "2024-01-03T17:19:26.172Z"
   },
   {
    "duration": 882,
    "start_time": "2024-01-03T17:19:28.769Z"
   },
   {
    "duration": 4,
    "start_time": "2024-01-03T17:19:29.653Z"
   },
   {
    "duration": 298,
    "start_time": "2024-01-03T17:19:29.667Z"
   },
   {
    "duration": 0,
    "start_time": "2024-01-03T17:19:29.967Z"
   },
   {
    "duration": 0,
    "start_time": "2024-01-03T17:19:29.968Z"
   },
   {
    "duration": 0,
    "start_time": "2024-01-03T17:19:29.969Z"
   },
   {
    "duration": 0,
    "start_time": "2024-01-03T17:19:29.970Z"
   },
   {
    "duration": 0,
    "start_time": "2024-01-03T17:19:29.971Z"
   },
   {
    "duration": 0,
    "start_time": "2024-01-03T17:19:29.973Z"
   },
   {
    "duration": 0,
    "start_time": "2024-01-03T17:19:29.974Z"
   },
   {
    "duration": 0,
    "start_time": "2024-01-03T17:19:29.975Z"
   },
   {
    "duration": 0,
    "start_time": "2024-01-03T17:19:29.977Z"
   },
   {
    "duration": 0,
    "start_time": "2024-01-03T17:19:29.977Z"
   },
   {
    "duration": 0,
    "start_time": "2024-01-03T17:19:29.979Z"
   },
   {
    "duration": 0,
    "start_time": "2024-01-03T17:19:29.980Z"
   },
   {
    "duration": 0,
    "start_time": "2024-01-03T17:19:29.981Z"
   },
   {
    "duration": 0,
    "start_time": "2024-01-03T17:19:29.982Z"
   },
   {
    "duration": 0,
    "start_time": "2024-01-03T17:19:29.983Z"
   },
   {
    "duration": 0,
    "start_time": "2024-01-03T17:19:29.984Z"
   },
   {
    "duration": 0,
    "start_time": "2024-01-03T17:19:29.985Z"
   },
   {
    "duration": 0,
    "start_time": "2024-01-03T17:19:29.986Z"
   },
   {
    "duration": 0,
    "start_time": "2024-01-03T17:19:29.987Z"
   },
   {
    "duration": 0,
    "start_time": "2024-01-03T17:19:29.988Z"
   },
   {
    "duration": 0,
    "start_time": "2024-01-03T17:19:29.989Z"
   },
   {
    "duration": 1360,
    "start_time": "2024-01-03T17:21:15.682Z"
   },
   {
    "duration": 2621,
    "start_time": "2024-01-03T17:21:17.044Z"
   },
   {
    "duration": 836,
    "start_time": "2024-01-03T17:21:19.667Z"
   },
   {
    "duration": 6,
    "start_time": "2024-01-03T17:21:20.504Z"
   },
   {
    "duration": 344,
    "start_time": "2024-01-03T17:21:20.511Z"
   },
   {
    "duration": 0,
    "start_time": "2024-01-03T17:21:20.857Z"
   },
   {
    "duration": 0,
    "start_time": "2024-01-03T17:21:20.858Z"
   },
   {
    "duration": 0,
    "start_time": "2024-01-03T17:21:20.859Z"
   },
   {
    "duration": 0,
    "start_time": "2024-01-03T17:21:20.865Z"
   },
   {
    "duration": 0,
    "start_time": "2024-01-03T17:21:20.866Z"
   },
   {
    "duration": 0,
    "start_time": "2024-01-03T17:21:20.867Z"
   },
   {
    "duration": 0,
    "start_time": "2024-01-03T17:21:20.868Z"
   },
   {
    "duration": 0,
    "start_time": "2024-01-03T17:21:20.869Z"
   },
   {
    "duration": 0,
    "start_time": "2024-01-03T17:21:20.870Z"
   },
   {
    "duration": 0,
    "start_time": "2024-01-03T17:21:20.871Z"
   },
   {
    "duration": 0,
    "start_time": "2024-01-03T17:21:20.873Z"
   },
   {
    "duration": 0,
    "start_time": "2024-01-03T17:21:20.873Z"
   },
   {
    "duration": 0,
    "start_time": "2024-01-03T17:21:20.875Z"
   },
   {
    "duration": 0,
    "start_time": "2024-01-03T17:21:20.877Z"
   },
   {
    "duration": 0,
    "start_time": "2024-01-03T17:21:20.878Z"
   },
   {
    "duration": 0,
    "start_time": "2024-01-03T17:21:20.879Z"
   },
   {
    "duration": 0,
    "start_time": "2024-01-03T17:21:20.880Z"
   },
   {
    "duration": 1,
    "start_time": "2024-01-03T17:21:20.881Z"
   },
   {
    "duration": 0,
    "start_time": "2024-01-03T17:21:20.883Z"
   },
   {
    "duration": 0,
    "start_time": "2024-01-03T17:21:20.884Z"
   },
   {
    "duration": 0,
    "start_time": "2024-01-03T17:21:20.885Z"
   },
   {
    "duration": 1483,
    "start_time": "2024-01-03T17:23:58.967Z"
   },
   {
    "duration": 2497,
    "start_time": "2024-01-03T17:24:00.451Z"
   },
   {
    "duration": 843,
    "start_time": "2024-01-03T17:24:02.949Z"
   },
   {
    "duration": 6,
    "start_time": "2024-01-03T17:24:03.794Z"
   },
   {
    "duration": 17,
    "start_time": "2024-01-03T17:24:03.801Z"
   },
   {
    "duration": 3,
    "start_time": "2024-01-03T17:24:03.819Z"
   },
   {
    "duration": 3875,
    "start_time": "2024-01-03T17:24:03.823Z"
   },
   {
    "duration": 8,
    "start_time": "2024-01-03T17:24:07.700Z"
   },
   {
    "duration": 5,
    "start_time": "2024-01-03T17:24:07.709Z"
   },
   {
    "duration": 4,
    "start_time": "2024-01-03T17:24:07.716Z"
   },
   {
    "duration": 3,
    "start_time": "2024-01-03T17:24:07.721Z"
   },
   {
    "duration": 313,
    "start_time": "2024-01-03T17:24:07.726Z"
   },
   {
    "duration": 0,
    "start_time": "2024-01-03T17:24:08.041Z"
   },
   {
    "duration": 0,
    "start_time": "2024-01-03T17:24:08.042Z"
   },
   {
    "duration": 0,
    "start_time": "2024-01-03T17:24:08.043Z"
   },
   {
    "duration": 0,
    "start_time": "2024-01-03T17:24:08.044Z"
   },
   {
    "duration": 0,
    "start_time": "2024-01-03T17:24:08.045Z"
   },
   {
    "duration": 0,
    "start_time": "2024-01-03T17:24:08.046Z"
   },
   {
    "duration": 0,
    "start_time": "2024-01-03T17:24:08.046Z"
   },
   {
    "duration": 0,
    "start_time": "2024-01-03T17:24:08.047Z"
   },
   {
    "duration": 0,
    "start_time": "2024-01-03T17:24:08.048Z"
   },
   {
    "duration": 0,
    "start_time": "2024-01-03T17:24:08.064Z"
   },
   {
    "duration": 0,
    "start_time": "2024-01-03T17:24:08.065Z"
   },
   {
    "duration": 0,
    "start_time": "2024-01-03T17:24:08.067Z"
   },
   {
    "duration": 0,
    "start_time": "2024-01-03T17:24:08.067Z"
   },
   {
    "duration": 0,
    "start_time": "2024-01-03T17:24:08.069Z"
   },
   {
    "duration": 1463,
    "start_time": "2024-01-03T17:25:03.163Z"
   },
   {
    "duration": 2547,
    "start_time": "2024-01-03T17:25:04.628Z"
   },
   {
    "duration": 863,
    "start_time": "2024-01-03T17:25:07.177Z"
   },
   {
    "duration": 5,
    "start_time": "2024-01-03T17:25:08.042Z"
   },
   {
    "duration": 17,
    "start_time": "2024-01-03T17:25:08.048Z"
   },
   {
    "duration": 4,
    "start_time": "2024-01-03T17:25:08.067Z"
   },
   {
    "duration": 4361,
    "start_time": "2024-01-03T17:25:08.073Z"
   },
   {
    "duration": 7,
    "start_time": "2024-01-03T17:25:12.436Z"
   },
   {
    "duration": 4,
    "start_time": "2024-01-03T17:25:12.444Z"
   },
   {
    "duration": 15,
    "start_time": "2024-01-03T17:25:12.450Z"
   },
   {
    "duration": 4,
    "start_time": "2024-01-03T17:25:12.467Z"
   },
   {
    "duration": 7,
    "start_time": "2024-01-03T17:25:12.474Z"
   },
   {
    "duration": 787,
    "start_time": "2024-01-03T17:25:12.485Z"
   },
   {
    "duration": 7,
    "start_time": "2024-01-03T17:25:13.273Z"
   },
   {
    "duration": 42,
    "start_time": "2024-01-03T17:25:13.282Z"
   },
   {
    "duration": 3,
    "start_time": "2024-01-03T17:25:13.326Z"
   },
   {
    "duration": 55,
    "start_time": "2024-01-03T17:25:13.331Z"
   },
   {
    "duration": 51,
    "start_time": "2024-01-03T17:25:13.388Z"
   },
   {
    "duration": 0,
    "start_time": "2024-01-03T17:25:13.440Z"
   },
   {
    "duration": 0,
    "start_time": "2024-01-03T17:25:13.441Z"
   },
   {
    "duration": 0,
    "start_time": "2024-01-03T17:25:13.442Z"
   },
   {
    "duration": 0,
    "start_time": "2024-01-03T17:25:13.443Z"
   },
   {
    "duration": 0,
    "start_time": "2024-01-03T17:25:13.444Z"
   },
   {
    "duration": 0,
    "start_time": "2024-01-03T17:25:13.445Z"
   },
   {
    "duration": 0,
    "start_time": "2024-01-03T17:25:13.446Z"
   },
   {
    "duration": 0,
    "start_time": "2024-01-03T17:25:13.466Z"
   },
   {
    "duration": 1399,
    "start_time": "2024-01-03T17:27:05.044Z"
   },
   {
    "duration": 2394,
    "start_time": "2024-01-03T17:27:06.444Z"
   },
   {
    "duration": 847,
    "start_time": "2024-01-03T17:27:08.839Z"
   },
   {
    "duration": 5,
    "start_time": "2024-01-03T17:27:09.688Z"
   },
   {
    "duration": 11,
    "start_time": "2024-01-03T17:27:09.694Z"
   },
   {
    "duration": 3,
    "start_time": "2024-01-03T17:27:09.706Z"
   },
   {
    "duration": 4050,
    "start_time": "2024-01-03T17:27:09.710Z"
   },
   {
    "duration": 9,
    "start_time": "2024-01-03T17:27:13.762Z"
   },
   {
    "duration": 3,
    "start_time": "2024-01-03T17:27:13.772Z"
   },
   {
    "duration": 5,
    "start_time": "2024-01-03T17:27:13.777Z"
   },
   {
    "duration": 4,
    "start_time": "2024-01-03T17:27:13.783Z"
   },
   {
    "duration": 5,
    "start_time": "2024-01-03T17:27:13.788Z"
   },
   {
    "duration": 670,
    "start_time": "2024-01-03T17:27:13.794Z"
   },
   {
    "duration": 6,
    "start_time": "2024-01-03T17:27:14.465Z"
   },
   {
    "duration": 34,
    "start_time": "2024-01-03T17:27:14.472Z"
   },
   {
    "duration": 3,
    "start_time": "2024-01-03T17:27:14.508Z"
   },
   {
    "duration": 62,
    "start_time": "2024-01-03T17:27:14.512Z"
   },
   {
    "duration": 49,
    "start_time": "2024-01-03T17:27:14.576Z"
   },
   {
    "duration": 0,
    "start_time": "2024-01-03T17:27:14.627Z"
   },
   {
    "duration": 0,
    "start_time": "2024-01-03T17:27:14.628Z"
   },
   {
    "duration": 0,
    "start_time": "2024-01-03T17:27:14.629Z"
   },
   {
    "duration": 0,
    "start_time": "2024-01-03T17:27:14.630Z"
   },
   {
    "duration": 0,
    "start_time": "2024-01-03T17:27:14.631Z"
   },
   {
    "duration": 0,
    "start_time": "2024-01-03T17:27:14.632Z"
   },
   {
    "duration": 0,
    "start_time": "2024-01-03T17:27:14.633Z"
   },
   {
    "duration": 0,
    "start_time": "2024-01-03T17:27:14.634Z"
   },
   {
    "duration": 1422,
    "start_time": "2024-01-03T17:29:40.185Z"
   },
   {
    "duration": 2446,
    "start_time": "2024-01-03T17:29:41.609Z"
   },
   {
    "duration": 802,
    "start_time": "2024-01-03T17:29:44.057Z"
   },
   {
    "duration": 7,
    "start_time": "2024-01-03T17:29:44.861Z"
   },
   {
    "duration": 11,
    "start_time": "2024-01-03T17:29:44.870Z"
   },
   {
    "duration": 3,
    "start_time": "2024-01-03T17:29:44.883Z"
   },
   {
    "duration": 4318,
    "start_time": "2024-01-03T17:29:44.887Z"
   },
   {
    "duration": 9,
    "start_time": "2024-01-03T17:29:49.207Z"
   },
   {
    "duration": 3,
    "start_time": "2024-01-03T17:29:49.217Z"
   },
   {
    "duration": 4,
    "start_time": "2024-01-03T17:29:49.222Z"
   },
   {
    "duration": 3,
    "start_time": "2024-01-03T17:29:49.227Z"
   },
   {
    "duration": 4,
    "start_time": "2024-01-03T17:29:49.232Z"
   },
   {
    "duration": 713,
    "start_time": "2024-01-03T17:29:49.237Z"
   },
   {
    "duration": 6,
    "start_time": "2024-01-03T17:29:49.953Z"
   },
   {
    "duration": 49,
    "start_time": "2024-01-03T17:29:49.961Z"
   },
   {
    "duration": 4,
    "start_time": "2024-01-03T17:29:50.011Z"
   },
   {
    "duration": 38,
    "start_time": "2024-01-03T17:29:50.016Z"
   },
   {
    "duration": 68,
    "start_time": "2024-01-03T17:29:50.055Z"
   },
   {
    "duration": 0,
    "start_time": "2024-01-03T17:29:50.125Z"
   },
   {
    "duration": 0,
    "start_time": "2024-01-03T17:29:50.126Z"
   },
   {
    "duration": 0,
    "start_time": "2024-01-03T17:29:50.128Z"
   },
   {
    "duration": 0,
    "start_time": "2024-01-03T17:29:50.130Z"
   },
   {
    "duration": 0,
    "start_time": "2024-01-03T17:29:50.131Z"
   },
   {
    "duration": 0,
    "start_time": "2024-01-03T17:29:50.132Z"
   },
   {
    "duration": 0,
    "start_time": "2024-01-03T17:29:50.134Z"
   },
   {
    "duration": 0,
    "start_time": "2024-01-03T17:29:50.135Z"
   },
   {
    "duration": 429,
    "start_time": "2024-01-03T17:35:52.353Z"
   },
   {
    "duration": 1654,
    "start_time": "2024-01-03T17:37:47.494Z"
   },
   {
    "duration": 2684,
    "start_time": "2024-01-03T17:37:49.151Z"
   },
   {
    "duration": 900,
    "start_time": "2024-01-03T17:37:51.837Z"
   },
   {
    "duration": 5,
    "start_time": "2024-01-03T17:37:52.738Z"
   },
   {
    "duration": 23,
    "start_time": "2024-01-03T17:37:52.745Z"
   },
   {
    "duration": 7,
    "start_time": "2024-01-03T17:37:52.770Z"
   },
   {
    "duration": 4202,
    "start_time": "2024-01-03T17:37:52.778Z"
   },
   {
    "duration": 8,
    "start_time": "2024-01-03T17:37:56.982Z"
   },
   {
    "duration": 10,
    "start_time": "2024-01-03T17:37:56.991Z"
   },
   {
    "duration": 6,
    "start_time": "2024-01-03T17:37:57.002Z"
   },
   {
    "duration": 3,
    "start_time": "2024-01-03T17:37:57.009Z"
   },
   {
    "duration": 5,
    "start_time": "2024-01-03T17:37:57.013Z"
   },
   {
    "duration": 1127765,
    "start_time": "2024-01-03T17:37:57.020Z"
   },
   {
    "duration": 7,
    "start_time": "2024-01-03T17:56:44.788Z"
   },
   {
    "duration": 31,
    "start_time": "2024-01-03T17:56:44.796Z"
   },
   {
    "duration": 3,
    "start_time": "2024-01-03T17:56:44.829Z"
   },
   {
    "duration": 53,
    "start_time": "2024-01-03T17:56:44.833Z"
   },
   {
    "duration": 356,
    "start_time": "2024-01-03T17:56:44.888Z"
   },
   {
    "duration": 0,
    "start_time": "2024-01-03T17:56:45.246Z"
   },
   {
    "duration": 0,
    "start_time": "2024-01-03T17:56:45.247Z"
   },
   {
    "duration": 0,
    "start_time": "2024-01-03T17:56:45.248Z"
   },
   {
    "duration": 0,
    "start_time": "2024-01-03T17:56:45.249Z"
   },
   {
    "duration": 1,
    "start_time": "2024-01-03T17:56:45.250Z"
   },
   {
    "duration": 0,
    "start_time": "2024-01-03T17:56:45.265Z"
   },
   {
    "duration": 0,
    "start_time": "2024-01-03T17:56:45.267Z"
   },
   {
    "duration": 0,
    "start_time": "2024-01-03T17:56:45.268Z"
   },
   {
    "duration": 51,
    "start_time": "2024-01-03T18:01:42.505Z"
   },
   {
    "duration": 1506,
    "start_time": "2024-01-03T18:06:01.285Z"
   },
   {
    "duration": 2513,
    "start_time": "2024-01-03T18:06:02.793Z"
   },
   {
    "duration": 925,
    "start_time": "2024-01-03T18:06:05.308Z"
   },
   {
    "duration": 6,
    "start_time": "2024-01-03T18:06:06.235Z"
   },
   {
    "duration": 25,
    "start_time": "2024-01-03T18:06:06.242Z"
   },
   {
    "duration": 3,
    "start_time": "2024-01-03T18:06:06.269Z"
   },
   {
    "duration": 4604,
    "start_time": "2024-01-03T18:06:06.274Z"
   },
   {
    "duration": 9,
    "start_time": "2024-01-03T18:06:10.880Z"
   },
   {
    "duration": 20,
    "start_time": "2024-01-03T18:06:10.891Z"
   },
   {
    "duration": 16,
    "start_time": "2024-01-03T18:06:10.913Z"
   },
   {
    "duration": 21,
    "start_time": "2024-01-03T18:06:10.931Z"
   },
   {
    "duration": 10,
    "start_time": "2024-01-03T18:06:10.953Z"
   },
   {
    "duration": 1121276,
    "start_time": "2024-01-03T18:06:10.964Z"
   },
   {
    "duration": 6,
    "start_time": "2024-01-03T18:24:52.242Z"
   },
   {
    "duration": 60,
    "start_time": "2024-01-03T18:24:52.250Z"
   },
   {
    "duration": 4,
    "start_time": "2024-01-03T18:24:52.312Z"
   },
   {
    "duration": 47,
    "start_time": "2024-01-03T18:24:52.317Z"
   },
   {
    "duration": 74,
    "start_time": "2024-01-03T18:24:52.366Z"
   },
   {
    "duration": 3,
    "start_time": "2024-01-03T18:24:52.442Z"
   },
   {
    "duration": 63,
    "start_time": "2024-01-03T18:24:52.446Z"
   },
   {
    "duration": 6922,
    "start_time": "2024-01-03T18:24:52.510Z"
   },
   {
    "duration": 160591,
    "start_time": "2024-01-03T18:24:59.434Z"
   },
   {
    "duration": 447118,
    "start_time": "2024-01-03T18:27:40.026Z"
   },
   {
    "duration": 1520,
    "start_time": "2024-01-03T18:35:07.146Z"
   },
   {
    "duration": 29,
    "start_time": "2024-01-03T18:35:08.667Z"
   },
   {
    "duration": 3,
    "start_time": "2024-01-03T18:35:08.698Z"
   },
   {
    "duration": 73,
    "start_time": "2024-01-03T18:42:43.213Z"
   }
  ],
  "kernelspec": {
   "display_name": "Python 3 (ipykernel)",
   "language": "python",
   "name": "python3"
  },
  "language_info": {
   "codemirror_mode": {
    "name": "ipython",
    "version": 3
   },
   "file_extension": ".py",
   "mimetype": "text/x-python",
   "name": "python",
   "nbconvert_exporter": "python",
   "pygments_lexer": "ipython3",
   "version": "3.11.5"
  },
  "toc": {
   "base_numbering": 1,
   "nav_menu": {},
   "number_sections": true,
   "sideBar": true,
   "skip_h1_title": true,
   "title_cell": "Содержание",
   "title_sidebar": "Contents",
   "toc_cell": true,
   "toc_position": {
    "height": "calc(100% - 180px)",
    "left": "10px",
    "top": "150px",
    "width": "302.391px"
   },
   "toc_section_display": true,
   "toc_window_display": false
  }
 },
 "nbformat": 4,
 "nbformat_minor": 4
}
