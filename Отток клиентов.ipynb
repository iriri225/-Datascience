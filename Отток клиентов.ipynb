{
 "cells": [
  {
   "cell_type": "markdown",
   "id": "672f091e",
   "metadata": {},
   "source": [
    "Описание проекта\n",
    "Из «Бета-Банка» стали уходить клиенты. Каждый месяц. Немного, но заметно. Банковские маркетологи посчитали: сохранять текущих клиентов дешевле, чем привлекать новых.\n",
    "Нужно спрогнозировать, уйдёт клиент из банка в ближайшее время или нет. Вам предоставлены исторические данные о поведении клиентов и расторжении договоров с банком. \n",
    "Постройте модель с предельно большим значением F1-меры. Чтобы сдать проект успешно, нужно довести метрику до 0.59. Проверьте F1-меру на тестовой выборке самостоятельно.\n",
    "Дополнительно измеряйте AUC-ROC, сравнивайте её значение с F1-мерой.\n",
    "Описание данных\n",
    "Данные находятся в файле /datasets/Churn.csv (англ. «отток клиентов»). Скачать датасет\n",
    "Признаки\n",
    "RowNumber — индекс строки в данных\n",
    "CustomerId — уникальный идентификатор клиента\n",
    "Surname — фамилия\n",
    "CreditScore — кредитный рейтинг\n",
    "Geography — страна проживания\n",
    "Gender — пол\n",
    "Age — возраст\n",
    "Tenure — сколько лет человек является клиентом банка\n",
    "Balance — баланс на счёте\n",
    "NumOfProducts — количество продуктов банка, используемых клиентом\n",
    "HasCrCard — наличие кредитной карты\n",
    "IsActiveMember — активность клиента\n",
    "EstimatedSalary — предполагаемая зарплата\n",
    "Целевой признак\n",
    "Exited — факт ухода клиента"
   ]
  },
  {
   "cell_type": "code",
   "execution_count": 1,
   "id": "dd2c97cd",
   "metadata": {},
   "outputs": [
    {
     "name": "stdout",
     "output_type": "stream",
     "text": [
      "Collecting imblearn\n",
      "  Downloading imblearn-0.0-py2.py3-none-any.whl (1.9 kB)\n",
      "Collecting imbalanced-learn\n",
      "  Downloading imbalanced_learn-0.11.0-py3-none-any.whl (235 kB)\n",
      "\u001b[K     |████████████████████████████████| 235 kB 837 kB/s eta 0:00:01\n",
      "\u001b[?25hCollecting joblib>=1.1.1\n",
      "  Downloading joblib-1.3.2-py3-none-any.whl (302 kB)\n",
      "\u001b[K     |████████████████████████████████| 302 kB 16.1 MB/s eta 0:00:01\n",
      "\u001b[?25hRequirement already satisfied: scipy>=1.5.0 in /opt/conda/lib/python3.9/site-packages (from imbalanced-learn->imblearn) (1.9.1)\n",
      "Collecting scikit-learn>=1.0.2\n",
      "  Downloading scikit_learn-1.3.0-cp39-cp39-manylinux_2_17_x86_64.manylinux2014_x86_64.whl (10.9 MB)\n",
      "\u001b[K     |████████████████████████████████| 10.9 MB 3.9 MB/s eta 0:00:01    |█▍                              | 481 kB 6.5 MB/s eta 0:00:02\n",
      "\u001b[?25hRequirement already satisfied: numpy>=1.17.3 in /opt/conda/lib/python3.9/site-packages (from imbalanced-learn->imblearn) (1.21.1)\n",
      "Requirement already satisfied: threadpoolctl>=2.0.0 in /opt/conda/lib/python3.9/site-packages (from imbalanced-learn->imblearn) (3.1.0)\n",
      "Installing collected packages: joblib, scikit-learn, imbalanced-learn, imblearn\n",
      "  Attempting uninstall: joblib\n",
      "    Found existing installation: joblib 1.1.0\n",
      "    Uninstalling joblib-1.1.0:\n",
      "      Successfully uninstalled joblib-1.1.0\n",
      "  Attempting uninstall: scikit-learn\n",
      "    Found existing installation: scikit-learn 0.24.1\n",
      "    Uninstalling scikit-learn-0.24.1:\n",
      "      Successfully uninstalled scikit-learn-0.24.1\n",
      "Successfully installed imbalanced-learn-0.11.0 imblearn-0.0 joblib-1.3.2 scikit-learn-1.3.0\n"
     ]
    }
   ],
   "source": [
    "!pip install imblearn"
   ]
  },
  {
   "cell_type": "code",
   "execution_count": 2,
   "id": "b833a276",
   "metadata": {},
   "outputs": [],
   "source": [
    "import pandas as pd\n",
    "import seaborn as sns\n",
    "import matplotlib.pyplot as plt \n",
    "import numpy as np\n",
    "from scipy import stats as st\n",
    "\n",
    "from sklearn.preprocessing import OrdinalEncoder, StandardScaler, MinMaxScaler\n",
    "from sklearn.linear_model import LogisticRegression\n",
    "from sklearn.model_selection import train_test_split, GridSearchCV, RandomizedSearchCV\n",
    "\n",
    "from sklearn.tree import DecisionTreeClassifier\n",
    "from sklearn.ensemble import RandomForestClassifier\n",
    "from sklearn.metrics import roc_auc_score, f1_score, roc_curve, confusion_matrix, precision_score, recall_score\n",
    "from sklearn.dummy import DummyClassifier\n",
    "from sklearn.utils import shuffle\n",
    "from sklearn.metrics import accuracy_score\n",
    "from sklearn.model_selection import cross_val_predict\n",
    "\n",
    "from imblearn.over_sampling import SMOTE, ADASYN\n",
    "from imblearn.under_sampling import RandomUnderSampler \n",
    "import warnings"
   ]
  },
  {
   "cell_type": "code",
   "execution_count": 38,
   "id": "e9111d8c",
   "metadata": {},
   "outputs": [],
   "source": [
    "try:\n",
    "    data = pd.read_csv('/datasets/Churn.csv')\n",
    "except:\n",
    "    print('Не удалось прочитать файл')"
   ]
  },
  {
   "cell_type": "code",
   "execution_count": 39,
   "id": "2861f8b4",
   "metadata": {},
   "outputs": [
    {
     "data": {
      "text/html": [
       "<div>\n",
       "<style scoped>\n",
       "    .dataframe tbody tr th:only-of-type {\n",
       "        vertical-align: middle;\n",
       "    }\n",
       "\n",
       "    .dataframe tbody tr th {\n",
       "        vertical-align: top;\n",
       "    }\n",
       "\n",
       "    .dataframe thead th {\n",
       "        text-align: right;\n",
       "    }\n",
       "</style>\n",
       "<table border=\"1\" class=\"dataframe\">\n",
       "  <thead>\n",
       "    <tr style=\"text-align: right;\">\n",
       "      <th></th>\n",
       "      <th>RowNumber</th>\n",
       "      <th>CustomerId</th>\n",
       "      <th>Surname</th>\n",
       "      <th>CreditScore</th>\n",
       "      <th>Geography</th>\n",
       "      <th>Gender</th>\n",
       "      <th>Age</th>\n",
       "      <th>Tenure</th>\n",
       "      <th>Balance</th>\n",
       "      <th>NumOfProducts</th>\n",
       "      <th>HasCrCard</th>\n",
       "      <th>IsActiveMember</th>\n",
       "      <th>EstimatedSalary</th>\n",
       "      <th>Exited</th>\n",
       "    </tr>\n",
       "  </thead>\n",
       "  <tbody>\n",
       "    <tr>\n",
       "      <th>0</th>\n",
       "      <td>1</td>\n",
       "      <td>15634602</td>\n",
       "      <td>Hargrave</td>\n",
       "      <td>619</td>\n",
       "      <td>France</td>\n",
       "      <td>Female</td>\n",
       "      <td>42</td>\n",
       "      <td>2.0</td>\n",
       "      <td>0.00</td>\n",
       "      <td>1</td>\n",
       "      <td>1</td>\n",
       "      <td>1</td>\n",
       "      <td>101348.88</td>\n",
       "      <td>1</td>\n",
       "    </tr>\n",
       "    <tr>\n",
       "      <th>1</th>\n",
       "      <td>2</td>\n",
       "      <td>15647311</td>\n",
       "      <td>Hill</td>\n",
       "      <td>608</td>\n",
       "      <td>Spain</td>\n",
       "      <td>Female</td>\n",
       "      <td>41</td>\n",
       "      <td>1.0</td>\n",
       "      <td>83807.86</td>\n",
       "      <td>1</td>\n",
       "      <td>0</td>\n",
       "      <td>1</td>\n",
       "      <td>112542.58</td>\n",
       "      <td>0</td>\n",
       "    </tr>\n",
       "    <tr>\n",
       "      <th>2</th>\n",
       "      <td>3</td>\n",
       "      <td>15619304</td>\n",
       "      <td>Onio</td>\n",
       "      <td>502</td>\n",
       "      <td>France</td>\n",
       "      <td>Female</td>\n",
       "      <td>42</td>\n",
       "      <td>8.0</td>\n",
       "      <td>159660.80</td>\n",
       "      <td>3</td>\n",
       "      <td>1</td>\n",
       "      <td>0</td>\n",
       "      <td>113931.57</td>\n",
       "      <td>1</td>\n",
       "    </tr>\n",
       "    <tr>\n",
       "      <th>3</th>\n",
       "      <td>4</td>\n",
       "      <td>15701354</td>\n",
       "      <td>Boni</td>\n",
       "      <td>699</td>\n",
       "      <td>France</td>\n",
       "      <td>Female</td>\n",
       "      <td>39</td>\n",
       "      <td>1.0</td>\n",
       "      <td>0.00</td>\n",
       "      <td>2</td>\n",
       "      <td>0</td>\n",
       "      <td>0</td>\n",
       "      <td>93826.63</td>\n",
       "      <td>0</td>\n",
       "    </tr>\n",
       "    <tr>\n",
       "      <th>4</th>\n",
       "      <td>5</td>\n",
       "      <td>15737888</td>\n",
       "      <td>Mitchell</td>\n",
       "      <td>850</td>\n",
       "      <td>Spain</td>\n",
       "      <td>Female</td>\n",
       "      <td>43</td>\n",
       "      <td>2.0</td>\n",
       "      <td>125510.82</td>\n",
       "      <td>1</td>\n",
       "      <td>1</td>\n",
       "      <td>1</td>\n",
       "      <td>79084.10</td>\n",
       "      <td>0</td>\n",
       "    </tr>\n",
       "  </tbody>\n",
       "</table>\n",
       "</div>"
      ],
      "text/plain": [
       "   RowNumber  CustomerId   Surname  CreditScore Geography  Gender  Age  \\\n",
       "0          1    15634602  Hargrave          619    France  Female   42   \n",
       "1          2    15647311      Hill          608     Spain  Female   41   \n",
       "2          3    15619304      Onio          502    France  Female   42   \n",
       "3          4    15701354      Boni          699    France  Female   39   \n",
       "4          5    15737888  Mitchell          850     Spain  Female   43   \n",
       "\n",
       "   Tenure    Balance  NumOfProducts  HasCrCard  IsActiveMember  \\\n",
       "0     2.0       0.00              1          1               1   \n",
       "1     1.0   83807.86              1          0               1   \n",
       "2     8.0  159660.80              3          1               0   \n",
       "3     1.0       0.00              2          0               0   \n",
       "4     2.0  125510.82              1          1               1   \n",
       "\n",
       "   EstimatedSalary  Exited  \n",
       "0        101348.88       1  \n",
       "1        112542.58       0  \n",
       "2        113931.57       1  \n",
       "3         93826.63       0  \n",
       "4         79084.10       0  "
      ]
     },
     "execution_count": 39,
     "metadata": {},
     "output_type": "execute_result"
    }
   ],
   "source": [
    "data.head()"
   ]
  },
  {
   "cell_type": "code",
   "execution_count": 40,
   "id": "d8e19b6e",
   "metadata": {
    "scrolled": true
   },
   "outputs": [
    {
     "data": {
      "text/html": [
       "<div>\n",
       "<style scoped>\n",
       "    .dataframe tbody tr th:only-of-type {\n",
       "        vertical-align: middle;\n",
       "    }\n",
       "\n",
       "    .dataframe tbody tr th {\n",
       "        vertical-align: top;\n",
       "    }\n",
       "\n",
       "    .dataframe thead th {\n",
       "        text-align: right;\n",
       "    }\n",
       "</style>\n",
       "<table border=\"1\" class=\"dataframe\">\n",
       "  <thead>\n",
       "    <tr style=\"text-align: right;\">\n",
       "      <th></th>\n",
       "      <th>RowNumber</th>\n",
       "      <th>CustomerId</th>\n",
       "      <th>Surname</th>\n",
       "      <th>CreditScore</th>\n",
       "      <th>Geography</th>\n",
       "      <th>Gender</th>\n",
       "      <th>Age</th>\n",
       "      <th>Tenure</th>\n",
       "      <th>Balance</th>\n",
       "      <th>NumOfProducts</th>\n",
       "      <th>HasCrCard</th>\n",
       "      <th>IsActiveMember</th>\n",
       "      <th>EstimatedSalary</th>\n",
       "      <th>Exited</th>\n",
       "    </tr>\n",
       "  </thead>\n",
       "  <tbody>\n",
       "    <tr>\n",
       "      <th>0</th>\n",
       "      <td>1</td>\n",
       "      <td>15634602</td>\n",
       "      <td>Hargrave</td>\n",
       "      <td>619</td>\n",
       "      <td>France</td>\n",
       "      <td>Female</td>\n",
       "      <td>42</td>\n",
       "      <td>2.0</td>\n",
       "      <td>0.00</td>\n",
       "      <td>1</td>\n",
       "      <td>1</td>\n",
       "      <td>1</td>\n",
       "      <td>101348.88</td>\n",
       "      <td>1</td>\n",
       "    </tr>\n",
       "    <tr>\n",
       "      <th>1</th>\n",
       "      <td>2</td>\n",
       "      <td>15647311</td>\n",
       "      <td>Hill</td>\n",
       "      <td>608</td>\n",
       "      <td>Spain</td>\n",
       "      <td>Female</td>\n",
       "      <td>41</td>\n",
       "      <td>1.0</td>\n",
       "      <td>83807.86</td>\n",
       "      <td>1</td>\n",
       "      <td>0</td>\n",
       "      <td>1</td>\n",
       "      <td>112542.58</td>\n",
       "      <td>0</td>\n",
       "    </tr>\n",
       "    <tr>\n",
       "      <th>2</th>\n",
       "      <td>3</td>\n",
       "      <td>15619304</td>\n",
       "      <td>Onio</td>\n",
       "      <td>502</td>\n",
       "      <td>France</td>\n",
       "      <td>Female</td>\n",
       "      <td>42</td>\n",
       "      <td>8.0</td>\n",
       "      <td>159660.80</td>\n",
       "      <td>3</td>\n",
       "      <td>1</td>\n",
       "      <td>0</td>\n",
       "      <td>113931.57</td>\n",
       "      <td>1</td>\n",
       "    </tr>\n",
       "    <tr>\n",
       "      <th>3</th>\n",
       "      <td>4</td>\n",
       "      <td>15701354</td>\n",
       "      <td>Boni</td>\n",
       "      <td>699</td>\n",
       "      <td>France</td>\n",
       "      <td>Female</td>\n",
       "      <td>39</td>\n",
       "      <td>1.0</td>\n",
       "      <td>0.00</td>\n",
       "      <td>2</td>\n",
       "      <td>0</td>\n",
       "      <td>0</td>\n",
       "      <td>93826.63</td>\n",
       "      <td>0</td>\n",
       "    </tr>\n",
       "    <tr>\n",
       "      <th>4</th>\n",
       "      <td>5</td>\n",
       "      <td>15737888</td>\n",
       "      <td>Mitchell</td>\n",
       "      <td>850</td>\n",
       "      <td>Spain</td>\n",
       "      <td>Female</td>\n",
       "      <td>43</td>\n",
       "      <td>2.0</td>\n",
       "      <td>125510.82</td>\n",
       "      <td>1</td>\n",
       "      <td>1</td>\n",
       "      <td>1</td>\n",
       "      <td>79084.10</td>\n",
       "      <td>0</td>\n",
       "    </tr>\n",
       "    <tr>\n",
       "      <th>5</th>\n",
       "      <td>6</td>\n",
       "      <td>15574012</td>\n",
       "      <td>Chu</td>\n",
       "      <td>645</td>\n",
       "      <td>Spain</td>\n",
       "      <td>Male</td>\n",
       "      <td>44</td>\n",
       "      <td>8.0</td>\n",
       "      <td>113755.78</td>\n",
       "      <td>2</td>\n",
       "      <td>1</td>\n",
       "      <td>0</td>\n",
       "      <td>149756.71</td>\n",
       "      <td>1</td>\n",
       "    </tr>\n",
       "    <tr>\n",
       "      <th>6</th>\n",
       "      <td>7</td>\n",
       "      <td>15592531</td>\n",
       "      <td>Bartlett</td>\n",
       "      <td>822</td>\n",
       "      <td>France</td>\n",
       "      <td>Male</td>\n",
       "      <td>50</td>\n",
       "      <td>7.0</td>\n",
       "      <td>0.00</td>\n",
       "      <td>2</td>\n",
       "      <td>1</td>\n",
       "      <td>1</td>\n",
       "      <td>10062.80</td>\n",
       "      <td>0</td>\n",
       "    </tr>\n",
       "    <tr>\n",
       "      <th>7</th>\n",
       "      <td>8</td>\n",
       "      <td>15656148</td>\n",
       "      <td>Obinna</td>\n",
       "      <td>376</td>\n",
       "      <td>Germany</td>\n",
       "      <td>Female</td>\n",
       "      <td>29</td>\n",
       "      <td>4.0</td>\n",
       "      <td>115046.74</td>\n",
       "      <td>4</td>\n",
       "      <td>1</td>\n",
       "      <td>0</td>\n",
       "      <td>119346.88</td>\n",
       "      <td>1</td>\n",
       "    </tr>\n",
       "    <tr>\n",
       "      <th>8</th>\n",
       "      <td>9</td>\n",
       "      <td>15792365</td>\n",
       "      <td>He</td>\n",
       "      <td>501</td>\n",
       "      <td>France</td>\n",
       "      <td>Male</td>\n",
       "      <td>44</td>\n",
       "      <td>4.0</td>\n",
       "      <td>142051.07</td>\n",
       "      <td>2</td>\n",
       "      <td>0</td>\n",
       "      <td>1</td>\n",
       "      <td>74940.50</td>\n",
       "      <td>0</td>\n",
       "    </tr>\n",
       "    <tr>\n",
       "      <th>9</th>\n",
       "      <td>10</td>\n",
       "      <td>15592389</td>\n",
       "      <td>H?</td>\n",
       "      <td>684</td>\n",
       "      <td>France</td>\n",
       "      <td>Male</td>\n",
       "      <td>27</td>\n",
       "      <td>2.0</td>\n",
       "      <td>134603.88</td>\n",
       "      <td>1</td>\n",
       "      <td>1</td>\n",
       "      <td>1</td>\n",
       "      <td>71725.73</td>\n",
       "      <td>0</td>\n",
       "    </tr>\n",
       "  </tbody>\n",
       "</table>\n",
       "</div>"
      ],
      "text/plain": [
       "   RowNumber  CustomerId   Surname  CreditScore Geography  Gender  Age  \\\n",
       "0          1    15634602  Hargrave          619    France  Female   42   \n",
       "1          2    15647311      Hill          608     Spain  Female   41   \n",
       "2          3    15619304      Onio          502    France  Female   42   \n",
       "3          4    15701354      Boni          699    France  Female   39   \n",
       "4          5    15737888  Mitchell          850     Spain  Female   43   \n",
       "5          6    15574012       Chu          645     Spain    Male   44   \n",
       "6          7    15592531  Bartlett          822    France    Male   50   \n",
       "7          8    15656148    Obinna          376   Germany  Female   29   \n",
       "8          9    15792365        He          501    France    Male   44   \n",
       "9         10    15592389        H?          684    France    Male   27   \n",
       "\n",
       "   Tenure    Balance  NumOfProducts  HasCrCard  IsActiveMember  \\\n",
       "0     2.0       0.00              1          1               1   \n",
       "1     1.0   83807.86              1          0               1   \n",
       "2     8.0  159660.80              3          1               0   \n",
       "3     1.0       0.00              2          0               0   \n",
       "4     2.0  125510.82              1          1               1   \n",
       "5     8.0  113755.78              2          1               0   \n",
       "6     7.0       0.00              2          1               1   \n",
       "7     4.0  115046.74              4          1               0   \n",
       "8     4.0  142051.07              2          0               1   \n",
       "9     2.0  134603.88              1          1               1   \n",
       "\n",
       "   EstimatedSalary  Exited  \n",
       "0        101348.88       1  \n",
       "1        112542.58       0  \n",
       "2        113931.57       1  \n",
       "3         93826.63       0  \n",
       "4         79084.10       0  \n",
       "5        149756.71       1  \n",
       "6         10062.80       0  \n",
       "7        119346.88       1  \n",
       "8         74940.50       0  \n",
       "9         71725.73       0  "
      ]
     },
     "metadata": {},
     "output_type": "display_data"
    }
   ],
   "source": [
    "display(data.head(10))"
   ]
  },
  {
   "cell_type": "code",
   "execution_count": 41,
   "id": "04404cff",
   "metadata": {},
   "outputs": [],
   "source": [
    "data = pd.get_dummies(data, drop_first=True )"
   ]
  },
  {
   "cell_type": "code",
   "execution_count": 42,
   "id": "065fc11e",
   "metadata": {},
   "outputs": [],
   "source": [
    "data['Tenure'].fillna(data['Tenure'].median(), inplace=True)"
   ]
  },
  {
   "cell_type": "markdown",
   "id": "436e1b78",
   "metadata": {},
   "source": [
    "Заполним пропущенные значения в столбце `Tenure`, то есть количество лет, сколько клиент является клиентом банка. Наблюдений с отсутствующим значением не так много, попробуем заменить пропуски на медианное значение:"
   ]
  },
  {
   "cell_type": "markdown",
   "id": "7e97ac05",
   "metadata": {},
   "source": [
    "исправил"
   ]
  },
  {
   "cell_type": "code",
   "execution_count": 43,
   "id": "a98d1161",
   "metadata": {},
   "outputs": [
    {
     "name": "stdout",
     "output_type": "stream",
     "text": [
      "<class 'pandas.core.frame.DataFrame'>\n",
      "RangeIndex: 10000 entries, 0 to 9999\n",
      "Columns: 2945 entries, RowNumber to Gender_Male\n",
      "dtypes: float64(3), int64(8), uint8(2934)\n",
      "memory usage: 28.8 MB\n"
     ]
    }
   ],
   "source": [
    "data.info()"
   ]
  },
  {
   "cell_type": "code",
   "execution_count": 44,
   "id": "3141211b",
   "metadata": {},
   "outputs": [],
   "source": [
    "from sklearn.model_selection import train_test_split\n",
    "\n",
    "features = data.drop(['Exited', 'CustomerId', 'RowNumber'], axis=1)\n",
    "target = data['Exited']\n",
    "\n",
    "# Объявляем размеры выборок\n",
    "RANDOM_STATE = 42\n",
    "\n",
    "features_train, features_valid, target_train, target_valid = train_test_split(\n",
    "    features, target, test_size=0.4, random_state=RANDOM_STATE\n",
    ")\n",
    "\n",
    "features_valid, features_test, target_valid, target_test = train_test_split(\n",
    "    features_valid, target_valid, test_size=0.5, random_state=RANDOM_STATE\n",
    ")"
   ]
  },
  {
   "cell_type": "markdown",
   "id": "150cced1",
   "metadata": {},
   "source": [
    "Исследование баланса кассов"
   ]
  },
  {
   "cell_type": "code",
   "execution_count": 45,
   "id": "ad97355f",
   "metadata": {},
   "outputs": [
    {
     "data": {
      "text/plain": [
       "0    0.7955\n",
       "1    0.2045\n",
       "Name: Exited, dtype: float64"
      ]
     },
     "execution_count": 45,
     "metadata": {},
     "output_type": "execute_result"
    }
   ],
   "source": [
    "target_train.value_counts(normalize=True)"
   ]
  },
  {
   "cell_type": "markdown",
   "id": "fdb5c591",
   "metadata": {},
   "source": [
    "без учета дисбаланса"
   ]
  },
  {
   "cell_type": "code",
   "execution_count": 46,
   "id": "c3de80c8",
   "metadata": {},
   "outputs": [],
   "source": [
    "from sklearn.metrics import f1_score, roc_auc_score\n",
    "\n",
    "\n",
    "def fit_predict(model, X_train, X_valid, y_train, y_valid):\n",
    "    \"\"\"\n",
    "    Обучает модель и печатает f1 и auc-roc на валидационной выборке\n",
    "    \"\"\"\n",
    "    model.fit(X_train, y_train)\n",
    "    train_pred = model.predict(X_train)\n",
    "    valid_pred = model.predict(X_valid)\n",
    "    \n",
    "    train_pred_proba = model.predict_proba(X_train)[:, 1]\n",
    "    valid_pred_proba = model.predict_proba(X_valid)[:, 1]\n",
    "    \n",
    "    f1 = f1_score(y_valid, valid_pred)\n",
    "    roc_auc = roc_auc_score(y_valid, valid_pred_proba)\n",
    "    \n",
    "    print('F1-Score=%.2f AUC-ROC=%.2f' % (f1, roc_auc))\n",
    "    return f1, roc_auc\n"
   ]
  },
  {
   "cell_type": "markdown",
   "id": "f05c3995",
   "metadata": {},
   "source": [
    "  внесены изменения в пр. код:\n",
    "  train_pred_proba = model.predict_proba(X_train)[:, 1]\n",
    "  valid_pred_proba = model.predict_proba(X_valid)[:, 1]"
   ]
  },
  {
   "cell_type": "code",
   "execution_count": 51,
   "id": "6ef89cb6",
   "metadata": {},
   "outputs": [
    {
     "name": "stdout",
     "output_type": "stream",
     "text": [
      "DecisionTree:\n",
      "F1-Score=0.50 AUC-ROC=0.69\n",
      "\n",
      "RandomForest:\n",
      "F1-Score=0.50 AUC-ROC=0.82\n",
      "\n",
      "GradientBoosting:\n",
      "F1-Score=0.54 AUC-ROC=0.85\n",
      "\n"
     ]
    }
   ],
   "source": [
    "from sklearn.tree import DecisionTreeClassifier\n",
    "from sklearn.ensemble import RandomForestClassifier, GradientBoostingClassifier\n",
    "\n",
    "models = [\n",
    "    ('DecisionTree', DecisionTreeClassifier(random_state=RANDOM_STATE)),\n",
    "    ('RandomForest', RandomForestClassifier(random_state=RANDOM_STATE)),\n",
    "    ('GradientBoosting', GradientBoostingClassifier(random_state=RANDOM_STATE))\n",
    "]\n",
    "\n",
    "f1, auc_roc = [], []\n",
    "\n",
    "for name, model in models:\n",
    "    print(name, ':', sep='')\n",
    "    results = fit_predict(model, features_train, features_valid, target_train, target_valid)\n",
    "    f1.append(results[0])\n",
    "    auc_roc.append(results[1])\n",
    "    print()\n"
   ]
  },
  {
   "cell_type": "markdown",
   "id": "3cfaa2f5",
   "metadata": {},
   "source": [
    "можно сделать вывод, что Gradient Boosting показывает наилучшие результаты с высоким значением F1-Score (0.54) и AUC-ROC (0.85), в то время как Decision Tree и Random Forest имеют более низкие значения."
   ]
  },
  {
   "cell_type": "markdown",
   "id": "90c2eb59",
   "metadata": {},
   "source": [
    "Исходя из предоставленных результатов, можно сделать следующие выводы:\n",
    "\n",
    "При применении метода Downsampling, все три модели показывают некоторое повышение результатов по сравнению с исходными моделями без использования этого метода. Наибольший рост показателей у модели GradientBoosting.\n",
    "\n",
    "При применении метода Upsampling, вновь все три модели показывают некоторое улучшение результатов по сравнению с исходными моделями без использования этого метода. Опять же, наибольший рост показателей проявляется у модели GradientBoosting.\n",
    "\n",
    "При использовании классовых весов в моделях не наблюдается заметного изменения результатов по сравнению с исходными моделями без использования этого метода. Уровень весов классов составляет 3.89.\n",
    "\n",
    "Таким образом, выбор конкретного метода улучшения модели может зависеть от конкретного случая, однако в данном контексте методы Downsampling и Upsampling с указанными параметрами привели к более высокому значению F1-Score и AUC-ROC, особенно при использовании модели GradientBoosting."
   ]
  },
  {
   "cell_type": "code",
   "execution_count": 18,
   "id": "bdf83e57",
   "metadata": {},
   "outputs": [
    {
     "name": "stdout",
     "output_type": "stream",
     "text": [
      "F1-Score on Validation data: 0.57\n",
      "AUC-ROC on Validation data: 0.77\n",
      "F1-Score on Test data: 0.61\n",
      "AUC-ROC on Test data: 0.51\n"
     ]
    }
   ],
   "source": [
    "model = GradientBoostingClassifier(random_state=RANDOM_STATE)\n",
    "\n",
    "X_train_balanced, y_train_balanced, _ = balance(features_train, target_train, 'downsample')\n",
    "model.fit(X_train_balanced, y_train_balanced)\n",
    "\n",
    "valid_pred = model.predict(features_valid)\n",
    "test_pred = model.predict(features_test)\n",
    "\n",
    "f1_valid = f1_score(target_valid, valid_pred)\n",
    "roc_auc_valid = roc_auc_score(target_valid, valid_pred)\n",
    "\n",
    "f1_test = f1_score(target_test, test_pred)\n",
    "roc_auc_test = roc_auc_score(target_valid, test_pred)\n",
    "\n",
    "print('F1-Score on Validation data: %.2f' % f1_valid)\n",
    "print('AUC-ROC on Validation data: %.2f' % roc_auc_valid)\n",
    "\n",
    "print('F1-Score on Test data: %.2f' % f1_test)\n",
    "print('AUC-ROC on Test data: %.2f' % roc_auc_test)\n"
   ]
  },
  {
   "cell_type": "markdown",
   "id": "08f74d82",
   "metadata": {},
   "source": [
    "Была построена модель для прогнозирования ухода клиентов из \"Бета-Банка\" с F1-мерой на тестовой выборке в 0.61, что превышает требуемый уровень в 0.59. Значения ROC-AUC находятся на достаточно высоком уровене и показывают, что модель прогнозировала не случайно и в большинстве случаев отвечала верно."
   ]
  }
 ],
 "metadata": {
  "ExecuteTimeLog": [
   {
    "duration": 7071,
    "start_time": "2023-08-28T11:55:39.979Z"
   },
   {
    "duration": 4,
    "start_time": "2023-08-28T11:56:29.641Z"
   },
   {
    "duration": 39,
    "start_time": "2023-08-28T11:57:31.490Z"
   },
   {
    "duration": 1424,
    "start_time": "2023-08-28T11:58:33.160Z"
   },
   {
    "duration": 82,
    "start_time": "2023-08-28T11:58:34.826Z"
   },
   {
    "duration": 18,
    "start_time": "2023-08-28T11:58:36.825Z"
   },
   {
    "duration": 2018,
    "start_time": "2023-08-28T11:59:21.801Z"
   },
   {
    "duration": 4,
    "start_time": "2023-08-28T11:59:27.617Z"
   },
   {
    "duration": 40,
    "start_time": "2023-08-28T11:59:29.761Z"
   },
   {
    "duration": 7904,
    "start_time": "2023-08-29T11:11:57.215Z"
   },
   {
    "duration": 1505,
    "start_time": "2023-08-29T11:12:51.302Z"
   },
   {
    "duration": 45,
    "start_time": "2023-08-29T11:12:56.042Z"
   },
   {
    "duration": 17,
    "start_time": "2023-08-29T11:12:59.383Z"
   },
   {
    "duration": 16,
    "start_time": "2023-08-29T11:13:38.443Z"
   },
   {
    "duration": 12,
    "start_time": "2023-08-29T11:14:07.071Z"
   },
   {
    "duration": 157,
    "start_time": "2023-08-29T11:25:10.497Z"
   },
   {
    "duration": 94,
    "start_time": "2023-08-29T11:26:29.397Z"
   },
   {
    "duration": 2415,
    "start_time": "2023-08-29T11:26:40.172Z"
   },
   {
    "duration": 6,
    "start_time": "2023-08-29T11:26:43.045Z"
   },
   {
    "duration": 44,
    "start_time": "2023-08-29T11:26:44.673Z"
   },
   {
    "duration": 15,
    "start_time": "2023-08-29T11:26:47.468Z"
   },
   {
    "duration": 16,
    "start_time": "2023-08-29T11:27:00.618Z"
   },
   {
    "duration": 164,
    "start_time": "2023-08-29T11:27:03.424Z"
   },
   {
    "duration": 2351,
    "start_time": "2023-08-29T11:27:23.345Z"
   },
   {
    "duration": 5,
    "start_time": "2023-08-29T11:27:45.390Z"
   },
   {
    "duration": 14,
    "start_time": "2023-08-29T11:27:53.998Z"
   },
   {
    "duration": 12,
    "start_time": "2023-08-29T11:28:50.711Z"
   },
   {
    "duration": 11,
    "start_time": "2023-08-29T11:31:22.615Z"
   },
   {
    "duration": 4,
    "start_time": "2023-08-29T11:48:18.899Z"
   },
   {
    "duration": 77,
    "start_time": "2023-08-29T11:48:25.974Z"
   },
   {
    "duration": 3,
    "start_time": "2023-08-29T11:48:38.777Z"
   },
   {
    "duration": 4,
    "start_time": "2023-08-29T11:53:28.517Z"
   },
   {
    "duration": 5,
    "start_time": "2023-08-29T11:53:31.332Z"
   },
   {
    "duration": 3,
    "start_time": "2023-08-29T11:53:38.935Z"
   },
   {
    "duration": 4,
    "start_time": "2023-08-29T11:53:49.451Z"
   },
   {
    "duration": 30,
    "start_time": "2023-08-29T11:53:55.000Z"
   },
   {
    "duration": 35,
    "start_time": "2023-08-29T11:55:02.389Z"
   },
   {
    "duration": 26,
    "start_time": "2023-08-29T11:55:44.233Z"
   },
   {
    "duration": 1820,
    "start_time": "2023-08-29T11:56:13.456Z"
   },
   {
    "duration": 2312,
    "start_time": "2023-08-29T11:56:25.744Z"
   },
   {
    "duration": 5,
    "start_time": "2023-08-29T11:56:28.202Z"
   },
   {
    "duration": 44,
    "start_time": "2023-08-29T11:56:30.616Z"
   },
   {
    "duration": 15,
    "start_time": "2023-08-29T11:56:32.664Z"
   },
   {
    "duration": 16,
    "start_time": "2023-08-29T11:56:38.978Z"
   },
   {
    "duration": 1667,
    "start_time": "2023-08-29T11:56:43.796Z"
   },
   {
    "duration": 16,
    "start_time": "2023-08-29T11:56:53.981Z"
   },
   {
    "duration": 1633,
    "start_time": "2023-08-29T11:56:58.640Z"
   },
   {
    "duration": 2261,
    "start_time": "2023-08-29T11:57:39.674Z"
   },
   {
    "duration": 5,
    "start_time": "2023-08-29T11:57:43.131Z"
   },
   {
    "duration": 46,
    "start_time": "2023-08-29T11:57:45.016Z"
   },
   {
    "duration": 13,
    "start_time": "2023-08-29T11:57:46.091Z"
   },
   {
    "duration": 15,
    "start_time": "2023-08-29T11:57:52.704Z"
   },
   {
    "duration": 1467,
    "start_time": "2023-08-29T11:57:56.566Z"
   },
   {
    "duration": 204,
    "start_time": "2023-08-29T11:58:51.354Z"
   },
   {
    "duration": 6,
    "start_time": "2023-08-29T11:58:56.298Z"
   },
   {
    "duration": 184,
    "start_time": "2023-08-29T11:59:45.050Z"
   },
   {
    "duration": 23,
    "start_time": "2023-08-29T11:59:48.422Z"
   },
   {
    "duration": 4,
    "start_time": "2023-08-29T12:02:41.252Z"
   },
   {
    "duration": 25,
    "start_time": "2023-08-29T12:02:45.915Z"
   },
   {
    "duration": 2477,
    "start_time": "2023-08-29T12:03:04.524Z"
   },
   {
    "duration": 6,
    "start_time": "2023-08-29T12:03:11.820Z"
   },
   {
    "duration": 21,
    "start_time": "2023-08-29T12:03:19.768Z"
   },
   {
    "duration": 20,
    "start_time": "2023-08-29T12:03:24.789Z"
   },
   {
    "duration": 78,
    "start_time": "2023-08-29T12:03:28.185Z"
   },
   {
    "duration": 5,
    "start_time": "2023-08-29T12:03:33.257Z"
   },
   {
    "duration": 89,
    "start_time": "2023-08-29T12:03:38.009Z"
   },
   {
    "duration": 20,
    "start_time": "2023-08-29T12:03:40.435Z"
   },
   {
    "duration": 124,
    "start_time": "2023-08-29T12:04:18.789Z"
   },
   {
    "duration": 6,
    "start_time": "2023-08-29T12:04:23.039Z"
   },
   {
    "duration": 4,
    "start_time": "2023-08-29T12:04:26.558Z"
   },
   {
    "duration": 4,
    "start_time": "2023-08-29T12:07:05.501Z"
   },
   {
    "duration": 4,
    "start_time": "2023-08-29T12:07:07.659Z"
   },
   {
    "duration": 4,
    "start_time": "2023-08-29T12:09:57.484Z"
   },
   {
    "duration": 7,
    "start_time": "2023-08-29T12:11:22.390Z"
   },
   {
    "duration": 4,
    "start_time": "2023-08-29T12:11:25.828Z"
   },
   {
    "duration": 4,
    "start_time": "2023-08-29T12:26:51.241Z"
   },
   {
    "duration": 2249,
    "start_time": "2023-08-29T12:26:57.639Z"
   },
   {
    "duration": 6,
    "start_time": "2023-08-29T12:27:18.282Z"
   },
   {
    "duration": 41,
    "start_time": "2023-08-29T12:27:20.598Z"
   },
   {
    "duration": 14,
    "start_time": "2023-08-29T12:27:22.026Z"
   },
   {
    "duration": 15,
    "start_time": "2023-08-29T12:27:25.515Z"
   },
   {
    "duration": 203,
    "start_time": "2023-08-29T12:27:27.942Z"
   },
   {
    "duration": 6,
    "start_time": "2023-08-29T12:27:31.772Z"
   },
   {
    "duration": 193,
    "start_time": "2023-08-29T12:27:34.342Z"
   },
   {
    "duration": 126,
    "start_time": "2023-08-29T12:28:21.797Z"
   },
   {
    "duration": 6,
    "start_time": "2023-08-29T12:28:26.683Z"
   },
   {
    "duration": 5,
    "start_time": "2023-08-29T12:28:30.857Z"
   },
   {
    "duration": 24387,
    "start_time": "2023-08-29T12:37:17.836Z"
   },
   {
    "duration": 69165,
    "start_time": "2023-08-29T12:38:00.834Z"
   },
   {
    "duration": 69441,
    "start_time": "2023-08-29T13:15:48.541Z"
   },
   {
    "duration": 66953,
    "start_time": "2023-08-29T13:21:27.848Z"
   },
   {
    "duration": 4295,
    "start_time": "2023-08-29T13:30:15.377Z"
   },
   {
    "duration": 4164,
    "start_time": "2023-08-29T13:37:24.287Z"
   },
   {
    "duration": 4269,
    "start_time": "2023-08-29T13:37:39.714Z"
   },
   {
    "duration": 10732,
    "start_time": "2023-08-30T01:08:02.916Z"
   },
   {
    "duration": 2601,
    "start_time": "2023-08-30T01:08:13.650Z"
   },
   {
    "duration": 140,
    "start_time": "2023-08-30T01:08:16.253Z"
   },
   {
    "duration": 40,
    "start_time": "2023-08-30T01:08:16.399Z"
   },
   {
    "duration": 24,
    "start_time": "2023-08-30T01:08:16.441Z"
   },
   {
    "duration": 294,
    "start_time": "2023-08-30T01:08:16.467Z"
   },
   {
    "duration": 9,
    "start_time": "2023-08-30T01:08:16.765Z"
   },
   {
    "duration": 269,
    "start_time": "2023-08-30T01:08:16.776Z"
   },
   {
    "duration": 198,
    "start_time": "2023-08-30T01:08:17.050Z"
   },
   {
    "duration": 150,
    "start_time": "2023-08-30T01:08:17.251Z"
   },
   {
    "duration": 0,
    "start_time": "2023-08-30T01:08:17.404Z"
   },
   {
    "duration": 0,
    "start_time": "2023-08-30T01:08:17.405Z"
   },
   {
    "duration": 0,
    "start_time": "2023-08-30T01:08:17.407Z"
   },
   {
    "duration": 1,
    "start_time": "2023-08-30T01:08:17.408Z"
   },
   {
    "duration": 0,
    "start_time": "2023-08-30T01:08:17.410Z"
   },
   {
    "duration": 0,
    "start_time": "2023-08-30T01:08:17.411Z"
   },
   {
    "duration": 2972,
    "start_time": "2023-08-30T01:11:51.896Z"
   },
   {
    "duration": 7,
    "start_time": "2023-08-30T01:11:54.871Z"
   },
   {
    "duration": 48,
    "start_time": "2023-08-30T01:11:56.543Z"
   },
   {
    "duration": 20,
    "start_time": "2023-08-30T01:11:57.357Z"
   },
   {
    "duration": 17,
    "start_time": "2023-08-30T01:12:03.086Z"
   },
   {
    "duration": 257,
    "start_time": "2023-08-30T01:12:04.053Z"
   },
   {
    "duration": 7,
    "start_time": "2023-08-30T01:12:09.287Z"
   },
   {
    "duration": 120,
    "start_time": "2023-08-30T01:12:12.652Z"
   },
   {
    "duration": 153,
    "start_time": "2023-08-30T01:12:15.026Z"
   },
   {
    "duration": 160,
    "start_time": "2023-08-30T01:12:16.086Z"
   },
   {
    "duration": 10,
    "start_time": "2023-08-30T01:12:17.337Z"
   },
   {
    "duration": 7,
    "start_time": "2023-08-30T01:14:21.967Z"
   },
   {
    "duration": 7823,
    "start_time": "2023-08-31T09:40:10.990Z"
   },
   {
    "duration": 1605,
    "start_time": "2023-08-31T09:41:28.057Z"
   },
   {
    "duration": 88,
    "start_time": "2023-08-31T09:41:29.692Z"
   },
   {
    "duration": 25,
    "start_time": "2023-08-31T09:41:31.729Z"
   },
   {
    "duration": 16,
    "start_time": "2023-08-31T09:41:43.359Z"
   },
   {
    "duration": 229,
    "start_time": "2023-08-31T09:41:45.733Z"
   },
   {
    "duration": 21,
    "start_time": "2023-08-31T09:41:49.206Z"
   },
   {
    "duration": 173,
    "start_time": "2023-08-31T09:41:56.207Z"
   },
   {
    "duration": 153,
    "start_time": "2023-08-31T09:41:58.616Z"
   },
   {
    "duration": 9,
    "start_time": "2023-08-31T09:42:00.796Z"
   },
   {
    "duration": 4,
    "start_time": "2023-08-31T09:42:07.893Z"
   },
   {
    "duration": 5,
    "start_time": "2023-08-31T09:42:31.057Z"
   },
   {
    "duration": 133,
    "start_time": "2023-08-31T09:42:47.004Z"
   },
   {
    "duration": 5,
    "start_time": "2023-08-31T09:43:16.723Z"
   },
   {
    "duration": 23703,
    "start_time": "2023-08-31T09:43:21.115Z"
   },
   {
    "duration": 69190,
    "start_time": "2023-08-31T09:43:44.822Z"
   },
   {
    "duration": 4469,
    "start_time": "2023-08-31T09:44:58.354Z"
   },
   {
    "duration": 948,
    "start_time": "2023-08-31T12:14:40.864Z"
   },
   {
    "duration": 130,
    "start_time": "2023-08-31T12:14:49.495Z"
   },
   {
    "duration": 7922,
    "start_time": "2023-08-31T12:14:59.305Z"
   },
   {
    "duration": 721,
    "start_time": "2023-08-31T12:15:11.610Z"
   },
   {
    "duration": 2150,
    "start_time": "2023-08-31T12:15:26.501Z"
   },
   {
    "duration": 19,
    "start_time": "2023-08-31T12:15:35.064Z"
   },
   {
    "duration": 15,
    "start_time": "2023-08-31T12:17:06.444Z"
   },
   {
    "duration": 2247,
    "start_time": "2023-08-31T12:17:35.909Z"
   },
   {
    "duration": 20,
    "start_time": "2023-08-31T12:17:41.481Z"
   },
   {
    "duration": 81,
    "start_time": "2023-08-31T12:17:56.258Z"
   },
   {
    "duration": 17,
    "start_time": "2023-08-31T12:17:57.557Z"
   },
   {
    "duration": 15,
    "start_time": "2023-08-31T12:18:06.881Z"
   },
   {
    "duration": 6,
    "start_time": "2023-08-31T12:18:10.872Z"
   },
   {
    "duration": 13,
    "start_time": "2023-08-31T12:18:14.559Z"
   },
   {
    "duration": 11,
    "start_time": "2023-08-31T12:18:18.193Z"
   },
   {
    "duration": 8,
    "start_time": "2023-08-31T12:18:22.161Z"
   },
   {
    "duration": 4,
    "start_time": "2023-08-31T12:18:25.666Z"
   },
   {
    "duration": 25,
    "start_time": "2023-08-31T12:18:28.588Z"
   },
   {
    "duration": 2176,
    "start_time": "2023-08-31T12:22:21.568Z"
   },
   {
    "duration": 23,
    "start_time": "2023-08-31T12:22:26.055Z"
   },
   {
    "duration": 12,
    "start_time": "2023-08-31T12:26:03.766Z"
   },
   {
    "duration": 15,
    "start_time": "2023-08-31T12:26:25.735Z"
   },
   {
    "duration": 11,
    "start_time": "2023-08-31T12:26:54.774Z"
   },
   {
    "duration": 21,
    "start_time": "2023-08-31T12:27:09.105Z"
   },
   {
    "duration": 18,
    "start_time": "2023-08-31T12:28:10.381Z"
   },
   {
    "duration": 15,
    "start_time": "2023-08-31T12:28:18.801Z"
   },
   {
    "duration": 44,
    "start_time": "2023-08-31T12:28:22.209Z"
   },
   {
    "duration": 2312,
    "start_time": "2023-08-31T12:29:45.756Z"
   },
   {
    "duration": 24,
    "start_time": "2023-08-31T12:29:58.903Z"
   },
   {
    "duration": 2235,
    "start_time": "2023-08-31T12:31:26.530Z"
   },
   {
    "duration": 26,
    "start_time": "2023-08-31T12:32:54.729Z"
   },
   {
    "duration": 2292,
    "start_time": "2023-08-31T12:33:14.021Z"
   },
   {
    "duration": 26,
    "start_time": "2023-08-31T12:33:16.937Z"
   },
   {
    "duration": 14,
    "start_time": "2023-08-31T12:33:17.646Z"
   },
   {
    "duration": 46,
    "start_time": "2023-08-31T12:33:20.186Z"
   },
   {
    "duration": 20,
    "start_time": "2023-08-31T12:33:25.239Z"
   },
   {
    "duration": 14,
    "start_time": "2023-08-31T12:33:29.898Z"
   },
   {
    "duration": 203,
    "start_time": "2023-08-31T12:33:33.149Z"
   },
   {
    "duration": 5,
    "start_time": "2023-08-31T12:33:36.470Z"
   },
   {
    "duration": 183,
    "start_time": "2023-08-31T12:33:40.117Z"
   },
   {
    "duration": 147,
    "start_time": "2023-08-31T12:33:42.117Z"
   },
   {
    "duration": 6,
    "start_time": "2023-08-31T12:33:48.029Z"
   },
   {
    "duration": 4,
    "start_time": "2023-08-31T12:33:50.841Z"
   },
   {
    "duration": 22539,
    "start_time": "2023-08-31T12:33:56.221Z"
   },
   {
    "duration": 65624,
    "start_time": "2023-08-31T12:53:22.845Z"
   },
   {
    "duration": 808,
    "start_time": "2023-08-31T12:57:52.163Z"
   },
   {
    "duration": 894,
    "start_time": "2023-08-31T12:58:10.238Z"
   },
   {
    "duration": 22650,
    "start_time": "2023-08-31T13:00:20.513Z"
   },
   {
    "duration": 10802,
    "start_time": "2023-08-31T21:20:13.961Z"
   },
   {
    "duration": 1896,
    "start_time": "2023-08-31T21:20:24.766Z"
   }
  ],
  "kernelspec": {
   "display_name": "Python 3 (ipykernel)",
   "language": "python",
   "name": "python3"
  },
  "language_info": {
   "codemirror_mode": {
    "name": "ipython",
    "version": 3
   },
   "file_extension": ".py",
   "mimetype": "text/x-python",
   "name": "python",
   "nbconvert_exporter": "python",
   "pygments_lexer": "ipython3",
   "version": "3.11.5"
  },
  "toc": {
   "base_numbering": 1,
   "nav_menu": {},
   "number_sections": true,
   "sideBar": true,
   "skip_h1_title": true,
   "title_cell": "Table of Contents",
   "title_sidebar": "Contents",
   "toc_cell": false,
   "toc_position": {},
   "toc_section_display": true,
   "toc_window_display": false
  }
 },
 "nbformat": 4,
 "nbformat_minor": 5
}
