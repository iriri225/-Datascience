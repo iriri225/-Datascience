{
 "cells": [
  {
   "cell_type": "markdown",
   "metadata": {},
   "source": [
    "К вам поступила информация о числе заказов за прошедшие 3 месяца с разрешением по неделям. Постройте (если это возможно) прогноз продаж на следующие 3 месяца, с учётом того, что в неделю с 2020-02-02 по 2020-02-09 была проведена массивная акция, повысившая число заказов на 7%"
   ]
  },
  {
   "cell_type": "code",
   "execution_count": 2,
   "metadata": {},
   "outputs": [
    {
     "name": "stdout",
     "output_type": "stream",
     "text": [
      "Collecting prophet\n",
      "  Obtaining dependency information for prophet from https://files.pythonhosted.org/packages/24/2b/834e9a347f2f0161e32a3c6125b8a1ebdf6ac33199a0ed3a0bdf1f0c296f/prophet-1.1.5-py3-none-win_amd64.whl.metadata\n",
      "  Downloading prophet-1.1.5-py3-none-win_amd64.whl.metadata (3.6 kB)\n",
      "Collecting cmdstanpy>=1.0.4 (from prophet)\n",
      "  Obtaining dependency information for cmdstanpy>=1.0.4 from https://files.pythonhosted.org/packages/3e/bc/0be65769bf0fbcc07147b61f0feeca090f1d321f02df83bd0c4a83ecb642/cmdstanpy-1.2.3-py3-none-any.whl.metadata\n",
      "  Downloading cmdstanpy-1.2.3-py3-none-any.whl.metadata (4.1 kB)\n",
      "Requirement already satisfied: numpy>=1.15.4 in c:\\users\\iriri\\anaconda3\\lib\\site-packages (from prophet) (1.24.3)\n",
      "Requirement already satisfied: matplotlib>=2.0.0 in c:\\users\\iriri\\anaconda3\\lib\\site-packages (from prophet) (3.8.0)\n",
      "Requirement already satisfied: pandas>=1.0.4 in c:\\users\\iriri\\anaconda3\\lib\\site-packages (from prophet) (2.1.4)\n",
      "Collecting holidays>=0.25 (from prophet)\n",
      "  Obtaining dependency information for holidays>=0.25 from https://files.pythonhosted.org/packages/42/12/22bead48246046529afec12833537d6fc99dee47e7432f6f290933d26c32/holidays-0.50-py3-none-any.whl.metadata\n",
      "  Downloading holidays-0.50-py3-none-any.whl.metadata (23 kB)\n",
      "Requirement already satisfied: tqdm>=4.36.1 in c:\\users\\iriri\\anaconda3\\lib\\site-packages (from prophet) (4.65.0)\n",
      "Collecting importlib-resources (from prophet)\n",
      "  Obtaining dependency information for importlib-resources from https://files.pythonhosted.org/packages/75/06/4df55e1b7b112d183f65db9503bff189e97179b256e1ea450a3c365241e0/importlib_resources-6.4.0-py3-none-any.whl.metadata\n",
      "  Downloading importlib_resources-6.4.0-py3-none-any.whl.metadata (3.9 kB)\n",
      "Collecting stanio<2.0.0,>=0.4.0 (from cmdstanpy>=1.0.4->prophet)\n",
      "  Obtaining dependency information for stanio<2.0.0,>=0.4.0 from https://files.pythonhosted.org/packages/55/35/076a5ff427a47613581f6bd7acebfa8d49046a1b78132216e26fedee0c6b/stanio-0.5.0-py3-none-any.whl.metadata\n",
      "  Downloading stanio-0.5.0-py3-none-any.whl.metadata (1.3 kB)\n",
      "Requirement already satisfied: python-dateutil in c:\\users\\iriri\\anaconda3\\lib\\site-packages (from holidays>=0.25->prophet) (2.8.2)\n",
      "Requirement already satisfied: contourpy>=1.0.1 in c:\\users\\iriri\\anaconda3\\lib\\site-packages (from matplotlib>=2.0.0->prophet) (1.2.0)\n",
      "Requirement already satisfied: cycler>=0.10 in c:\\users\\iriri\\anaconda3\\lib\\site-packages (from matplotlib>=2.0.0->prophet) (0.11.0)\n",
      "Requirement already satisfied: fonttools>=4.22.0 in c:\\users\\iriri\\anaconda3\\lib\\site-packages (from matplotlib>=2.0.0->prophet) (4.25.0)\n",
      "Requirement already satisfied: kiwisolver>=1.0.1 in c:\\users\\iriri\\anaconda3\\lib\\site-packages (from matplotlib>=2.0.0->prophet) (1.4.4)\n",
      "Requirement already satisfied: packaging>=20.0 in c:\\users\\iriri\\anaconda3\\lib\\site-packages (from matplotlib>=2.0.0->prophet) (23.2)\n",
      "Requirement already satisfied: pillow>=6.2.0 in c:\\users\\iriri\\anaconda3\\lib\\site-packages (from matplotlib>=2.0.0->prophet) (10.2.0)\n",
      "Requirement already satisfied: pyparsing>=2.3.1 in c:\\users\\iriri\\anaconda3\\lib\\site-packages (from matplotlib>=2.0.0->prophet) (2.4.7)\n",
      "Requirement already satisfied: pytz>=2020.1 in c:\\users\\iriri\\anaconda3\\lib\\site-packages (from pandas>=1.0.4->prophet) (2023.3.post1)\n",
      "Requirement already satisfied: tzdata>=2022.1 in c:\\users\\iriri\\anaconda3\\lib\\site-packages (from pandas>=1.0.4->prophet) (2023.3)\n",
      "Requirement already satisfied: colorama in c:\\users\\iriri\\anaconda3\\lib\\site-packages (from tqdm>=4.36.1->prophet) (0.4.6)\n",
      "Requirement already satisfied: six>=1.5 in c:\\users\\iriri\\anaconda3\\lib\\site-packages (from python-dateutil->holidays>=0.25->prophet) (1.16.0)\n",
      "Downloading prophet-1.1.5-py3-none-win_amd64.whl (13.3 MB)\n",
      "   ---------------------------------------- 0.0/13.3 MB ? eta -:--:--\n",
      "   ---------------------------------------- 0.0/13.3 MB 991.0 kB/s eta 0:00:14\n",
      "   ---------------------------------------- 0.1/13.3 MB 1.2 MB/s eta 0:00:11\n",
      "    --------------------------------------- 0.2/13.3 MB 1.5 MB/s eta 0:00:09\n",
      "    --------------------------------------- 0.2/13.3 MB 1.6 MB/s eta 0:00:09\n",
      "   - -------------------------------------- 0.5/13.3 MB 1.9 MB/s eta 0:00:07\n",
      "   - -------------------------------------- 0.5/13.3 MB 2.0 MB/s eta 0:00:07\n",
      "   -- ------------------------------------- 0.7/13.3 MB 2.2 MB/s eta 0:00:06\n",
      "   -- ------------------------------------- 0.9/13.3 MB 2.5 MB/s eta 0:00:06\n",
      "   -- ------------------------------------- 0.9/13.3 MB 2.5 MB/s eta 0:00:06\n",
      "   ---- ----------------------------------- 1.4/13.3 MB 3.0 MB/s eta 0:00:05\n",
      "   ---- ----------------------------------- 1.5/13.3 MB 2.8 MB/s eta 0:00:05\n",
      "   ----- ---------------------------------- 1.7/13.3 MB 3.1 MB/s eta 0:00:04\n",
      "   ------ --------------------------------- 2.1/13.3 MB 3.4 MB/s eta 0:00:04\n",
      "   ------- -------------------------------- 2.4/13.3 MB 3.7 MB/s eta 0:00:03\n",
      "   ------- -------------------------------- 2.7/13.3 MB 3.8 MB/s eta 0:00:03\n",
      "   ------- -------------------------------- 2.7/13.3 MB 3.8 MB/s eta 0:00:03\n",
      "   --------- ------------------------------ 3.2/13.3 MB 4.0 MB/s eta 0:00:03\n",
      "   ---------- ----------------------------- 3.6/13.3 MB 4.3 MB/s eta 0:00:03\n",
      "   ----------- ---------------------------- 3.9/13.3 MB 4.3 MB/s eta 0:00:03\n",
      "   ------------ --------------------------- 4.1/13.3 MB 4.3 MB/s eta 0:00:03\n",
      "   ------------ --------------------------- 4.3/13.3 MB 4.4 MB/s eta 0:00:03\n",
      "   ------------- -------------------------- 4.5/13.3 MB 4.4 MB/s eta 0:00:02\n",
      "   -------------- ------------------------- 4.7/13.3 MB 4.4 MB/s eta 0:00:02\n",
      "   -------------- ------------------------- 4.9/13.3 MB 4.5 MB/s eta 0:00:02\n",
      "   --------------- ------------------------ 5.1/13.3 MB 4.4 MB/s eta 0:00:02\n",
      "   ---------------- ----------------------- 5.3/13.3 MB 4.5 MB/s eta 0:00:02\n",
      "   ---------------- ----------------------- 5.4/13.3 MB 4.4 MB/s eta 0:00:02\n",
      "   ----------------- ---------------------- 5.7/13.3 MB 4.5 MB/s eta 0:00:02\n",
      "   ----------------- ---------------------- 5.9/13.3 MB 4.5 MB/s eta 0:00:02\n",
      "   ------------------ --------------------- 6.1/13.3 MB 4.6 MB/s eta 0:00:02\n",
      "   ------------------- -------------------- 6.4/13.3 MB 4.6 MB/s eta 0:00:02\n",
      "   ------------------- -------------------- 6.6/13.3 MB 4.6 MB/s eta 0:00:02\n",
      "   -------------------- ------------------- 6.7/13.3 MB 4.6 MB/s eta 0:00:02\n",
      "   -------------------- ------------------- 6.8/13.3 MB 4.5 MB/s eta 0:00:02\n",
      "   -------------------- ------------------- 6.8/13.3 MB 4.5 MB/s eta 0:00:02\n",
      "   --------------------- ------------------ 7.2/13.3 MB 4.5 MB/s eta 0:00:02\n",
      "   ---------------------- ----------------- 7.5/13.3 MB 4.6 MB/s eta 0:00:02\n",
      "   ---------------------- ----------------- 7.6/13.3 MB 4.6 MB/s eta 0:00:02\n",
      "   ----------------------- ---------------- 7.9/13.3 MB 4.6 MB/s eta 0:00:02\n",
      "   ------------------------ --------------- 8.1/13.3 MB 4.6 MB/s eta 0:00:02\n",
      "   ------------------------ --------------- 8.3/13.3 MB 4.6 MB/s eta 0:00:02\n",
      "   ------------------------- -------------- 8.5/13.3 MB 4.6 MB/s eta 0:00:02\n",
      "   -------------------------- ------------- 8.7/13.3 MB 4.6 MB/s eta 0:00:02\n",
      "   -------------------------- ------------- 8.8/13.3 MB 4.6 MB/s eta 0:00:01\n",
      "   --------------------------- ------------ 9.1/13.3 MB 4.6 MB/s eta 0:00:01\n",
      "   --------------------------- ------------ 9.2/13.3 MB 4.6 MB/s eta 0:00:01\n",
      "   --------------------------- ------------ 9.2/13.3 MB 4.5 MB/s eta 0:00:01\n",
      "   ---------------------------- ----------- 9.4/13.3 MB 4.4 MB/s eta 0:00:01\n",
      "   ---------------------------- ----------- 9.6/13.3 MB 4.5 MB/s eta 0:00:01\n",
      "   ----------------------------- ---------- 9.9/13.3 MB 4.5 MB/s eta 0:00:01\n",
      "   ------------------------------ --------- 10.1/13.3 MB 4.5 MB/s eta 0:00:01\n",
      "   ------------------------------- -------- 10.4/13.3 MB 4.7 MB/s eta 0:00:01\n",
      "   ------------------------------- -------- 10.5/13.3 MB 4.8 MB/s eta 0:00:01\n",
      "   -------------------------------- ------- 10.8/13.3 MB 4.9 MB/s eta 0:00:01\n",
      "   -------------------------------- ------- 10.9/13.3 MB 4.8 MB/s eta 0:00:01\n",
      "   --------------------------------- ------ 11.1/13.3 MB 4.8 MB/s eta 0:00:01\n",
      "   --------------------------------- ------ 11.3/13.3 MB 5.0 MB/s eta 0:00:01\n",
      "   ---------------------------------- ----- 11.5/13.3 MB 4.9 MB/s eta 0:00:01\n",
      "   ----------------------------------- ---- 11.7/13.3 MB 4.9 MB/s eta 0:00:01\n",
      "   ----------------------------------- ---- 11.9/13.3 MB 4.9 MB/s eta 0:00:01\n",
      "   ------------------------------------ --- 12.1/13.3 MB 4.8 MB/s eta 0:00:01\n",
      "   ------------------------------------ --- 12.3/13.3 MB 4.8 MB/s eta 0:00:01\n",
      "   ------------------------------------- -- 12.5/13.3 MB 4.7 MB/s eta 0:00:01\n",
      "   -------------------------------------- - 12.8/13.3 MB 4.7 MB/s eta 0:00:01\n",
      "   -------------------------------------- - 12.9/13.3 MB 4.6 MB/s eta 0:00:01\n",
      "   -------------------------------------- - 13.0/13.3 MB 4.8 MB/s eta 0:00:01\n",
      "   ---------------------------------------  13.2/13.3 MB 4.7 MB/s eta 0:00:01\n",
      "   ---------------------------------------  13.3/13.3 MB 4.6 MB/s eta 0:00:01\n",
      "   ---------------------------------------- 13.3/13.3 MB 4.5 MB/s eta 0:00:00\n",
      "Downloading cmdstanpy-1.2.3-py3-none-any.whl (94 kB)\n",
      "   ---------------------------------------- 0.0/94.4 kB ? eta -:--:--\n",
      "   ---------------------------------------- 94.4/94.4 kB ? eta 0:00:00\n",
      "Downloading holidays-0.50-py3-none-any.whl (1.0 MB)\n",
      "   ---------------------------------------- 0.0/1.0 MB ? eta -:--:--\n",
      "   --------- ------------------------------ 0.3/1.0 MB 5.3 MB/s eta 0:00:01\n",
      "   ---------------- ----------------------- 0.4/1.0 MB 6.9 MB/s eta 0:00:01\n",
      "   ------------------ --------------------- 0.5/1.0 MB 6.0 MB/s eta 0:00:01\n",
      "   --------------------------- ------------ 0.7/1.0 MB 4.6 MB/s eta 0:00:01\n",
      "   ------------------------------------ --- 1.0/1.0 MB 4.6 MB/s eta 0:00:01\n",
      "   ---------------------------------------- 1.0/1.0 MB 4.4 MB/s eta 0:00:00\n",
      "Downloading importlib_resources-6.4.0-py3-none-any.whl (38 kB)\n",
      "Downloading stanio-0.5.0-py3-none-any.whl (8.0 kB)\n",
      "Installing collected packages: stanio, importlib-resources, holidays, cmdstanpy, prophet\n",
      "Successfully installed cmdstanpy-1.2.3 holidays-0.50 importlib-resources-6.4.0 prophet-1.1.5 stanio-0.5.0\n"
     ]
    }
   ],
   "source": [
    "!pip install prophet"
   ]
  },
  {
   "cell_type": "code",
   "execution_count": 4,
   "metadata": {},
   "outputs": [],
   "source": [
    "#Импортирую библиотеки\n",
    "import pandas as pd\n",
    "import seaborn as sns\n",
    "import os\n",
    "import matplotlib.pyplot as plt \n",
    "import numpy as np\n",
    "import plotly.express as px\n",
    "import plotly.graph_objs as go\n",
    "from prophet import Prophet\n",
    "import holidays\n",
    "\n",
    "%matplotlib inline "
   ]
  },
  {
   "cell_type": "code",
   "execution_count": 6,
   "metadata": {},
   "outputs": [],
   "source": [
    "#Загружаю данные\n",
    "data = pd.read_csv('test2_completed.csv')"
   ]
  },
  {
   "cell_type": "code",
   "execution_count": 8,
   "metadata": {},
   "outputs": [],
   "source": [
    "#Переименовываю столбцы\n",
    "data = data.rename(columns = {'Дата':'ds', 'Число заказов':'y'})"
   ]
  },
  {
   "cell_type": "code",
   "execution_count": 9,
   "metadata": {},
   "outputs": [],
   "source": [
    "data.ds = pd.to_datetime(data.ds)"
   ]
  },
  {
   "cell_type": "markdown",
   "metadata": {},
   "source": [
    "Перед построением прогноза важно провести дескриптивный анализ и понять, возможно ли построить качественный прогноз на существующих данных"
   ]
  },
  {
   "cell_type": "code",
   "execution_count": 11,
   "metadata": {},
   "outputs": [
    {
     "data": {
      "text/html": [
       "<div>\n",
       "<style scoped>\n",
       "    .dataframe tbody tr th:only-of-type {\n",
       "        vertical-align: middle;\n",
       "    }\n",
       "\n",
       "    .dataframe tbody tr th {\n",
       "        vertical-align: top;\n",
       "    }\n",
       "\n",
       "    .dataframe thead th {\n",
       "        text-align: right;\n",
       "    }\n",
       "</style>\n",
       "<table border=\"1\" class=\"dataframe\">\n",
       "  <thead>\n",
       "    <tr style=\"text-align: right;\">\n",
       "      <th></th>\n",
       "      <th>ds</th>\n",
       "      <th>y</th>\n",
       "    </tr>\n",
       "  </thead>\n",
       "  <tbody>\n",
       "    <tr>\n",
       "      <th>count</th>\n",
       "      <td>14</td>\n",
       "      <td>14.000000</td>\n",
       "    </tr>\n",
       "    <tr>\n",
       "      <th>mean</th>\n",
       "      <td>2023-02-19 01:42:51.428571392</td>\n",
       "      <td>2127.428571</td>\n",
       "    </tr>\n",
       "    <tr>\n",
       "      <th>min</th>\n",
       "      <td>2023-01-05 00:00:00</td>\n",
       "      <td>650.000000</td>\n",
       "    </tr>\n",
       "    <tr>\n",
       "      <th>25%</th>\n",
       "      <td>2023-01-27 18:00:00</td>\n",
       "      <td>1254.250000</td>\n",
       "    </tr>\n",
       "    <tr>\n",
       "      <th>50%</th>\n",
       "      <td>2023-02-19 12:00:00</td>\n",
       "      <td>2078.500000</td>\n",
       "    </tr>\n",
       "    <tr>\n",
       "      <th>75%</th>\n",
       "      <td>2023-03-13 06:00:00</td>\n",
       "      <td>2702.250000</td>\n",
       "    </tr>\n",
       "    <tr>\n",
       "      <th>max</th>\n",
       "      <td>2023-04-05 00:00:00</td>\n",
       "      <td>3857.000000</td>\n",
       "    </tr>\n",
       "    <tr>\n",
       "      <th>std</th>\n",
       "      <td>NaN</td>\n",
       "      <td>1044.624976</td>\n",
       "    </tr>\n",
       "  </tbody>\n",
       "</table>\n",
       "</div>"
      ],
      "text/plain": [
       "                                  ds            y\n",
       "count                             14    14.000000\n",
       "mean   2023-02-19 01:42:51.428571392  2127.428571\n",
       "min              2023-01-05 00:00:00   650.000000\n",
       "25%              2023-01-27 18:00:00  1254.250000\n",
       "50%              2023-02-19 12:00:00  2078.500000\n",
       "75%              2023-03-13 06:00:00  2702.250000\n",
       "max              2023-04-05 00:00:00  3857.000000\n",
       "std                              NaN  1044.624976"
      ]
     },
     "execution_count": 11,
     "metadata": {},
     "output_type": "execute_result"
    }
   ],
   "source": [
    "data.describe()"
   ]
  },
  {
   "cell_type": "code",
   "execution_count": 12,
   "metadata": {},
   "outputs": [
    {
     "name": "stderr",
     "output_type": "stream",
     "text": [
      "C:\\Users\\iriri\\anaconda3\\Lib\\site-packages\\seaborn\\_oldcore.py:1119: FutureWarning: use_inf_as_na option is deprecated and will be removed in a future version. Convert inf values to NaN before operating instead.\n",
      "  with pd.option_context('mode.use_inf_as_na', True):\n",
      "C:\\Users\\iriri\\anaconda3\\Lib\\site-packages\\seaborn\\_oldcore.py:1119: FutureWarning: use_inf_as_na option is deprecated and will be removed in a future version. Convert inf values to NaN before operating instead.\n",
      "  with pd.option_context('mode.use_inf_as_na', True):\n"
     ]
    },
    {
     "data": {
      "image/png": "[encoded data removed]",
      "text/plain": [
       "<Figure size 1200x500 with 1 Axes>"
      ]
     },
     "metadata": {},
     "output_type": "display_data"
    }
   ],
   "source": [
    "plt.figure(figsize = (12,5))\n",
    "ax = sns.lineplot(x='ds', y='y', data = data)"
   ]
  },
  {
   "cell_type": "markdown",
   "metadata": {},
   "source": [
    "Всего в датасете представлены 14 наблюдений за 14 недель. \n",
    "Опираясь на задание, нам необходимо сделать прогноз на 3 последующих месяца, то есть на 12 недель. \n",
    "Данные датасета представляют из себя одномерный временной ряд, где показателем является число заказов. \n",
    "В тексте задания упоминается проведенная \"массивная акция\", однако непонятно, как этот фактор влияет на изменение числа заказов. А также есть ли другие факторы, способные влиять на изменение числа заказов (кроме временных факторов, таких как сезонность/праздничные дни)?\n",
    "\n",
    "С моей точки зрения, в датасете недостаточно данных для определения паттернов во времени. \n",
    "Однако, продолжу анализировать существующий датасет на предмет наличия аномалий."
   ]
  },
  {
   "cell_type": "code",
   "execution_count": 16,
   "metadata": {},
   "outputs": [],
   "source": [
    "#Считаю скользящее среднее (2)\n",
    "data['rolling_avg'] = data.y.rolling(2).mean()"
   ]
  },
  {
   "cell_type": "code",
   "execution_count": 18,
   "metadata": {},
   "outputs": [
    {
     "name": "stderr",
     "output_type": "stream",
     "text": [
      "C:\\Users\\iriri\\anaconda3\\Lib\\site-packages\\seaborn\\_oldcore.py:1119: FutureWarning: use_inf_as_na option is deprecated and will be removed in a future version. Convert inf values to NaN before operating instead.\n",
      "  with pd.option_context('mode.use_inf_as_na', True):\n",
      "C:\\Users\\iriri\\anaconda3\\Lib\\site-packages\\seaborn\\_oldcore.py:1119: FutureWarning: use_inf_as_na option is deprecated and will be removed in a future version. Convert inf values to NaN before operating instead.\n",
      "  with pd.option_context('mode.use_inf_as_na', True):\n",
      "C:\\Users\\iriri\\anaconda3\\Lib\\site-packages\\seaborn\\_oldcore.py:1119: FutureWarning: use_inf_as_na option is deprecated and will be removed in a future version. Convert inf values to NaN before operating instead.\n",
      "  with pd.option_context('mode.use_inf_as_na', True):\n",
      "C:\\Users\\iriri\\anaconda3\\Lib\\site-packages\\seaborn\\_oldcore.py:1119: FutureWarning: use_inf_as_na option is deprecated and will be removed in a future version. Convert inf values to NaN before operating instead.\n",
      "  with pd.option_context('mode.use_inf_as_na', True):\n"
     ]
    },
    {
     "data": {
      "text/plain": [
       "<matplotlib.legend.Legend at 0x1f138a35910>"
      ]
     },
     "execution_count": 18,
     "metadata": {},
     "output_type": "execute_result"
    },
    {
     "data": {
      "image/png": "[encoded data removed]",
      "text/plain": [
       "<Figure size 1200x500 with 1 Axes>"
      ]
     },
     "metadata": {},
     "output_type": "display_data"
    }
   ],
   "source": [
    "plt.figure(figsize = (12,5))\n",
    "ax = sns.lineplot(x='ds', y='y', data = data)\n",
    "ax = sns.lineplot(x='ds', y='rolling_avg', data = data)\n",
    "ax.legend(['Факт', 'Ск.ср'])"
   ]
  },
  {
   "cell_type": "code",
   "execution_count": 19,
   "metadata": {
    "scrolled": true
   },
   "outputs": [],
   "source": [
    "#Высчитываю разницу между фактическим числом заказов и скользящим средним\n",
    "data['delta'] = abs(data.y - data.rolling_avg)\n",
    "data['delta %'] = abs(data.y - data.rolling_avg)/data.y*100"
   ]
  },
  {
   "cell_type": "code",
   "execution_count": 20,
   "metadata": {},
   "outputs": [
    {
     "data": {
      "text/html": [
       "<div>\n",
       "<style scoped>\n",
       "    .dataframe tbody tr th:only-of-type {\n",
       "        vertical-align: middle;\n",
       "    }\n",
       "\n",
       "    .dataframe tbody tr th {\n",
       "        vertical-align: top;\n",
       "    }\n",
       "\n",
       "    .dataframe thead th {\n",
       "        text-align: right;\n",
       "    }\n",
       "</style>\n",
       "<table border=\"1\" class=\"dataframe\">\n",
       "  <thead>\n",
       "    <tr style=\"text-align: right;\">\n",
       "      <th></th>\n",
       "      <th>ds</th>\n",
       "      <th>y</th>\n",
       "      <th>rolling_avg</th>\n",
       "      <th>delta</th>\n",
       "      <th>delta %</th>\n",
       "    </tr>\n",
       "  </thead>\n",
       "  <tbody>\n",
       "    <tr>\n",
       "      <th>11</th>\n",
       "      <td>2023-03-22</td>\n",
       "      <td>3492</td>\n",
       "      <td>3113.0</td>\n",
       "      <td>379.0</td>\n",
       "      <td>10.853379</td>\n",
       "    </tr>\n",
       "    <tr>\n",
       "      <th>5</th>\n",
       "      <td>2023-02-09</td>\n",
       "      <td>1823</td>\n",
       "      <td>1656.0</td>\n",
       "      <td>167.0</td>\n",
       "      <td>9.160724</td>\n",
       "    </tr>\n",
       "    <tr>\n",
       "      <th>4</th>\n",
       "      <td>2023-02-02</td>\n",
       "      <td>1489</td>\n",
       "      <td>1332.5</td>\n",
       "      <td>156.5</td>\n",
       "      <td>10.510410</td>\n",
       "    </tr>\n",
       "    <tr>\n",
       "      <th>9</th>\n",
       "      <td>2023-03-08</td>\n",
       "      <td>2607</td>\n",
       "      <td>2470.5</td>\n",
       "      <td>136.5</td>\n",
       "      <td>5.235903</td>\n",
       "    </tr>\n",
       "    <tr>\n",
       "      <th>13</th>\n",
       "      <td>2023-04-05</td>\n",
       "      <td>3857</td>\n",
       "      <td>3732.5</td>\n",
       "      <td>124.5</td>\n",
       "      <td>3.227897</td>\n",
       "    </tr>\n",
       "  </tbody>\n",
       "</table>\n",
       "</div>"
      ],
      "text/plain": [
       "           ds     y  rolling_avg  delta    delta %\n",
       "11 2023-03-22  3492       3113.0  379.0  10.853379\n",
       "5  2023-02-09  1823       1656.0  167.0   9.160724\n",
       "4  2023-02-02  1489       1332.5  156.5  10.510410\n",
       "9  2023-03-08  2607       2470.5  136.5   5.235903\n",
       "13 2023-04-05  3857       3732.5  124.5   3.227897"
      ]
     },
     "execution_count": 20,
     "metadata": {},
     "output_type": "execute_result"
    }
   ],
   "source": [
    "#В таблице представлены 5 недель, где представлена наибольшая разница между фактическим числом заказов и скользящим средним\n",
    "data.sort_values('delta', ascending = False).head(5)"
   ]
  },
  {
   "cell_type": "markdown",
   "metadata": {},
   "source": [
    "Из таблицы и графика можно увидеть, что наибольший скачок был зафиксирован 22 марта, в тот момент, когда не проводилась \"массивная акция\". Для дальнейшего процесса прогнозирования необходимо выяснить, какие факторы повлияли на этот скачок? Возможно, проводилась какая-то другая акция, были внесены изменения в стратегию продаж, произошли изменения на сайте/магазине/приложении (в завимисомости от типа бизнеса)."
   ]
  },
  {
   "cell_type": "markdown",
   "metadata": {},
   "source": [
    "Получив данную задачу, в первую очередь, я бы задала вопрос бизнесу о цели данного прогноза. Что бизнес пытается решить, имея данный прогноз? Какие действия будут сделаны?\n",
    "С моей точки зрения, имеющиейся количество наблюдений недостаточно для построение качественного прогноза. Возможно, имеется больше исторических данных, которые можно добавить в датасет.\n",
    "\n",
    "Во-вторых, я бы уточнила, почему используется именно недельный разрез? С точки зрения диджитал-маркетинга на количество заказов онлайн могут влиять определнные онлайн-кампании, результаты которых могут определятся днями (блогер опубликовал пост в определенный день, важно увидеть этот скачок в данных).\n",
    "\n",
    "В-третьих, бы проконсультировалась с бизнесом, какие дополнительные факторы могут влиять на изменение продаж? А также, по возможности, добавила все эти факторы в датасет (например, объем инвестиций в платную рекламу (в денежном эквиваленте) / количество визитов на сайт, товаров в корзине, % конверсии итд). \n",
    "\n",
    "Продолжаю строить прогноз, предупредив всех стейкхолдеров о существующих рисках."
   ]
  },
  {
   "cell_type": "code",
   "execution_count": 22,
   "metadata": {},
   "outputs": [
    {
     "data": {
      "text/html": [
       "<div>\n",
       "<style scoped>\n",
       "    .dataframe tbody tr th:only-of-type {\n",
       "        vertical-align: middle;\n",
       "    }\n",
       "\n",
       "    .dataframe tbody tr th {\n",
       "        vertical-align: top;\n",
       "    }\n",
       "\n",
       "    .dataframe thead th {\n",
       "        text-align: right;\n",
       "    }\n",
       "</style>\n",
       "<table border=\"1\" class=\"dataframe\">\n",
       "  <thead>\n",
       "    <tr style=\"text-align: right;\">\n",
       "      <th></th>\n",
       "      <th>ds</th>\n",
       "      <th>holiday</th>\n",
       "    </tr>\n",
       "  </thead>\n",
       "  <tbody>\n",
       "    <tr>\n",
       "      <th>11</th>\n",
       "      <td>2023-05-01</td>\n",
       "      <td>Праздник Весны и Труда</td>\n",
       "    </tr>\n",
       "    <tr>\n",
       "      <th>12</th>\n",
       "      <td>2023-05-08</td>\n",
       "      <td>Выходной (перенесено с 08.01.2023)</td>\n",
       "    </tr>\n",
       "    <tr>\n",
       "      <th>13</th>\n",
       "      <td>2023-05-09</td>\n",
       "      <td>День Победы</td>\n",
       "    </tr>\n",
       "    <tr>\n",
       "      <th>14</th>\n",
       "      <td>2023-06-12</td>\n",
       "      <td>День России</td>\n",
       "    </tr>\n",
       "    <tr>\n",
       "      <th>15</th>\n",
       "      <td>2023-11-04</td>\n",
       "      <td>День народного единства</td>\n",
       "    </tr>\n",
       "  </tbody>\n",
       "</table>\n",
       "</div>"
      ],
      "text/plain": [
       "           ds                             holiday\n",
       "11 2023-05-01              Праздник Весны и Труда\n",
       "12 2023-05-08  Выходной (перенесено с 08.01.2023)\n",
       "13 2023-05-09                         День Победы\n",
       "14 2023-06-12                         День России\n",
       "15 2023-11-04             День народного единства"
      ]
     },
     "execution_count": 22,
     "metadata": {},
     "output_type": "execute_result"
    }
   ],
   "source": [
    "holidays_dict = holidays.RU(years=(2023))\n",
    "df_holidays = pd.DataFrame.from_dict(holidays_dict, orient='index') \\\n",
    "    .reset_index()\n",
    "df_holidays = df_holidays.rename({'index':'ds', 0:'holiday'}, axis ='columns')\n",
    "df_holidays['ds'] = pd.to_datetime(df_holidays.ds)\n",
    "df_holidays = df_holidays.sort_values(by=['ds'])\n",
    "df_holidays = df_holidays.reset_index(drop=True)\n",
    "df_holidays.tail()"
   ]
  },
  {
   "cell_type": "markdown",
   "metadata": {},
   "source": [
    "Для построения Prophet модели я не добавляю \"массовую акцию\" как регрессор, так как исходя из дескриптивного анализа было выяснено, что существуют и другие неизвестные факторы, которые влияют на объем продаж."
   ]
  },
  {
   "cell_type": "code",
   "execution_count": 25,
   "metadata": {},
   "outputs": [],
   "source": [
    "# Период, который надо отрезать и предсказать (проверка модели)\n",
    "predictions = 5\n",
    "\n",
    "# Отрезаем из обучающей выборки последние N точек, чтобы измерить на них качество\n",
    "train_df = data[:-predictions]"
   ]
  },
  {
   "cell_type": "code",
   "execution_count": 24,
   "metadata": {},
   "outputs": [
    {
     "data": {
      "text/html": [
       "<div>\n",
       "<style scoped>\n",
       "    .dataframe tbody tr th:only-of-type {\n",
       "        vertical-align: middle;\n",
       "    }\n",
       "\n",
       "    .dataframe tbody tr th {\n",
       "        vertical-align: top;\n",
       "    }\n",
       "\n",
       "    .dataframe thead th {\n",
       "        text-align: right;\n",
       "    }\n",
       "</style>\n",
       "<table border=\"1\" class=\"dataframe\">\n",
       "  <thead>\n",
       "    <tr style=\"text-align: right;\">\n",
       "      <th></th>\n",
       "      <th>ds</th>\n",
       "      <th>y</th>\n",
       "      <th>rolling_avg</th>\n",
       "      <th>delta</th>\n",
       "      <th>delta %</th>\n",
       "    </tr>\n",
       "  </thead>\n",
       "  <tbody>\n",
       "    <tr>\n",
       "      <th>0</th>\n",
       "      <td>2023-01-05</td>\n",
       "      <td>650</td>\n",
       "      <td>NaN</td>\n",
       "      <td>NaN</td>\n",
       "      <td>NaN</td>\n",
       "    </tr>\n",
       "    <tr>\n",
       "      <th>1</th>\n",
       "      <td>2023-01-12</td>\n",
       "      <td>837</td>\n",
       "      <td>743.5</td>\n",
       "      <td>93.5</td>\n",
       "      <td>11.170848</td>\n",
       "    </tr>\n",
       "    <tr>\n",
       "      <th>2</th>\n",
       "      <td>2023-01-19</td>\n",
       "      <td>1020</td>\n",
       "      <td>928.5</td>\n",
       "      <td>91.5</td>\n",
       "      <td>8.970588</td>\n",
       "    </tr>\n",
       "    <tr>\n",
       "      <th>3</th>\n",
       "      <td>2023-01-26</td>\n",
       "      <td>1176</td>\n",
       "      <td>1098.0</td>\n",
       "      <td>78.0</td>\n",
       "      <td>6.632653</td>\n",
       "    </tr>\n",
       "    <tr>\n",
       "      <th>4</th>\n",
       "      <td>2023-02-02</td>\n",
       "      <td>1489</td>\n",
       "      <td>1332.5</td>\n",
       "      <td>156.5</td>\n",
       "      <td>10.510410</td>\n",
       "    </tr>\n",
       "    <tr>\n",
       "      <th>5</th>\n",
       "      <td>2023-02-09</td>\n",
       "      <td>1823</td>\n",
       "      <td>1656.0</td>\n",
       "      <td>167.0</td>\n",
       "      <td>9.160724</td>\n",
       "    </tr>\n",
       "    <tr>\n",
       "      <th>6</th>\n",
       "      <td>2023-02-16</td>\n",
       "      <td>1991</td>\n",
       "      <td>1907.0</td>\n",
       "      <td>84.0</td>\n",
       "      <td>4.218985</td>\n",
       "    </tr>\n",
       "    <tr>\n",
       "      <th>7</th>\n",
       "      <td>2023-02-23</td>\n",
       "      <td>2166</td>\n",
       "      <td>2078.5</td>\n",
       "      <td>87.5</td>\n",
       "      <td>4.039705</td>\n",
       "    </tr>\n",
       "    <tr>\n",
       "      <th>8</th>\n",
       "      <td>2023-03-01</td>\n",
       "      <td>2334</td>\n",
       "      <td>2250.0</td>\n",
       "      <td>84.0</td>\n",
       "      <td>3.598972</td>\n",
       "    </tr>\n",
       "    <tr>\n",
       "      <th>9</th>\n",
       "      <td>2023-03-08</td>\n",
       "      <td>2607</td>\n",
       "      <td>2470.5</td>\n",
       "      <td>136.5</td>\n",
       "      <td>5.235903</td>\n",
       "    </tr>\n",
       "    <tr>\n",
       "      <th>10</th>\n",
       "      <td>2023-03-15</td>\n",
       "      <td>2734</td>\n",
       "      <td>2670.5</td>\n",
       "      <td>63.5</td>\n",
       "      <td>2.322604</td>\n",
       "    </tr>\n",
       "    <tr>\n",
       "      <th>11</th>\n",
       "      <td>2023-03-22</td>\n",
       "      <td>3492</td>\n",
       "      <td>3113.0</td>\n",
       "      <td>379.0</td>\n",
       "      <td>10.853379</td>\n",
       "    </tr>\n",
       "    <tr>\n",
       "      <th>12</th>\n",
       "      <td>2023-03-29</td>\n",
       "      <td>3608</td>\n",
       "      <td>3550.0</td>\n",
       "      <td>58.0</td>\n",
       "      <td>1.607539</td>\n",
       "    </tr>\n",
       "    <tr>\n",
       "      <th>13</th>\n",
       "      <td>2023-04-05</td>\n",
       "      <td>3857</td>\n",
       "      <td>3732.5</td>\n",
       "      <td>124.5</td>\n",
       "      <td>3.227897</td>\n",
       "    </tr>\n",
       "  </tbody>\n",
       "</table>\n",
       "</div>"
      ],
      "text/plain": [
       "           ds     y  rolling_avg  delta    delta %\n",
       "0  2023-01-05   650          NaN    NaN        NaN\n",
       "1  2023-01-12   837        743.5   93.5  11.170848\n",
       "2  2023-01-19  1020        928.5   91.5   8.970588\n",
       "3  2023-01-26  1176       1098.0   78.0   6.632653\n",
       "4  2023-02-02  1489       1332.5  156.5  10.510410\n",
       "5  2023-02-09  1823       1656.0  167.0   9.160724\n",
       "6  2023-02-16  1991       1907.0   84.0   4.218985\n",
       "7  2023-02-23  2166       2078.5   87.5   4.039705\n",
       "8  2023-03-01  2334       2250.0   84.0   3.598972\n",
       "9  2023-03-08  2607       2470.5  136.5   5.235903\n",
       "10 2023-03-15  2734       2670.5   63.5   2.322604\n",
       "11 2023-03-22  3492       3113.0  379.0  10.853379\n",
       "12 2023-03-29  3608       3550.0   58.0   1.607539\n",
       "13 2023-04-05  3857       3732.5  124.5   3.227897"
      ]
     },
     "execution_count": 24,
     "metadata": {},
     "output_type": "execute_result"
    }
   ],
   "source": [
    "data"
   ]
  },
  {
   "cell_type": "code",
   "execution_count": 27,
   "metadata": {},
   "outputs": [
    {
     "data": {
      "text/html": [
       "<div>\n",
       "<style scoped>\n",
       "    .dataframe tbody tr th:only-of-type {\n",
       "        vertical-align: middle;\n",
       "    }\n",
       "\n",
       "    .dataframe tbody tr th {\n",
       "        vertical-align: top;\n",
       "    }\n",
       "\n",
       "    .dataframe thead th {\n",
       "        text-align: right;\n",
       "    }\n",
       "</style>\n",
       "<table border=\"1\" class=\"dataframe\">\n",
       "  <thead>\n",
       "    <tr style=\"text-align: right;\">\n",
       "      <th></th>\n",
       "      <th>ds</th>\n",
       "      <th>y</th>\n",
       "      <th>rolling_avg</th>\n",
       "      <th>delta</th>\n",
       "      <th>delta %</th>\n",
       "    </tr>\n",
       "  </thead>\n",
       "  <tbody>\n",
       "    <tr>\n",
       "      <th>0</th>\n",
       "      <td>2023-01-05</td>\n",
       "      <td>650</td>\n",
       "      <td>NaN</td>\n",
       "      <td>NaN</td>\n",
       "      <td>NaN</td>\n",
       "    </tr>\n",
       "    <tr>\n",
       "      <th>1</th>\n",
       "      <td>2023-01-12</td>\n",
       "      <td>837</td>\n",
       "      <td>743.5</td>\n",
       "      <td>93.5</td>\n",
       "      <td>11.170848</td>\n",
       "    </tr>\n",
       "    <tr>\n",
       "      <th>2</th>\n",
       "      <td>2023-01-19</td>\n",
       "      <td>1020</td>\n",
       "      <td>928.5</td>\n",
       "      <td>91.5</td>\n",
       "      <td>8.970588</td>\n",
       "    </tr>\n",
       "    <tr>\n",
       "      <th>3</th>\n",
       "      <td>2023-01-26</td>\n",
       "      <td>1176</td>\n",
       "      <td>1098.0</td>\n",
       "      <td>78.0</td>\n",
       "      <td>6.632653</td>\n",
       "    </tr>\n",
       "    <tr>\n",
       "      <th>4</th>\n",
       "      <td>2023-02-02</td>\n",
       "      <td>1489</td>\n",
       "      <td>1332.5</td>\n",
       "      <td>156.5</td>\n",
       "      <td>10.510410</td>\n",
       "    </tr>\n",
       "    <tr>\n",
       "      <th>5</th>\n",
       "      <td>2023-02-09</td>\n",
       "      <td>1823</td>\n",
       "      <td>1656.0</td>\n",
       "      <td>167.0</td>\n",
       "      <td>9.160724</td>\n",
       "    </tr>\n",
       "    <tr>\n",
       "      <th>6</th>\n",
       "      <td>2023-02-16</td>\n",
       "      <td>1991</td>\n",
       "      <td>1907.0</td>\n",
       "      <td>84.0</td>\n",
       "      <td>4.218985</td>\n",
       "    </tr>\n",
       "    <tr>\n",
       "      <th>7</th>\n",
       "      <td>2023-02-23</td>\n",
       "      <td>2166</td>\n",
       "      <td>2078.5</td>\n",
       "      <td>87.5</td>\n",
       "      <td>4.039705</td>\n",
       "    </tr>\n",
       "    <tr>\n",
       "      <th>8</th>\n",
       "      <td>2023-03-01</td>\n",
       "      <td>2334</td>\n",
       "      <td>2250.0</td>\n",
       "      <td>84.0</td>\n",
       "      <td>3.598972</td>\n",
       "    </tr>\n",
       "  </tbody>\n",
       "</table>\n",
       "</div>"
      ],
      "text/plain": [
       "          ds     y  rolling_avg  delta    delta %\n",
       "0 2023-01-05   650          NaN    NaN        NaN\n",
       "1 2023-01-12   837        743.5   93.5  11.170848\n",
       "2 2023-01-19  1020        928.5   91.5   8.970588\n",
       "3 2023-01-26  1176       1098.0   78.0   6.632653\n",
       "4 2023-02-02  1489       1332.5  156.5  10.510410\n",
       "5 2023-02-09  1823       1656.0  167.0   9.160724\n",
       "6 2023-02-16  1991       1907.0   84.0   4.218985\n",
       "7 2023-02-23  2166       2078.5   87.5   4.039705\n",
       "8 2023-03-01  2334       2250.0   84.0   3.598972"
      ]
     },
     "execution_count": 27,
     "metadata": {},
     "output_type": "execute_result"
    }
   ],
   "source": [
    "train_df"
   ]
  },
  {
   "cell_type": "code",
   "execution_count": 28,
   "metadata": {},
   "outputs": [
    {
     "name": "stderr",
     "output_type": "stream",
     "text": [
      "22:14:07 - cmdstanpy - INFO - Chain [1] start processing\n",
      "22:14:07 - cmdstanpy - INFO - Chain [1] done processing\n"
     ]
    },
    {
     "data": {
      "text/plain": [
       "<prophet.forecaster.Prophet at 0x1f138906ad0>"
      ]
     },
     "execution_count": 28,
     "metadata": {},
     "output_type": "execute_result"
    }
   ],
   "source": [
    "m = Prophet(holidays=df_holidays, daily_seasonality=False, weekly_seasonality=False, yearly_seasonality=False)\n",
    "m.fit(train_df)"
   ]
  },
  {
   "cell_type": "code",
   "execution_count": 31,
   "metadata": {},
   "outputs": [],
   "source": [
    "# Предсказываем 5 недель\n",
    "future = m.make_future_dataframe(periods=predictions, freq = 'W')\n",
    "forecast = m.predict(future)"
   ]
  },
  {
   "cell_type": "code",
   "execution_count": 32,
   "metadata": {},
   "outputs": [],
   "source": [
    "forecast.ds = pd.to_datetime(forecast.ds)"
   ]
  },
  {
   "cell_type": "code",
   "execution_count": 40,
   "metadata": {
    "scrolled": true
   },
   "outputs": [
    {
     "name": "stderr",
     "output_type": "stream",
     "text": [
      "C:\\Users\\iriri\\anaconda3\\Lib\\site-packages\\seaborn\\_oldcore.py:1119: FutureWarning: use_inf_as_na option is deprecated and will be removed in a future version. Convert inf values to NaN before operating instead.\n",
      "  with pd.option_context('mode.use_inf_as_na', True):\n",
      "C:\\Users\\iriri\\anaconda3\\Lib\\site-packages\\seaborn\\_oldcore.py:1119: FutureWarning: use_inf_as_na option is deprecated and will be removed in a future version. Convert inf values to NaN before operating instead.\n",
      "  with pd.option_context('mode.use_inf_as_na', True):\n",
      "C:\\Users\\iriri\\anaconda3\\Lib\\site-packages\\seaborn\\_oldcore.py:1119: FutureWarning: use_inf_as_na option is deprecated and will be removed in a future version. Convert inf values to NaN before operating instead.\n",
      "  with pd.option_context('mode.use_inf_as_na', True):\n",
      "C:\\Users\\iriri\\anaconda3\\Lib\\site-packages\\seaborn\\_oldcore.py:1119: FutureWarning: use_inf_as_na option is deprecated and will be removed in a future version. Convert inf values to NaN before operating instead.\n",
      "  with pd.option_context('mode.use_inf_as_na', True):\n"
     ]
    },
    {
     "data": {
      "image/png": "[encoded data removed]",
      "text/plain": [
       "<Figure size 500x300 with 1 Axes>"
      ]
     },
     "metadata": {},
     "output_type": "display_data"
    }
   ],
   "source": [
    "plt.figure(figsize=(5, 3))\n",
    "ax = sns.lineplot(x='ds', y='y', data=data)\n",
    "ax = sns.lineplot(x='ds', y='yhat', data=forecast)\n",
    "ax.legend(['Факт', 'Прогноз'])\n",
    "plt.xticks(fontsize=6)  # Устанавливаем размер шрифта для значений по оси x\n",
    "plt.show()"
   ]
  },
  {
   "cell_type": "code",
   "execution_count": 41,
   "metadata": {},
   "outputs": [
    {
     "name": "stdout",
     "output_type": "stream",
     "text": [
      "MAPE (средняя абсолютная ошибка в процентах) –  nan %\n",
      "MAE (средняя абсолютная ошибка) –  nan\n"
     ]
    }
   ],
   "source": [
    "# Смотрим на ошибки модели\n",
    "cmp_df = forecast.set_index('ds')[['yhat', 'yhat_lower', 'yhat_upper']].join(data.set_index('ds'))\n",
    "cmp_df['e'] = cmp_df['y'] - cmp_df['yhat']\n",
    "cmp_df['p'] = 100*cmp_df['e']/cmp_df['y']\n",
    "print('MAPE (средняя абсолютная ошибка в процентах) – ', np.mean(abs(cmp_df[-predictions:]['p'])),'%')\n",
    "print('MAE (средняя абсолютная ошибка) – ', np.mean(abs(cmp_df[-predictions:]['e'])))"
   ]
  },
  {
   "cell_type": "code",
   "execution_count": 42,
   "metadata": {},
   "outputs": [
    {
     "name": "stderr",
     "output_type": "stream",
     "text": [
      "22:21:25 - cmdstanpy - INFO - Chain [1] start processing\n",
      "22:21:25 - cmdstanpy - INFO - Chain [1] done processing\n"
     ]
    },
    {
     "data": {
      "text/plain": [
       "<prophet.forecaster.Prophet at 0x1f13a02e710>"
      ]
     },
     "execution_count": 42,
     "metadata": {},
     "output_type": "execute_result"
    }
   ],
   "source": [
    "#Строим прогноз на полный период\n",
    "m = Prophet(holidays=df_holidays, daily_seasonality=False, weekly_seasonality=False, yearly_seasonality=False)\n",
    "m.fit(data)"
   ]
  },
  {
   "cell_type": "code",
   "execution_count": 43,
   "metadata": {},
   "outputs": [],
   "source": [
    "future = m.make_future_dataframe(periods=12, freq = 'W')\n",
    "forecast = m.predict(future)"
   ]
  },
  {
   "cell_type": "code",
   "execution_count": 140,
   "metadata": {},
   "outputs": [
    {
     "data": {
      "text/plain": [
       "<matplotlib.legend.Legend at 0x7f3ddb3c1940>"
      ]
     },
     "execution_count": 140,
     "metadata": {},
     "output_type": "execute_result"
    },
    {
     "data": {
      "image/png": "[encoded data removed]",
      "text/plain": [
       "<Figure size 864x360 with 1 Axes>"
      ]
     },
     "metadata": {
      "needs_background": "light"
     },
     "output_type": "display_data"
    }
   ],
   "source": [
    "#Строим графики факта и прогноза\n",
    "plt.figure(figsize = (12,5))\n",
    "ax = sns.lineplot(x='ds', y='y', data = data, legend ='brief')\n",
    "ax = sns.lineplot(x='ds', y='yhat', data = forecast)\n",
    "ax.legend(['Fact', 'Forecast'])"
   ]
  },
  {
   "cell_type": "markdown",
   "metadata": {},
   "source": [
    "Прогноз на ближайшие три месяца построен, однако существует множество рисков при использовании данного прогноза, которые были указаны выше.\n",
    "\n",
    "В качестве дальнейших шагов, я бы предложила бизнесу собрать больше исторических данных и подумать о возможности использовать несколько регрессоров для модели, которые могут влиять на объем продаж."
   ]
  }
 ],
 "metadata": {
  "kernelspec": {
   "display_name": "Python 3 (ipykernel)",
   "language": "python",
   "name": "python3"
  },
  "language_info": {
   "codemirror_mode": {
    "name": "ipython",
    "version": 3
   },
   "file_extension": ".py",
   "mimetype": "text/x-python",
   "name": "python",
   "nbconvert_exporter": "python",
   "pygments_lexer": "ipython3",
   "version": "3.11.5"
  }
 },
 "nbformat": 4,
 "nbformat_minor": 4
}
