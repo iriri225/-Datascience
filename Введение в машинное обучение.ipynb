{
 "cells": [
  {
   "cell_type": "markdown",
   "metadata": {},
   "source": [
    "# Рекомендация тарифов"
   ]
  },
  {
   "cell_type": "markdown",
   "metadata": {},
   "source": [
    "В вашем распоряжении данные о поведении клиентов, которые уже перешли на эти тарифы (из проекта курса «Статистический анализ данных»). Нужно построить модель для задачи классификации, которая выберет подходящий тариф. Предобработка данных не понадобится — вы её уже сделали.\n",
    "\n",
    "Постройте модель с максимально большим значением *accuracy*. Чтобы сдать проект успешно, нужно довести долю правильных ответов по крайней мере до 0.75. Проверьте *accuracy* на тестовой выборке самостоятельно."
   ]
  },
  {
   "cell_type": "markdown",
   "metadata": {},
   "source": [
    "# Описание проекта"
   ]
  },
  {
   "cell_type": "markdown",
   "metadata": {},
   "source": [
    "Оператор мобильной связи «Мегалайн» выяснил: многие клиенты пользуются архивными тарифами. Они хотят построить систему, способную проанализировать поведение клиентов и предложить пользователям новый тариф: «Смарт» или «Ультра».\n",
    "В вашем распоряжении данные о поведении клиентов, которые уже перешли на эти тарифы. Нужно построить модель для задачи классификации, которая выберет подходящий тариф. Предобработка данных не понадобится — вы её уже сделали.\n",
    "- Постройте модель с максимально большим значением accuracy. Чтобы сдать проект успешно, нужно довести долю правильных ответов по крайней мере до 0.75. Проверьте accuracy на тестовой выборке самостоятельно.\n",
    "\n",
    "*Инструкция по выполнению проекта*  \n",
    "- Откройте файл с данными и изучите его. Путь к файлу: /datasets/users_behavior.csv. Скачать датасет\n",
    "- Разделите исходные данные на обучающую, валидационную и тестовую выборки.\n",
    "- Исследуйте качество разных моделей, меняя гиперпараметры. Кратко напишите выводы исследования.\n",
    "- Проверьте качество модели на тестовой выборке.\n",
    "- Дополнительное задание: проверьте модели на вменяемость. Ничего страшного, если не получится: эти данные сложнее тех, с которыми вы работали раньше. В следующем курсе подробнее об этом расскажем.\n",
    "\n",
    "*Описание данных*  \n",
    "Каждый объект в наборе данных — это информация о поведении одного пользователя за месяц. Известно:  \n",
    "сalls — количество звонков,    \n",
    "minutes — суммарная длительность звонков в минутах,  \n",
    "messages — количество sms-сообщений,  \n",
    "mb_used — израсходованный интернет-трафик в Мб,  \n",
    "is_ultra — каким тарифом пользовался в течение месяца («Ультра» — 1, «Смарт» — 0)."
   ]
  },
  {
   "cell_type": "markdown",
   "metadata": {},
   "source": [
    "## Откройте и изучите файл"
   ]
  },
  {
   "cell_type": "code",
   "execution_count": 1,
   "metadata": {},
   "outputs": [],
   "source": [
    "import pandas as pd\n",
    "import seaborn as sns\n",
    "import matplotlib.pyplot as plt\n",
    "import numpy as np\n",
    "\n",
    "from sklearn.model_selection import train_test_split \n",
    "from sklearn.tree import DecisionTreeClassifier\n",
    "from sklearn.ensemble import RandomForestClassifier\n",
    "from sklearn.linear_model import LogisticRegression\n",
    "from sklearn.metrics import accuracy_score\n",
    "from sklearn.model_selection import RandomizedSearchCV"
   ]
  },
  {
   "cell_type": "code",
   "execution_count": 2,
   "metadata": {},
   "outputs": [],
   "source": [
    "df = pd.read_csv('/datasets/users_behavior.csv')"
   ]
  },
  {
   "cell_type": "code",
   "execution_count": 3,
   "metadata": {
    "scrolled": true
   },
   "outputs": [
    {
     "data": {
      "text/html": [
       "<div>\n",
       "<style scoped>\n",
       "    .dataframe tbody tr th:only-of-type {\n",
       "        vertical-align: middle;\n",
       "    }\n",
       "\n",
       "    .dataframe tbody tr th {\n",
       "        vertical-align: top;\n",
       "    }\n",
       "\n",
       "    .dataframe thead th {\n",
       "        text-align: right;\n",
       "    }\n",
       "</style>\n",
       "<table border=\"1\" class=\"dataframe\">\n",
       "  <thead>\n",
       "    <tr style=\"text-align: right;\">\n",
       "      <th></th>\n",
       "      <th>calls</th>\n",
       "      <th>minutes</th>\n",
       "      <th>messages</th>\n",
       "      <th>mb_used</th>\n",
       "      <th>is_ultra</th>\n",
       "    </tr>\n",
       "  </thead>\n",
       "  <tbody>\n",
       "    <tr>\n",
       "      <th>0</th>\n",
       "      <td>40.0</td>\n",
       "      <td>311.90</td>\n",
       "      <td>83.0</td>\n",
       "      <td>19915.42</td>\n",
       "      <td>0</td>\n",
       "    </tr>\n",
       "    <tr>\n",
       "      <th>1</th>\n",
       "      <td>85.0</td>\n",
       "      <td>516.75</td>\n",
       "      <td>56.0</td>\n",
       "      <td>22696.96</td>\n",
       "      <td>0</td>\n",
       "    </tr>\n",
       "    <tr>\n",
       "      <th>2</th>\n",
       "      <td>77.0</td>\n",
       "      <td>467.66</td>\n",
       "      <td>86.0</td>\n",
       "      <td>21060.45</td>\n",
       "      <td>0</td>\n",
       "    </tr>\n",
       "    <tr>\n",
       "      <th>3</th>\n",
       "      <td>106.0</td>\n",
       "      <td>745.53</td>\n",
       "      <td>81.0</td>\n",
       "      <td>8437.39</td>\n",
       "      <td>1</td>\n",
       "    </tr>\n",
       "    <tr>\n",
       "      <th>4</th>\n",
       "      <td>66.0</td>\n",
       "      <td>418.74</td>\n",
       "      <td>1.0</td>\n",
       "      <td>14502.75</td>\n",
       "      <td>0</td>\n",
       "    </tr>\n",
       "  </tbody>\n",
       "</table>\n",
       "</div>"
      ],
      "text/plain": [
       "   calls  minutes  messages   mb_used  is_ultra\n",
       "0   40.0   311.90      83.0  19915.42         0\n",
       "1   85.0   516.75      56.0  22696.96         0\n",
       "2   77.0   467.66      86.0  21060.45         0\n",
       "3  106.0   745.53      81.0   8437.39         1\n",
       "4   66.0   418.74       1.0  14502.75         0"
      ]
     },
     "execution_count": 3,
     "metadata": {},
     "output_type": "execute_result"
    }
   ],
   "source": [
    "df.head(5)"
   ]
  },
  {
   "cell_type": "code",
   "execution_count": 4,
   "metadata": {},
   "outputs": [
    {
     "name": "stdout",
     "output_type": "stream",
     "text": [
      "<class 'pandas.core.frame.DataFrame'>\n",
      "RangeIndex: 3214 entries, 0 to 3213\n",
      "Data columns (total 5 columns):\n",
      " #   Column    Non-Null Count  Dtype  \n",
      "---  ------    --------------  -----  \n",
      " 0   calls     3214 non-null   float64\n",
      " 1   minutes   3214 non-null   float64\n",
      " 2   messages  3214 non-null   float64\n",
      " 3   mb_used   3214 non-null   float64\n",
      " 4   is_ultra  3214 non-null   int64  \n",
      "dtypes: float64(4), int64(1)\n",
      "memory usage: 125.7 KB\n"
     ]
    }
   ],
   "source": [
    "df.info()"
   ]
  },
  {
   "cell_type": "markdown",
   "metadata": {},
   "source": [
    "Пропуски в данных не обнаружены. Столбцы calls и messages имеют тип вещественный тип данных, будет логичнее привести их к целочисленному (количество звонков и отправленных сообщений не может быть дробным)."
   ]
  },
  {
   "cell_type": "code",
   "execution_count": 5,
   "metadata": {},
   "outputs": [],
   "source": [
    "# переведем количество сообщений к целочисленному типу\n",
    "df['messages']=df['messages'].astype('int')\n",
    "# переведем количество звонков к целочисленному типу\n",
    "df['calls']=df['calls'].astype('int')"
   ]
  },
  {
   "cell_type": "markdown",
   "metadata": {},
   "source": [
    "Проверим массив на явные дубликаты"
   ]
  },
  {
   "cell_type": "code",
   "execution_count": 6,
   "metadata": {
    "scrolled": true
   },
   "outputs": [
    {
     "data": {
      "text/plain": [
       "0"
      ]
     },
     "execution_count": 6,
     "metadata": {},
     "output_type": "execute_result"
    }
   ],
   "source": [
    "df.duplicated().sum()"
   ]
  },
  {
   "cell_type": "markdown",
   "metadata": {},
   "source": [
    "Массив не содержит дубликатов\n",
    "Проверим группы пользователей по тарифам"
   ]
  },
  {
   "cell_type": "code",
   "execution_count": 7,
   "metadata": {
    "scrolled": true
   },
   "outputs": [
    {
     "data": {
      "text/html": [
       "<div>\n",
       "<style scoped>\n",
       "    .dataframe tbody tr th:only-of-type {\n",
       "        vertical-align: middle;\n",
       "    }\n",
       "\n",
       "    .dataframe tbody tr th {\n",
       "        vertical-align: top;\n",
       "    }\n",
       "\n",
       "    .dataframe thead th {\n",
       "        text-align: right;\n",
       "    }\n",
       "</style>\n",
       "<table border=\"1\" class=\"dataframe\">\n",
       "  <thead>\n",
       "    <tr style=\"text-align: right;\">\n",
       "      <th></th>\n",
       "      <th>calls</th>\n",
       "      <th>minutes</th>\n",
       "      <th>messages</th>\n",
       "      <th>mb_used</th>\n",
       "    </tr>\n",
       "    <tr>\n",
       "      <th>is_ultra</th>\n",
       "      <th></th>\n",
       "      <th></th>\n",
       "      <th></th>\n",
       "      <th></th>\n",
       "    </tr>\n",
       "  </thead>\n",
       "  <tbody>\n",
       "    <tr>\n",
       "      <th>0</th>\n",
       "      <td>2229</td>\n",
       "      <td>2229</td>\n",
       "      <td>2229</td>\n",
       "      <td>2229</td>\n",
       "    </tr>\n",
       "    <tr>\n",
       "      <th>1</th>\n",
       "      <td>985</td>\n",
       "      <td>985</td>\n",
       "      <td>985</td>\n",
       "      <td>985</td>\n",
       "    </tr>\n",
       "  </tbody>\n",
       "</table>\n",
       "</div>"
      ],
      "text/plain": [
       "          calls  minutes  messages  mb_used\n",
       "is_ultra                                   \n",
       "0          2229     2229      2229     2229\n",
       "1           985      985       985      985"
      ]
     },
     "execution_count": 7,
     "metadata": {},
     "output_type": "execute_result"
    }
   ],
   "source": [
    "df.groupby('is_ultra').count()"
   ]
  },
  {
   "cell_type": "markdown",
   "metadata": {},
   "source": [
    "**Вывод:**\n",
    "- В датасете содержится 3 214 строк.\n",
    "- Пропуски и явные дубликаты отсутствуют и в связи с чем данные не нуждаются в предобработке.\n",
    "- Для столбцов с количество звонков и отправленных сообщений с дробного на целочисленный, т.к. такие показатели не могут быть дробными\n",
    "- Большинство пользователей предпочитают тариф \"Ультра\"."
   ]
  },
  {
   "cell_type": "markdown",
   "metadata": {},
   "source": [
    "## Разбейте данные на выборки"
   ]
  },
  {
   "cell_type": "markdown",
   "metadata": {},
   "source": [
    "Первым шагом выделим признаки и целевой признак"
   ]
  },
  {
   "cell_type": "code",
   "execution_count": 8,
   "metadata": {},
   "outputs": [],
   "source": [
    "features=df.drop('is_ultra',axis=1)"
   ]
  },
  {
   "cell_type": "code",
   "execution_count": 9,
   "metadata": {},
   "outputs": [],
   "source": [
    "target=df['is_ultra']"
   ]
  },
  {
   "cell_type": "markdown",
   "metadata": {},
   "source": [
    "Разобьём исходный датасет на три выборки (обучающую, валидационную и тестовую) в соотношении 3:1:1"
   ]
  },
  {
   "cell_type": "code",
   "execution_count": 10,
   "metadata": {},
   "outputs": [],
   "source": [
    "features_train, features_split, target_train, target_split = train_test_split(\n",
    "    features, target, test_size=0.4, random_state=12345)"
   ]
  },
  {
   "cell_type": "markdown",
   "metadata": {},
   "source": [
    "В результате применения функции train_test_split получили следующие выборки:\n",
    "\n",
    "train - обучающуя выборка, которая содержит 60% от исходного датасета (собственно на этой выборке будет проходить обучение моделей)\n",
    "split - выборка, подлежащая разделению на валидационную и тестовую"
   ]
  },
  {
   "cell_type": "code",
   "execution_count": 11,
   "metadata": {},
   "outputs": [],
   "source": [
    "features_valid, features_test, target_valid, target_test = train_test_split(\n",
    "    features_split, target_split, test_size=0.5, random_state=12345)"
   ]
  },
  {
   "cell_type": "markdown",
   "metadata": {},
   "source": [
    "Разбив выборку df_split по полам мы получили две выборки (валидационную и тестовую), размер которых составялет по 20% от исходных данных."
   ]
  },
  {
   "cell_type": "code",
   "execution_count": 12,
   "metadata": {},
   "outputs": [
    {
     "data": {
      "text/plain": [
       "3214"
      ]
     },
     "execution_count": 12,
     "metadata": {},
     "output_type": "execute_result"
    }
   ],
   "source": [
    "features_valid.shape[0]+features_test.shape[0]+features_train.shape[0]"
   ]
  },
  {
   "cell_type": "markdown",
   "metadata": {},
   "source": [
    "Все хорошо, размер исходного датасета совпадает с размерами обучающей, валидационной и тестовой выборки."
   ]
  },
  {
   "cell_type": "markdown",
   "metadata": {},
   "source": [
    "## Исследуйте модели"
   ]
  },
  {
   "cell_type": "markdown",
   "metadata": {},
   "source": [
    "### Модель Decision Tree  "
   ]
  },
  {
   "cell_type": "markdown",
   "metadata": {},
   "source": [
    "Первой обучим модель решающих деревьев и оценим точность на валидационной выборке. Подбирать гиперпараметр максимальной глубины решающего дерева будем с помощью классического цикла."
   ]
  },
  {
   "cell_type": "code",
   "execution_count": 13,
   "metadata": {
    "scrolled": true
   },
   "outputs": [
    {
     "name": "stdout",
     "output_type": "stream",
     "text": [
      "max_depth = 1 : 0.7542768273716952\n",
      "max_depth = 2 : 0.7822706065318819\n",
      "max_depth = 3 : 0.7853810264385692\n",
      "max_depth = 4 : 0.7791601866251944\n",
      "max_depth = 5 : 0.7791601866251944\n",
      "max_depth = 6 : 0.7838258164852255\n",
      "max_depth = 7 : 0.7822706065318819\n",
      "max_depth = 8 : 0.7791601866251944\n",
      "max_depth = 9 : 0.7822706065318819\n",
      "max_depth = 10 : 0.7744945567651633\n",
      "max_depth = 11 : 0.7620528771384136\n",
      "max_depth = 12 : 0.7620528771384136\n",
      "max_depth = 13 : 0.7558320373250389\n",
      "max_depth = 14 : 0.7589424572317263\n",
      "max_depth = 15 : 0.7465007776049767\n",
      "Лучшее значение accuracy для модели Decision Tree составялет: 0.7854\n",
      "Максимальная глубина дерева: 3\n"
     ]
    }
   ],
   "source": [
    "dt_best_model = None\n",
    "dt_best_depth = 0\n",
    "dt_best_accuracy = 0\n",
    "\n",
    "depth_list = []\n",
    "accuracy_train_list = []\n",
    "accuracy_valid_list = []\n",
    "\n",
    "for depth in range(1, 16):\n",
    "    # < сделали цикл  для max_depth от 1 до 15 >\n",
    "    model = DecisionTreeClassifier(random_state=12345, max_depth=depth)\n",
    "    model.fit(features_train, target_train) # обучите модель\n",
    "    predictions_valid = model.predict(features_valid)# получите предсказания модели\n",
    "    dt_accuracy= (accuracy_score(target_valid, predictions_valid)) \n",
    "   \n",
    "    print(\"max_depth =\", depth, \": \", end='')\n",
    "    print(accuracy_score(target_valid, predictions_valid))\n",
    "    \n",
    "    depth_list.append(depth)\n",
    "    accuracy_valid_list.append(dt_accuracy)\n",
    "    \n",
    "    predictions_train = model.predict(features_train)\n",
    "    accuracy_train_list.append(accuracy_score(target_train,predictions_train))\n",
    "    \n",
    "    if dt_best_accuracy < dt_accuracy:\n",
    "        dt_best_model = model\n",
    "        dt_best_accuracy = dt_accuracy\n",
    "        dt_best_depth = depth\n",
    "      \n",
    "                \n",
    "print('Лучшее значение accuracy для модели Decision Tree составялет: {:.4f}'.format(dt_best_accuracy))\n",
    "print('Максимальная глубина дерева:', dt_best_depth)"
   ]
  },
  {
   "cell_type": "markdown",
   "metadata": {},
   "source": [
    "Визуально видно, чо наиболее точно подходит к решению модель с глубиной дерева -3 Для автоматической оценки точного решения добавили условие, что наиболее лучшее решение по точности, когда отклонение равно 0"
   ]
  },
  {
   "cell_type": "markdown",
   "metadata": {},
   "source": [
    "Визуализируем результаты оценки точности на обучающей и валидационной выборке."
   ]
  },
  {
   "cell_type": "code",
   "execution_count": 14,
   "metadata": {
    "scrolled": true
   },
   "outputs": [
    {
     "data": {
      "image/png": "[encoded data removed]",
      "text/plain": [
       "<Figure size 1296x432 with 1 Axes>"
      ]
     },
     "metadata": {
      "needs_background": "light"
     },
     "output_type": "display_data"
    }
   ],
   "source": [
    "plt.figure(figsize=(18, 6))\n",
    "plt.plot(depth_list, accuracy_valid_list, marker='o', label='Точность на валидационной выборке')\n",
    "plt.plot(depth_list, accuracy_train_list, marker='x', label='Точность на обучающей выборке')\n",
    "\n",
    "plt.xlabel('Глубина дерева')\n",
    "plt.ylabel('Точность')\n",
    "plt.title('Зависимость точности от глубины дерева', fontsize=12)\n",
    "plt.legend(prop={'size':12})\n",
    "plt.show()"
   ]
  },
  {
   "cell_type": "markdown",
   "metadata": {},
   "source": [
    "Дополнительно проведем оценку путем случайного подбора гиперпараметров. Для этой модели будем подирать не только глубину дерева, но также попробуем подобрать следующие гиперпараметры:\n",
    "- criterion - критерий расщепления дерева;\n",
    "- max_features - количество используемых признаков;\n",
    "- min_samples_split - минимальное число объектов, при котором выполняется расщепление на узлы;\n",
    "- min_samples_leaf - минимальное количество объектов в листьях;\n",
    "- max_leaf_nodes - максимальное количество листовых узлов."
   ]
  },
  {
   "cell_type": "code",
   "execution_count": 15,
   "metadata": {},
   "outputs": [
    {
     "name": "stdout",
     "output_type": "stream",
     "text": [
      "Лучшие найденные гиперпараметры: {'min_samples_split': 23, 'min_samples_leaf': 1, 'max_leaf_nodes': 14, 'max_features': None, 'max_depth': 28, 'criterion': 'gini'}\n",
      "Значение accuracy для модели Decision Tree  со случайным подбором гиперпараметров составялет: 0.7869\n"
     ]
    }
   ],
   "source": [
    "dt_hyperparameters={\n",
    "    'max_depth': np.arange(1, 30).astype(int),\n",
    "    'max_features': ['auto', 'sqrt', None],\n",
    "    'criterion':['gini','entropy'],\n",
    "    'min_samples_leaf':np.arange(1,50).astype(int),\n",
    "    'min_samples_split':np.arange(2,100).astype(int),\n",
    "    'max_leaf_nodes': [None] + list(np.arange(2,50).astype(int))\n",
    "    }\n",
    "\n",
    "dt_random_opt = RandomizedSearchCV(\n",
    "    DecisionTreeClassifier(random_state=12345), \n",
    "    dt_hyperparameters, n_iter=500, n_jobs=-1,cv=3, random_state=12345) \n",
    "\n",
    "dt_model_random = dt_random_opt.fit(features_train, target_train)\n",
    "print('Лучшие найденные гиперпараметры: ' + str(dt_model_random.best_params_))\n",
    "\n",
    "dt_random_predict_valid = dt_model_random.predict(features_valid)\n",
    "\n",
    "dt_random_accuracy = accuracy_score(target_valid, dt_random_predict_valid)\n",
    "\n",
    "print('Значение accuracy для модели Decision Tree  со случайным подбором гиперпараметров составялет: {:.4f}'\n",
    "      .format(dt_random_accuracy))"
   ]
  },
  {
   "cell_type": "markdown",
   "metadata": {},
   "source": [
    "**Вывод:**\n",
    "- Обучена модель Decision Tree с с подбором гиперпараметра – глубина решающего дерева;\n",
    "- Максимальное значение точности классификации на валидационной выборке составляет 78.5% (точность достигнута при глубине дерева = 3);\n",
    "- Построен график зависимости точности классификации на обучающей и валидационной выборке. Как видно из графика для обучающей выборке с повышением глубины дерева точность повышалась, в то время как для валидационной наблюдается противоположный эффект. При глубине дерева 10 и выше – точность классификации заметно падает, что свидетельствует о переобучении модели. \n",
    "- Дополнительно построена модель со случайным подбором нескольких гиперпараметров. Точность классификации этой модели выше примерно на 0.15%, чем у модели с подбором только одного гиперпараметра. Сравним результаты позднее на тестовой выборке."
   ]
  },
  {
   "cell_type": "markdown",
   "metadata": {},
   "source": [
    " ### Модель Random Forest"
   ]
  },
  {
   "cell_type": "markdown",
   "metadata": {},
   "source": [
    "Обучим перебором двух гиперпараметров - глубина дерева и количество деревьев (перебор циклом)"
   ]
  },
  {
   "cell_type": "code",
   "execution_count": 16,
   "metadata": {},
   "outputs": [
    {
     "name": "stdout",
     "output_type": "stream",
     "text": [
      "Лучшее значение accuracy для модели Random Forest составялет 0.8056\n",
      "Максимальное количество деревьев 17\n",
      "Максимальная глубина дерева 12\n"
     ]
    }
   ],
   "source": [
    "rf_best_model = None\n",
    "rf_best_depth = 0\n",
    "rf_best_accuracy = 0\n",
    "rf_best_est = 0\n",
    "\n",
    "for est in range(2, 26):\n",
    "    for depth in range (1, 26):\n",
    "        # обучим модель с заданным количеством деревьев\n",
    "        rf_model = RandomForestClassifier(random_state=12345, \n",
    "                                       n_estimators=est,\n",
    "                                       max_depth=depth) \n",
    "        # обучим модель на тренировочной выборке\n",
    "        rf_model.fit(features_train,target_train)\n",
    "        # оценим качество модели на тренировочной выборке\n",
    "        rf_accuracy = rf_model.score(features_valid, target_valid)\n",
    "        \n",
    "        result = rf_model.score(features_valid,target_valid) # посчитайте качество модели на валидационной выборке\n",
    "        if rf_best_accuracy < rf_accuracy:\n",
    "            rf_best_model = rf_model\n",
    "            rf_best_accuracy = rf_accuracy\n",
    "            rf_best_depth = depth\n",
    "            rf_best_est = est\n",
    "    \n",
    "print('Лучшее значение accuracy для модели Random Forest составялет {:.4f}'.format(rf_best_accuracy))\n",
    "print('Максимальное количество деревьев', rf_best_est)\n",
    "print('Максимальная глубина дерева', rf_best_depth)"
   ]
  },
  {
   "cell_type": "markdown",
   "metadata": {},
   "source": [
    "**Вывод:**\n",
    "\n",
    "- Обучена модель Random Forest с с подбором двух гиперпараметров – глубина решающих деревьев и их количество;\n",
    "- Максимальное значение точности классификации на валидационной выборке составляет 80.5% (точность достигнута при глубине дерева = 12 и количеству деревьев = 17)"
   ]
  },
  {
   "cell_type": "markdown",
   "metadata": {},
   "source": [
    "### Модель Logistic Regression"
   ]
  },
  {
   "cell_type": "markdown",
   "metadata": {},
   "source": [
    "Обучим модели без перебора гиперпараметров."
   ]
  },
  {
   "cell_type": "code",
   "execution_count": 17,
   "metadata": {},
   "outputs": [
    {
     "name": "stdout",
     "output_type": "stream",
     "text": [
      "Лучшее значение accuracy для модели Logistic Regression составялет 0.7558\n",
      "ЛУчшая модель LogisticRegression(max_iter=1000, penalty='none', random_state=12345)\n"
     ]
    }
   ],
   "source": [
    "lr_best_model = None\n",
    "lr_best_accuracy = 0\n",
    "\n",
    "# модель со штрафной функцией по умолчаню (l2)\n",
    "lr_l2_model = LogisticRegression( random_state=12345, max_iter= 1000)\n",
    "lr_l2_model.fit(features_train, target_train)\n",
    "lr_l2_prediction_valid = lr_l2_model.predict(features_valid)\n",
    "lr_l2_accuracy = accuracy_score(target_valid, lr_l2_prediction_valid)\n",
    "\n",
    "#модель без штрафной функции\n",
    "lr_model = LogisticRegression( random_state=12345, max_iter= 1000, penalty ='none')\n",
    "lr_model.fit(features_train, target_train)\n",
    "lr_prediction_valid = lr_model.predict(features_valid)\n",
    "lr_accuracy = accuracy_score(target_valid, lr_prediction_valid)\n",
    "\n",
    "if lr_l2_accuracy < lr_accuracy:\n",
    "    lr_best_model = lr_model\n",
    "    lr_best_accuracy = lr_accuracy\n",
    "else:\n",
    "    lr_best_model = lr_l2_accuracy\n",
    "    lr_best_accuracy = lr_l2_accuracy\n",
    "\n",
    "print('Лучшее значение accuracy для модели Logistic Regression составялет {:.4f}'.format(lr_best_accuracy))\n",
    "print('ЛУчшая модель', lr_best_model)"
   ]
  },
  {
   "cell_type": "markdown",
   "metadata": {},
   "source": [
    "**Вывод:**\n",
    "- Были обучены две модели логистической регрессии (со штрафми и без);\n",
    "- Модель без штрафов показала более высокую точность классификации на валидационнй выборке - именно эта модель будет проверена на тестовой выборке."
   ]
  },
  {
   "cell_type": "markdown",
   "metadata": {},
   "source": [
    "### Сопоставление результатов"
   ]
  },
  {
   "cell_type": "code",
   "execution_count": 18,
   "metadata": {},
   "outputs": [
    {
     "data": {
      "text/plain": [
       "RF       0.805599\n",
       "RS_DT    0.786936\n",
       "DT       0.785381\n",
       "LR       0.755832\n",
       "dtype: float64"
      ]
     },
     "execution_count": 18,
     "metadata": {},
     "output_type": "execute_result"
    }
   ],
   "source": [
    "pd.Series([dt_best_accuracy, dt_random_accuracy, rf_best_accuracy, lr_best_accuracy], \n",
    "          ['DT', 'RS_DT', 'RF', 'LR']).sort_values(ascending=False)"
   ]
  },
  {
   "cell_type": "markdown",
   "metadata": {},
   "source": [
    "**Вывод:**\n",
    "- В рамках исследования были обучены модели Decision Tree, Random Forest и Logistic Regression;\n",
    "- гиперпараметры моделей подбирались как перебором, так и случаным образом с применением функции RandomizedSearchCV;\n",
    "- по результатам исследования различных моделей было установлено, что на валидационной выборке наилучший результат дала модель Random Forest с глубиной деревьев равным 12 и количеством деревьев равным 17;\n",
    "- самый низкий результата дала Logistic Regression; \n",
    "\n",
    "Следующим этапом проверим все модели на тестовой выборке."
   ]
  },
  {
   "cell_type": "markdown",
   "metadata": {},
   "source": [
    "## Проверьте модель на тестовой выборке"
   ]
  },
  {
   "cell_type": "markdown",
   "metadata": {},
   "source": [
    "Протестируем обученные модели на тестовой выборке и сравним результаты"
   ]
  },
  {
   "cell_type": "code",
   "execution_count": 19,
   "metadata": {},
   "outputs": [],
   "source": [
    "#Объединим тестовую и валидационную выборки для тестирования модели   \n",
    "features_train_valid = pd.concat([features_train, features_valid])\n",
    "target_train_valid = pd.concat([target_train, target_valid])"
   ]
  },
  {
   "cell_type": "code",
   "execution_count": 20,
   "metadata": {},
   "outputs": [
    {
     "name": "stdout",
     "output_type": "stream",
     "text": [
      "0.8040435458786936\n"
     ]
    }
   ],
   "source": [
    "#проверим выбранную модель Random Forest и гипараметры для тестовой выборки\n",
    "test_model = RandomForestClassifier(random_state=12345, \n",
    "                                       n_estimators=12,\n",
    "                                       max_depth=17) \n",
    "# обучим модель на тренировочной выборке\n",
    "test_model.fit(features_train_valid,target_train_valid)\n",
    "# оценим качество модели на тренировочной выборке\n",
    "test_accuracy = test_model.score(features_test, target_test)\n",
    "print(test_accuracy)"
   ]
  },
  {
   "cell_type": "markdown",
   "metadata": {},
   "source": [
    "**Вывод:**\n",
    "- Высокую точность классификации на тестовой выборке показала модель Random Forest, значение показателя accuracy (точность) составляет 80.1%;\n",
    "- В целом все модели за исключением логистической регрессии прошли заданный порог точности 0.75;\n",
    "- Также можно заметить закономерность, что модели со случайным подбором гиперпараметров показывают более высокую точность классификации по сравнению с моделями в которых подбирался 1-2 гиперпараметра."
   ]
  },
  {
   "cell_type": "markdown",
   "metadata": {},
   "source": [
    "## (бонус) Проверьте модели на адекватность"
   ]
  },
  {
   "cell_type": "markdown",
   "metadata": {},
   "source": [
    "Зададим функцию, которая будет выдавать ответ 0 или 1 случайным образом и сравним результат оценки точности с результатам оценки модели чтобы оценить ее адекватность."
   ]
  },
  {
   "cell_type": "code",
   "execution_count": 21,
   "metadata": {},
   "outputs": [
    {
     "name": "stdout",
     "output_type": "stream",
     "text": [
      "Значение точности классификации для модели случайного поиска составялет 0.5086\n"
     ]
    }
   ],
   "source": [
    "random_predictions = np.random.randint(low = 0, high = 2, size = target_test.shape[0]) \n",
    "\n",
    "#Подсчитаем долю правильных ответов\n",
    "accuracy = accuracy_score(target_test, random_predictions)\n",
    "\n",
    "#Выведем долю правильных ответов\n",
    "print('Значение точности классификации для модели случайного поиска составялет {:.4f}'.format(accuracy))"
   ]
  },
  {
   "cell_type": "markdown",
   "metadata": {},
   "source": [
    "\n",
    "<h2> Комментарий студента <a class=\"tocSkip\"> </h2>\n",
    "\n",
    "Кирилл, добрый день! Спасибо за обратную связь, а особенно за рекомендации и полезные ссыллки.  Внимательно изучу и буду использовать в дальнейшем обучении. \n",
    "</div> \n"
   ]
  },
  {
   "cell_type": "markdown",
   "metadata": {},
   "source": [
    "## Чек-лист готовности проекта"
   ]
  },
  {
   "cell_type": "markdown",
   "metadata": {},
   "source": [
    "Поставьте 'x' в выполненных пунктах. Далее нажмите Shift+Enter."
   ]
  },
  {
   "cell_type": "markdown",
   "metadata": {},
   "source": [
    "- [x] Jupyter Notebook открыт\n",
    "- [ ] Весь код исполняется без ошибок\n",
    "- [ ] Ячейки с кодом расположены в порядке исполнения\n",
    "- [ ] Выполнено задание 1: данные загружены и изучены\n",
    "- [ ] Выполнено задание 2: данные разбиты на три выборки\n",
    "- [ ] Выполнено задание 3: проведено исследование моделей\n",
    "    - [ ] Рассмотрено больше одной модели\n",
    "    - [ ] Рассмотрено хотя бы 3 значения гипепараметров для какой-нибудь модели\n",
    "    - [ ] Написаны выводы по результатам исследования\n",
    "- [ ] Выполнено задание 3: Проведено тестирование\n",
    "- [ ] Удалось достичь accuracy не меньше 0.75\n"
   ]
  }
 ],
 "metadata": {
  "ExecuteTimeLog": [
   {
    "duration": 1563,
    "start_time": "2023-08-17T06:00:14.310Z"
   },
   {
    "duration": 128,
    "start_time": "2023-08-17T06:00:26.925Z"
   },
   {
    "duration": 18,
    "start_time": "2023-08-17T06:00:39.828Z"
   },
   {
    "duration": 18,
    "start_time": "2023-08-17T06:01:19.238Z"
   },
   {
    "duration": 5,
    "start_time": "2023-08-17T06:01:32.141Z"
   },
   {
    "duration": 8,
    "start_time": "2023-08-17T06:01:57.565Z"
   },
   {
    "duration": 9,
    "start_time": "2023-08-17T06:02:25.245Z"
   },
   {
    "duration": 122,
    "start_time": "2023-08-17T06:05:20.424Z"
   },
   {
    "duration": 18,
    "start_time": "2023-08-17T06:15:48.645Z"
   },
   {
    "duration": 3,
    "start_time": "2023-08-17T06:15:52.765Z"
   },
   {
    "duration": 56,
    "start_time": "2023-08-17T06:15:52.769Z"
   },
   {
    "duration": 8,
    "start_time": "2023-08-17T06:15:52.827Z"
   },
   {
    "duration": 28,
    "start_time": "2023-08-17T06:15:52.837Z"
   },
   {
    "duration": 23,
    "start_time": "2023-08-17T06:15:52.867Z"
   },
   {
    "duration": 20,
    "start_time": "2023-08-17T06:15:52.892Z"
   },
   {
    "duration": 45,
    "start_time": "2023-08-17T06:15:52.913Z"
   },
   {
    "duration": 27,
    "start_time": "2023-08-17T06:15:52.960Z"
   },
   {
    "duration": 34,
    "start_time": "2023-08-17T06:15:52.988Z"
   },
   {
    "duration": 35,
    "start_time": "2023-08-17T06:15:53.025Z"
   },
   {
    "duration": 27,
    "start_time": "2023-08-17T06:15:53.061Z"
   },
   {
    "duration": 45,
    "start_time": "2023-08-17T06:15:53.090Z"
   },
   {
    "duration": 176,
    "start_time": "2023-08-17T06:15:53.137Z"
   },
   {
    "duration": 5,
    "start_time": "2023-08-17T06:15:53.314Z"
   },
   {
    "duration": 86,
    "start_time": "2023-08-17T06:15:53.320Z"
   },
   {
    "duration": 5,
    "start_time": "2023-08-17T06:15:53.407Z"
   },
   {
    "duration": 187,
    "start_time": "2023-08-17T06:16:53.316Z"
   },
   {
    "duration": 5,
    "start_time": "2023-08-17T06:18:54.234Z"
   },
   {
    "duration": 42,
    "start_time": "2023-08-17T06:18:54.250Z"
   },
   {
    "duration": 9,
    "start_time": "2023-08-17T06:18:54.293Z"
   },
   {
    "duration": 37,
    "start_time": "2023-08-17T06:18:54.304Z"
   },
   {
    "duration": 31,
    "start_time": "2023-08-17T06:18:54.344Z"
   },
   {
    "duration": 26,
    "start_time": "2023-08-17T06:18:54.376Z"
   },
   {
    "duration": 12,
    "start_time": "2023-08-17T06:18:54.405Z"
   },
   {
    "duration": 8,
    "start_time": "2023-08-17T06:18:54.418Z"
   },
   {
    "duration": 4,
    "start_time": "2023-08-17T06:18:54.428Z"
   },
   {
    "duration": 13,
    "start_time": "2023-08-17T06:18:54.434Z"
   },
   {
    "duration": 15,
    "start_time": "2023-08-17T06:18:54.449Z"
   },
   {
    "duration": 15,
    "start_time": "2023-08-17T06:18:54.465Z"
   },
   {
    "duration": 209,
    "start_time": "2023-08-17T06:18:54.482Z"
   },
   {
    "duration": 6,
    "start_time": "2023-08-17T06:19:03.435Z"
   },
   {
    "duration": 84,
    "start_time": "2023-08-17T06:19:03.450Z"
   },
   {
    "duration": 15,
    "start_time": "2023-08-17T06:19:03.536Z"
   },
   {
    "duration": 8882,
    "start_time": "2023-08-17T06:19:03.553Z"
   },
   {
    "duration": 177,
    "start_time": "2023-08-17T06:19:12.814Z"
   },
   {
    "duration": 4,
    "start_time": "2023-08-17T06:20:44.620Z"
   },
   {
    "duration": 45,
    "start_time": "2023-08-17T06:20:44.625Z"
   },
   {
    "duration": 9,
    "start_time": "2023-08-17T06:20:44.673Z"
   },
   {
    "duration": 13,
    "start_time": "2023-08-17T06:20:44.683Z"
   },
   {
    "duration": 4,
    "start_time": "2023-08-17T06:20:44.698Z"
   },
   {
    "duration": 8,
    "start_time": "2023-08-17T06:20:44.704Z"
   },
   {
    "duration": 10,
    "start_time": "2023-08-17T06:20:44.713Z"
   },
   {
    "duration": 4,
    "start_time": "2023-08-17T06:20:44.724Z"
   },
   {
    "duration": 20,
    "start_time": "2023-08-17T06:20:44.730Z"
   },
   {
    "duration": 11,
    "start_time": "2023-08-17T06:20:44.752Z"
   },
   {
    "duration": 5,
    "start_time": "2023-08-17T06:20:44.766Z"
   },
   {
    "duration": 5,
    "start_time": "2023-08-17T06:20:44.774Z"
   },
   {
    "duration": 185,
    "start_time": "2023-08-17T06:20:44.781Z"
   },
   {
    "duration": 207,
    "start_time": "2023-08-17T06:20:44.968Z"
   },
   {
    "duration": 9451,
    "start_time": "2023-08-17T06:20:45.177Z"
   },
   {
    "duration": 6,
    "start_time": "2023-08-17T06:20:54.630Z"
   },
   {
    "duration": 94,
    "start_time": "2023-08-17T06:20:54.637Z"
   },
   {
    "duration": 4,
    "start_time": "2023-08-17T06:20:54.733Z"
   },
   {
    "duration": 4,
    "start_time": "2023-08-17T06:25:00.998Z"
   },
   {
    "duration": 87,
    "start_time": "2023-08-17T06:25:01.012Z"
   },
   {
    "duration": 63,
    "start_time": "2023-08-17T06:25:01.101Z"
   },
   {
    "duration": 81,
    "start_time": "2023-08-17T06:25:01.166Z"
   },
   {
    "duration": 63,
    "start_time": "2023-08-17T06:25:01.249Z"
   },
   {
    "duration": 55,
    "start_time": "2023-08-17T06:25:01.314Z"
   },
   {
    "duration": 57,
    "start_time": "2023-08-17T06:25:01.370Z"
   },
   {
    "duration": 45,
    "start_time": "2023-08-17T06:25:01.430Z"
   },
   {
    "duration": 61,
    "start_time": "2023-08-17T06:25:01.478Z"
   },
   {
    "duration": 60,
    "start_time": "2023-08-17T06:25:01.541Z"
   },
   {
    "duration": 360,
    "start_time": "2023-08-17T06:25:01.602Z"
   },
   {
    "duration": 160,
    "start_time": "2023-08-17T06:25:01.965Z"
   },
   {
    "duration": 244,
    "start_time": "2023-08-17T06:25:02.128Z"
   },
   {
    "duration": 263,
    "start_time": "2023-08-17T06:25:02.374Z"
   },
   {
    "duration": 9619,
    "start_time": "2023-08-17T06:25:02.640Z"
   },
   {
    "duration": 2779,
    "start_time": "2023-08-17T06:32:59.475Z"
   },
   {
    "duration": 83,
    "start_time": "2023-08-17T06:33:02.256Z"
   },
   {
    "duration": 21,
    "start_time": "2023-08-17T06:33:02.341Z"
   },
   {
    "duration": 65,
    "start_time": "2023-08-17T06:33:02.365Z"
   },
   {
    "duration": 37,
    "start_time": "2023-08-17T06:33:02.433Z"
   },
   {
    "duration": 52,
    "start_time": "2023-08-17T06:33:02.472Z"
   },
   {
    "duration": 20,
    "start_time": "2023-08-17T06:33:02.526Z"
   },
   {
    "duration": 50,
    "start_time": "2023-08-17T06:33:02.548Z"
   },
   {
    "duration": 57,
    "start_time": "2023-08-17T06:33:02.599Z"
   },
   {
    "duration": 26,
    "start_time": "2023-08-17T06:33:02.658Z"
   },
   {
    "duration": 39,
    "start_time": "2023-08-17T06:33:02.686Z"
   },
   {
    "duration": 47,
    "start_time": "2023-08-17T06:33:02.727Z"
   },
   {
    "duration": 183,
    "start_time": "2023-08-17T06:33:02.777Z"
   },
   {
    "duration": 271,
    "start_time": "2023-08-17T06:33:02.964Z"
   },
   {
    "duration": 10882,
    "start_time": "2023-08-17T06:33:03.237Z"
   },
   {
    "duration": 33147,
    "start_time": "2023-08-17T06:33:14.121Z"
   },
   {
    "duration": 59,
    "start_time": "2023-08-17T06:33:47.271Z"
   },
   {
    "duration": 6,
    "start_time": "2023-08-17T06:33:47.332Z"
   },
   {
    "duration": 39,
    "start_time": "2023-08-17T06:33:47.339Z"
   },
   {
    "duration": 70,
    "start_time": "2023-08-17T06:33:47.381Z"
   },
   {
    "duration": 6,
    "start_time": "2023-08-17T06:33:47.459Z"
   }
  ],
  "kernelspec": {
   "display_name": "Python 3 (ipykernel)",
   "language": "python",
   "name": "python3"
  },
  "language_info": {
   "codemirror_mode": {
    "name": "ipython",
    "version": 3
   },
   "file_extension": ".py",
   "mimetype": "text/x-python",
   "name": "python",
   "nbconvert_exporter": "python",
   "pygments_lexer": "ipython3",
   "version": "3.11.5"
  },
  "toc": {
   "base_numbering": 1,
   "nav_menu": {},
   "number_sections": true,
   "sideBar": true,
   "skip_h1_title": true,
   "title_cell": "Table of Contents",
   "title_sidebar": "Contents",
   "toc_cell": false,
   "toc_position": {},
   "toc_section_display": true,
   "toc_window_display": false
  }
 },
 "nbformat": 4,
 "nbformat_minor": 4
}
