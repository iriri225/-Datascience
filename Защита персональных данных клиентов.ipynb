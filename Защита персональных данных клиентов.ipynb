{
 "cells": [
  {
   "cell_type": "markdown",
   "metadata": {
    "toc": true
   },
   "source": [
    "<h1>Содержание<span class=\"tocSkip\"></span></h1>\n",
    "<div class=\"toc\"><ul class=\"toc-item\"><li><span><a href=\"#Загрузка-данных\" data-toc-modified-id=\"Загрузка-данных-1\"><span class=\"toc-item-num\">1&nbsp;&nbsp;</span>Загрузка данных</a></span></li><li><span><a href=\"#Умножение-матриц\" data-toc-modified-id=\"Умножение-матриц-2\"><span class=\"toc-item-num\">2&nbsp;&nbsp;</span>Умножение матриц</a></span></li><li><span><a href=\"#Алгоритм-преобразования\" data-toc-modified-id=\"Алгоритм-преобразования-3\"><span class=\"toc-item-num\">3&nbsp;&nbsp;</span>Алгоритм преобразования</a></span></li><li><span><a href=\"#Проверка-алгоритма\" data-toc-modified-id=\"Проверка-алгоритма-4\"><span class=\"toc-item-num\">4&nbsp;&nbsp;</span>Проверка алгоритма</a></span></li><li><span><a href=\"#Общий-вывод\" data-toc-modified-id=\"Общий-вывод-5\"><span class=\"toc-item-num\">5&nbsp;&nbsp;</span>Общий вывод</a></span></li><li><span><a href=\"#Чек-лист-проверки\" data-toc-modified-id=\"Чек-лист-проверки-6\"><span class=\"toc-item-num\">6&nbsp;&nbsp;</span>Чек-лист проверки</a></span></li></ul></div>"
   ]
  },
  {
   "cell_type": "markdown",
   "metadata": {},
   "source": [
    "# Защита персональных данных клиентов"
   ]
  },
  {
   "cell_type": "markdown",
   "metadata": {},
   "source": [
    "Вам нужно защитить данные клиентов страховой компании «Хоть потоп». Разработайте такой метод преобразования данных, чтобы по ним было сложно восстановить персональную информацию. Обоснуйте корректность его работы.\n",
    "\n",
    "Нужно защитить данные, чтобы при преобразовании качество моделей машинного обучения не ухудшилось. Подбирать наилучшую модель не требуется."
   ]
  },
  {
   "cell_type": "markdown",
   "metadata": {},
   "source": [
    "## Загрузка данных"
   ]
  },
  {
   "cell_type": "markdown",
   "metadata": {},
   "source": [
    "Импортируем необходимые библиотеки, модели, метрики:"
   ]
  },
  {
   "cell_type": "code",
   "execution_count": 1,
   "metadata": {},
   "outputs": [],
   "source": [
    "import pandas as pd\n",
    "import numpy as np\n",
    "\n",
    "from sklearn.model_selection import train_test_split\n",
    "from sklearn.preprocessing import StandardScaler\n",
    "from sklearn.linear_model import LinearRegression\n",
    "from sklearn.metrics import r2_score"
   ]
  },
  {
   "cell_type": "markdown",
   "metadata": {},
   "source": [
    "Изучим данные:"
   ]
  },
  {
   "cell_type": "code",
   "execution_count": 2,
   "metadata": {
    "scrolled": true
   },
   "outputs": [
    {
     "name": "stdout",
     "output_type": "stream",
     "text": [
      "<class 'pandas.core.frame.DataFrame'>\n",
      "RangeIndex: 5000 entries, 0 to 4999\n",
      "Data columns (total 5 columns):\n",
      " #   Column             Non-Null Count  Dtype  \n",
      "---  ------             --------------  -----  \n",
      " 0   Пол                5000 non-null   int64  \n",
      " 1   Возраст            5000 non-null   float64\n",
      " 2   Зарплата           5000 non-null   float64\n",
      " 3   Члены семьи        5000 non-null   int64  \n",
      " 4   Страховые выплаты  5000 non-null   int64  \n",
      "dtypes: float64(2), int64(3)\n",
      "memory usage: 195.4 KB\n"
     ]
    }
   ],
   "source": [
    "data = pd.read_csv('/datasets/insurance.csv')\n",
    "data.info()"
   ]
  },
  {
   "cell_type": "code",
   "execution_count": 3,
   "metadata": {
    "scrolled": true
   },
   "outputs": [
    {
     "data": {
      "text/html": [
       "<div>\n",
       "<style scoped>\n",
       "    .dataframe tbody tr th:only-of-type {\n",
       "        vertical-align: middle;\n",
       "    }\n",
       "\n",
       "    .dataframe tbody tr th {\n",
       "        vertical-align: top;\n",
       "    }\n",
       "\n",
       "    .dataframe thead th {\n",
       "        text-align: right;\n",
       "    }\n",
       "</style>\n",
       "<table border=\"1\" class=\"dataframe\">\n",
       "  <thead>\n",
       "    <tr style=\"text-align: right;\">\n",
       "      <th></th>\n",
       "      <th>Пол</th>\n",
       "      <th>Возраст</th>\n",
       "      <th>Зарплата</th>\n",
       "      <th>Члены семьи</th>\n",
       "      <th>Страховые выплаты</th>\n",
       "    </tr>\n",
       "  </thead>\n",
       "  <tbody>\n",
       "    <tr>\n",
       "      <th>count</th>\n",
       "      <td>5000.000000</td>\n",
       "      <td>5000.000000</td>\n",
       "      <td>5000.000000</td>\n",
       "      <td>5000.000000</td>\n",
       "      <td>5000.000000</td>\n",
       "    </tr>\n",
       "    <tr>\n",
       "      <th>mean</th>\n",
       "      <td>0.499000</td>\n",
       "      <td>30.952800</td>\n",
       "      <td>39916.360000</td>\n",
       "      <td>1.194200</td>\n",
       "      <td>0.148000</td>\n",
       "    </tr>\n",
       "    <tr>\n",
       "      <th>std</th>\n",
       "      <td>0.500049</td>\n",
       "      <td>8.440807</td>\n",
       "      <td>9900.083569</td>\n",
       "      <td>1.091387</td>\n",
       "      <td>0.463183</td>\n",
       "    </tr>\n",
       "    <tr>\n",
       "      <th>min</th>\n",
       "      <td>0.000000</td>\n",
       "      <td>18.000000</td>\n",
       "      <td>5300.000000</td>\n",
       "      <td>0.000000</td>\n",
       "      <td>0.000000</td>\n",
       "    </tr>\n",
       "    <tr>\n",
       "      <th>25%</th>\n",
       "      <td>0.000000</td>\n",
       "      <td>24.000000</td>\n",
       "      <td>33300.000000</td>\n",
       "      <td>0.000000</td>\n",
       "      <td>0.000000</td>\n",
       "    </tr>\n",
       "    <tr>\n",
       "      <th>50%</th>\n",
       "      <td>0.000000</td>\n",
       "      <td>30.000000</td>\n",
       "      <td>40200.000000</td>\n",
       "      <td>1.000000</td>\n",
       "      <td>0.000000</td>\n",
       "    </tr>\n",
       "    <tr>\n",
       "      <th>75%</th>\n",
       "      <td>1.000000</td>\n",
       "      <td>37.000000</td>\n",
       "      <td>46600.000000</td>\n",
       "      <td>2.000000</td>\n",
       "      <td>0.000000</td>\n",
       "    </tr>\n",
       "    <tr>\n",
       "      <th>max</th>\n",
       "      <td>1.000000</td>\n",
       "      <td>65.000000</td>\n",
       "      <td>79000.000000</td>\n",
       "      <td>6.000000</td>\n",
       "      <td>5.000000</td>\n",
       "    </tr>\n",
       "  </tbody>\n",
       "</table>\n",
       "</div>"
      ],
      "text/plain": [
       "               Пол      Возраст      Зарплата  Члены семьи  Страховые выплаты\n",
       "count  5000.000000  5000.000000   5000.000000  5000.000000        5000.000000\n",
       "mean      0.499000    30.952800  39916.360000     1.194200           0.148000\n",
       "std       0.500049     8.440807   9900.083569     1.091387           0.463183\n",
       "min       0.000000    18.000000   5300.000000     0.000000           0.000000\n",
       "25%       0.000000    24.000000  33300.000000     0.000000           0.000000\n",
       "50%       0.000000    30.000000  40200.000000     1.000000           0.000000\n",
       "75%       1.000000    37.000000  46600.000000     2.000000           0.000000\n",
       "max       1.000000    65.000000  79000.000000     6.000000           5.000000"
      ]
     },
     "execution_count": 3,
     "metadata": {},
     "output_type": "execute_result"
    }
   ],
   "source": [
    "data.describe()"
   ]
  },
  {
   "cell_type": "code",
   "execution_count": 4,
   "metadata": {
    "scrolled": true
   },
   "outputs": [
    {
     "data": {
      "text/html": [
       "<div>\n",
       "<style scoped>\n",
       "    .dataframe tbody tr th:only-of-type {\n",
       "        vertical-align: middle;\n",
       "    }\n",
       "\n",
       "    .dataframe tbody tr th {\n",
       "        vertical-align: top;\n",
       "    }\n",
       "\n",
       "    .dataframe thead th {\n",
       "        text-align: right;\n",
       "    }\n",
       "</style>\n",
       "<table border=\"1\" class=\"dataframe\">\n",
       "  <thead>\n",
       "    <tr style=\"text-align: right;\">\n",
       "      <th></th>\n",
       "      <th>Пол</th>\n",
       "      <th>Возраст</th>\n",
       "      <th>Зарплата</th>\n",
       "      <th>Члены семьи</th>\n",
       "      <th>Страховые выплаты</th>\n",
       "    </tr>\n",
       "  </thead>\n",
       "  <tbody>\n",
       "    <tr>\n",
       "      <th>0</th>\n",
       "      <td>1</td>\n",
       "      <td>41.0</td>\n",
       "      <td>49600.0</td>\n",
       "      <td>1</td>\n",
       "      <td>0</td>\n",
       "    </tr>\n",
       "    <tr>\n",
       "      <th>1</th>\n",
       "      <td>0</td>\n",
       "      <td>46.0</td>\n",
       "      <td>38000.0</td>\n",
       "      <td>1</td>\n",
       "      <td>1</td>\n",
       "    </tr>\n",
       "    <tr>\n",
       "      <th>2</th>\n",
       "      <td>0</td>\n",
       "      <td>29.0</td>\n",
       "      <td>21000.0</td>\n",
       "      <td>0</td>\n",
       "      <td>0</td>\n",
       "    </tr>\n",
       "    <tr>\n",
       "      <th>3</th>\n",
       "      <td>0</td>\n",
       "      <td>21.0</td>\n",
       "      <td>41700.0</td>\n",
       "      <td>2</td>\n",
       "      <td>0</td>\n",
       "    </tr>\n",
       "    <tr>\n",
       "      <th>4</th>\n",
       "      <td>1</td>\n",
       "      <td>28.0</td>\n",
       "      <td>26100.0</td>\n",
       "      <td>0</td>\n",
       "      <td>0</td>\n",
       "    </tr>\n",
       "  </tbody>\n",
       "</table>\n",
       "</div>"
      ],
      "text/plain": [
       "   Пол  Возраст  Зарплата  Члены семьи  Страховые выплаты\n",
       "0    1     41.0   49600.0            1                  0\n",
       "1    0     46.0   38000.0            1                  1\n",
       "2    0     29.0   21000.0            0                  0\n",
       "3    0     21.0   41700.0            2                  0\n",
       "4    1     28.0   26100.0            0                  0"
      ]
     },
     "execution_count": 4,
     "metadata": {},
     "output_type": "execute_result"
    }
   ],
   "source": [
    "data.head()"
   ]
  },
  {
   "cell_type": "markdown",
   "metadata": {},
   "source": [
    "Вывод: Аномалии отсутствуют, данные не требуют дополнительной предобработки."
   ]
  },
  {
   "cell_type": "markdown",
   "metadata": {},
   "source": [
    "## Умножение матриц"
   ]
  },
  {
   "cell_type": "markdown",
   "metadata": {},
   "source": [
    "В этом задании вы можете записывать формулы в *Jupyter Notebook.*\n",
    "\n",
    "Чтобы записать формулу внутри текста, окружите её символами доллара \\\\$; если снаружи —  двойными символами \\\\$\\\\$. Эти формулы записываются на языке вёрстки *LaTeX.* \n",
    "\n",
    "Для примера мы записали формулы линейной регрессии. Можете их скопировать и отредактировать, чтобы решить задачу.\n",
    "\n",
    "Работать в *LaTeX* необязательно."
   ]
  },
  {
   "cell_type": "markdown",
   "metadata": {},
   "source": [
    "Обозначения:\n",
    "\n",
    "- $X$ — матрица признаков (нулевой столбец состоит из единиц)\n",
    "\n",
    "- $y$ — вектор целевого признака\n",
    "\n",
    "- $P$ — матрица, на которую умножаются признаки\n",
    "\n",
    "- $w$ — вектор весов линейной регрессии (нулевой элемент равен сдвигу)"
   ]
  },
  {
   "cell_type": "markdown",
   "metadata": {},
   "source": [
    "Предсказания:\n",
    "\n",
    "$$\n",
    "a = Xw\n",
    "$$\n",
    "\n",
    "Задача обучения:\n",
    "\n",
    "$$\n",
    "w = \\arg\\min_w MSE(Xw, y)\n",
    "$$\n",
    "\n",
    "Формула обучения:\n",
    "\n",
    "$$\n",
    "w = (X^T X)^{-1} X^T y\n",
    "$$"
   ]
  },
  {
   "cell_type": "markdown",
   "metadata": {},
   "source": [
    "**Ответ:** Качество линейной регрессии не изменится при умножении признаков на обратимую матрицу.\n",
    "\n",
    "**Обоснование:** Представим новую матрицу $C$ как произведение матрицы $X$ на $P$ (обратимую матрицу):\n",
    "\n",
    "$$C = XP$$"
   ]
  },
  {
   "cell_type": "markdown",
   "metadata": {},
   "source": [
    "Заменим матрицы $X$ на $C$ и вычислим предсказание и векторы весов:\n",
    "\n",
    "$$a_1 = Сw_1$$\n",
    "$$w_1 = (С^T С)^{-1} С^T y$$"
   ]
  },
  {
   "cell_type": "markdown",
   "metadata": {},
   "source": [
    "Подставим в уравнение $w_1$ вместо $C$  произведение $X$ на $P$:\n",
    "\n",
    "\n",
    "$$w_1 = ((XP)^T (XP))^{-1} (XP)^T y$$"
   ]
  },
  {
   "cell_type": "markdown",
   "metadata": {},
   "source": [
    "Также будем использовать следущее свойство обратной матрицы $(AB)^{-1} = B^{-1} A^{-1}$ и транспортированной матрицы $(AB)^{T} = B^{T} A^{T}$:"
   ]
  },
  {
   "cell_type": "markdown",
   "metadata": {},
   "source": [
    "Раскроем скобки в формуле $w_1 $:\n",
    "\n",
    "$$w_1 = ((XP)^T (XP))^{-1} (XP)^T y = (P^T X^T X P)^{-1} P^T X^T y = P^{-1} (X^T X)^{-1} (P^T)^{-1} P^T X^T y$$\n",
    "\n",
    "Поскольку по условию $P$ обратимая, то согласно теории произведение $(P^T)^{-1} P^T = E$ (единичная матрица). Произведение на единичную матрицу ничего не меняет.\n",
    "\n",
    "\n",
    "$$w_1 = P^{-1} (X^T X)^{-1} E X^T y = P^{-1} (X^T X)^{-1} X^T y$$\n",
    "\n",
    "$$w_1 = P^{-1} (X^T X)^{-1} X^T y = P^{-1}w$$\n",
    "\n",
    "\n"
   ]
  },
  {
   "cell_type": "markdown",
   "metadata": {},
   "source": [
    "Подставим получившееся значения в формулу $a_1 = Cw_1$:\n",
    "\n",
    "$$a_1 = XPP^{-1} w$$\n",
    "\n",
    "Произведение $PP^{-1}$ тоже будет равно $E$. Продолжим:\n",
    "\n",
    "$$a_1 = XPP^{-1} w = X E w = X w = a$$\n"
   ]
  },
  {
   "cell_type": "markdown",
   "metadata": {},
   "source": [
    "**Вывод:**\n",
    "Значение предсказания $a$ не меняется, что и следовало доказать."
   ]
  },
  {
   "cell_type": "markdown",
   "metadata": {},
   "source": [
    "## Алгоритм преобразования"
   ]
  },
  {
   "cell_type": "markdown",
   "metadata": {},
   "source": [
    "**Алгоритм**\n",
    "\n",
    "1. Создадим случайную  матрицу, проверим ее на обратимость;\n",
    "3. Умножим признаки на созданную нами матрицу;\n",
    "4. Найдем метрики обученной модели на исходных признаках и на признаках умноженных на нашу матрицу;\n",
    "5. Сравнить показатели качества моделей. Если они будут равны, то поставленная задача выполнена"
   ]
  },
  {
   "cell_type": "markdown",
   "metadata": {},
   "source": [
    "**Обоснование**\n",
    "\n",
    "У созданной обратимой матрицы должна быть необходимая размерность $(nxn)$, в которой $n$ - количество признаков для регрессии, то есть случайная обратимая матрица будет иметь туже размерность, что и матрица признаков $X$."
   ]
  },
  {
   "cell_type": "markdown",
   "metadata": {},
   "source": [
    "## Проверка алгоритма"
   ]
  },
  {
   "cell_type": "markdown",
   "metadata": {},
   "source": [
    "Выделим признаки и целевой признак:"
   ]
  },
  {
   "cell_type": "code",
   "execution_count": 5,
   "metadata": {},
   "outputs": [],
   "source": [
    "features = data.drop('Страховые выплаты',axis=1)\n",
    "target = data['Страховые выплаты']"
   ]
  },
  {
   "cell_type": "markdown",
   "metadata": {},
   "source": [
    "Создадим рандомную матрицу:"
   ]
  },
  {
   "cell_type": "code",
   "execution_count": 6,
   "metadata": {
    "scrolled": true
   },
   "outputs": [
    {
     "data": {
      "text/plain": [
       "array([[51, 19, 89, 66],\n",
       "       [60, 57, 86, 19],\n",
       "       [62, 83, 48, 38],\n",
       "       [97, 61, 42, 89]])"
      ]
     },
     "execution_count": 6,
     "metadata": {},
     "output_type": "execute_result"
    }
   ],
   "source": [
    "random_matrix = np.random.randint(100,size = (4, 4))\n",
    "random_matrix"
   ]
  },
  {
   "cell_type": "markdown",
   "metadata": {},
   "source": [
    "Проверим на обратимость:"
   ]
  },
  {
   "cell_type": "code",
   "execution_count": 7,
   "metadata": {
    "scrolled": true
   },
   "outputs": [
    {
     "data": {
      "text/plain": [
       "array([[-0.0234602 ,  0.03125753, -0.03494211,  0.0256436 ],\n",
       "       [ 0.0030942 , -0.01393199,  0.02974053, -0.01201854],\n",
       "       [ 0.01019977,  0.00499157,  0.00084424, -0.00898995],\n",
       "       [ 0.01863486, -0.02687388,  0.01730061, -0.00423281]])"
      ]
     },
     "execution_count": 7,
     "metadata": {},
     "output_type": "execute_result"
    }
   ],
   "source": [
    "inv_matrix = np.linalg.inv(random_matrix)\n",
    "inv_matrix"
   ]
  },
  {
   "cell_type": "markdown",
   "metadata": {},
   "source": [
    "Опираясь на основное свойство обратной матрицы, проверим правильность результата:"
   ]
  },
  {
   "cell_type": "code",
   "execution_count": 8,
   "metadata": {
    "scrolled": true
   },
   "outputs": [
    {
     "data": {
      "text/plain": [
       "True"
      ]
     },
     "execution_count": 8,
     "metadata": {},
     "output_type": "execute_result"
    }
   ],
   "source": [
    "np.allclose(np.dot(random_matrix, inv_matrix), np.eye(random_matrix.shape[0]))"
   ]
  },
  {
   "cell_type": "code",
   "execution_count": 9,
   "metadata": {
    "scrolled": true
   },
   "outputs": [
    {
     "data": {
      "text/plain": [
       "True"
      ]
     },
     "execution_count": 9,
     "metadata": {},
     "output_type": "execute_result"
    }
   ],
   "source": [
    "np.allclose(np.dot(inv_matrix, random_matrix), np.eye(random_matrix.shape[0]))"
   ]
  },
  {
   "cell_type": "markdown",
   "metadata": {},
   "source": [
    "Масштабируем признаки:"
   ]
  },
  {
   "cell_type": "code",
   "execution_count": 10,
   "metadata": {},
   "outputs": [],
   "source": [
    "scaler = StandardScaler()\n",
    "scaler.fit(features)\n",
    "features_sc = scaler.transform(features)"
   ]
  },
  {
   "cell_type": "markdown",
   "metadata": {},
   "source": [
    "Создадим модель линейной регрессии для исходных данных и вычислим r2:"
   ]
  },
  {
   "cell_type": "code",
   "execution_count": 11,
   "metadata": {},
   "outputs": [
    {
     "name": "stdout",
     "output_type": "stream",
     "text": [
      "R2 = 0.425\n"
     ]
    }
   ],
   "source": [
    "model = LinearRegression()\n",
    "model.fit(features, target)\n",
    "predictions = model.predict(features)\n",
    "r2 = r2_score(target, predictions)\n",
    "print('R2 =', r2.round(3))"
   ]
  },
  {
   "cell_type": "markdown",
   "metadata": {},
   "source": [
    "Создадим модель линейной регрессии для преобразованных данных с использованием рандомной матрицы и вычислим r2:"
   ]
  },
  {
   "cell_type": "code",
   "execution_count": 12,
   "metadata": {},
   "outputs": [
    {
     "name": "stdout",
     "output_type": "stream",
     "text": [
      "R2 = 0.425\n"
     ]
    }
   ],
   "source": [
    "features_m = features_sc @ random_matrix\n",
    "model.fit(features_m, target)\n",
    "predictions_m = model.predict(features_m)\n",
    "r2 = r2_score(target, predictions_m)\n",
    "print('R2 =', r2.round(3))"
   ]
  },
  {
   "cell_type": "markdown",
   "metadata": {},
   "source": [
    "Показатели r2 совпадают, что говорит о правильности работы алгоритма преобразования."
   ]
  },
  {
   "cell_type": "markdown",
   "metadata": {},
   "source": [
    "## Общий вывод\n",
    "1. Загружены и изучены данные, аномалии не были выявлены;\n",
    "2. Обосновано, почему качество линейной регрессии не изменится при умножении признаков на обратимую матрицу;\n",
    "3. Создан алгоритм преобразования и проверена  R2 для исходных и преобразованных данных;\n",
    "4. Данные защищены и сохранены, качество модели не изменилось."
   ]
  },
  {
   "cell_type": "markdown",
   "metadata": {},
   "source": [
    "## Чек-лист проверки"
   ]
  },
  {
   "cell_type": "markdown",
   "metadata": {},
   "source": [
    "Поставьте 'x' в выполненных пунктах. Далее нажмите Shift+Enter."
   ]
  },
  {
   "cell_type": "markdown",
   "metadata": {},
   "source": [
    "- [x]  Jupyter Notebook открыт\n",
    "- [x]  Весь код выполняется без ошибок\n",
    "- [x]  Ячейки с кодом расположены в порядке исполнения\n",
    "- [x]  Выполнен шаг 1: данные загружены\n",
    "- [x]  Выполнен шаг 2: получен ответ на вопрос об умножении матриц\n",
    "    - [x]  Указан правильный вариант ответа\n",
    "    - [x]  Вариант обоснован\n",
    "- [x]  Выполнен шаг 3: предложен алгоритм преобразования\n",
    "    - [x]  Алгоритм описан\n",
    "    - [x]  Алгоритм обоснован\n",
    "- [x]  Выполнен шаг 4: алгоритм проверен\n",
    "    - [x]  Алгоритм реализован\n",
    "    - [x]  Проведено сравнение качества моделей до и после преобразования"
   ]
  }
 ],
 "metadata": {
  "ExecuteTimeLog": [
   {
    "duration": 1298,
    "start_time": "2023-10-20T01:45:13.624Z"
   },
   {
    "duration": 89,
    "start_time": "2023-10-20T01:45:42.960Z"
   },
   {
    "duration": 33,
    "start_time": "2023-10-20T01:46:11.579Z"
   },
   {
    "duration": 11,
    "start_time": "2023-10-20T01:49:24.648Z"
   },
   {
    "duration": 96,
    "start_time": "2023-10-20T01:50:56.125Z"
   },
   {
    "duration": 81,
    "start_time": "2023-10-20T01:57:51.971Z"
   },
   {
    "duration": 4,
    "start_time": "2023-10-20T02:00:50.902Z"
   },
   {
    "duration": 6,
    "start_time": "2023-10-20T02:14:12.914Z"
   },
   {
    "duration": 5,
    "start_time": "2023-10-20T02:14:54.269Z"
   },
   {
    "duration": 124,
    "start_time": "2023-10-20T02:15:06.931Z"
   },
   {
    "duration": 8,
    "start_time": "2023-10-20T02:15:21.912Z"
   },
   {
    "duration": 5,
    "start_time": "2023-10-20T02:15:34.155Z"
   },
   {
    "duration": 8,
    "start_time": "2023-10-20T02:15:56.155Z"
   },
   {
    "duration": 12,
    "start_time": "2023-10-20T02:16:24.781Z"
   },
   {
    "duration": 7,
    "start_time": "2023-10-20T02:17:01.549Z"
   },
   {
    "duration": 1298,
    "start_time": "2023-10-20T02:18:39.785Z"
   },
   {
    "duration": 44,
    "start_time": "2023-10-20T02:18:41.085Z"
   },
   {
    "duration": 30,
    "start_time": "2023-10-20T02:18:41.131Z"
   },
   {
    "duration": 8,
    "start_time": "2023-10-20T02:18:41.163Z"
   },
   {
    "duration": 16,
    "start_time": "2023-10-20T02:18:41.172Z"
   },
   {
    "duration": 27,
    "start_time": "2023-10-20T02:18:41.190Z"
   },
   {
    "duration": 22,
    "start_time": "2023-10-20T02:18:41.219Z"
   },
   {
    "duration": 63,
    "start_time": "2023-10-20T02:18:41.243Z"
   },
   {
    "duration": 94,
    "start_time": "2023-10-20T02:18:41.308Z"
   },
   {
    "duration": 12,
    "start_time": "2023-10-20T02:18:41.406Z"
   },
   {
    "duration": 82,
    "start_time": "2023-10-20T02:18:41.421Z"
   },
   {
    "duration": 98,
    "start_time": "2023-10-20T02:18:41.506Z"
   },
   {
    "duration": 3,
    "start_time": "2023-10-20T02:27:53.980Z"
   },
   {
    "duration": 40,
    "start_time": "2023-10-20T02:27:54.389Z"
   },
   {
    "duration": 34,
    "start_time": "2023-10-20T02:27:54.588Z"
   },
   {
    "duration": 9,
    "start_time": "2023-10-20T02:27:54.783Z"
   },
   {
    "duration": 7,
    "start_time": "2023-10-20T02:27:59.612Z"
   },
   {
    "duration": 4,
    "start_time": "2023-10-20T02:28:00.460Z"
   },
   {
    "duration": 1116,
    "start_time": "2023-10-20T02:28:09.802Z"
   },
   {
    "duration": 38,
    "start_time": "2023-10-20T02:28:10.921Z"
   },
   {
    "duration": 33,
    "start_time": "2023-10-20T02:28:10.961Z"
   },
   {
    "duration": 14,
    "start_time": "2023-10-20T02:28:10.996Z"
   },
   {
    "duration": 7,
    "start_time": "2023-10-20T02:28:11.013Z"
   },
   {
    "duration": 7,
    "start_time": "2023-10-20T02:28:11.023Z"
   },
   {
    "duration": 17,
    "start_time": "2023-10-20T02:28:11.032Z"
   },
   {
    "duration": 57,
    "start_time": "2023-10-20T02:28:11.051Z"
   },
   {
    "duration": 94,
    "start_time": "2023-10-20T02:28:11.111Z"
   },
   {
    "duration": 11,
    "start_time": "2023-10-20T02:28:11.208Z"
   },
   {
    "duration": 13,
    "start_time": "2023-10-20T02:28:11.221Z"
   },
   {
    "duration": 70,
    "start_time": "2023-10-20T02:28:11.237Z"
   },
   {
    "duration": 3238,
    "start_time": "2023-10-20T05:54:22.518Z"
   },
   {
    "duration": 85,
    "start_time": "2023-10-20T05:54:25.758Z"
   },
   {
    "duration": 31,
    "start_time": "2023-10-20T05:54:25.846Z"
   },
   {
    "duration": 7,
    "start_time": "2023-10-20T05:54:25.879Z"
   },
   {
    "duration": 4,
    "start_time": "2023-10-20T05:54:25.887Z"
   },
   {
    "duration": 6,
    "start_time": "2023-10-20T05:54:25.893Z"
   },
   {
    "duration": 4,
    "start_time": "2023-10-20T05:54:25.901Z"
   },
   {
    "duration": 50,
    "start_time": "2023-10-20T05:54:25.907Z"
   },
   {
    "duration": 4,
    "start_time": "2023-10-20T05:54:25.959Z"
   },
   {
    "duration": 84,
    "start_time": "2023-10-20T05:54:25.966Z"
   },
   {
    "duration": 11,
    "start_time": "2023-10-20T05:54:26.052Z"
   },
   {
    "duration": 79,
    "start_time": "2023-10-20T05:54:26.065Z"
   },
   {
    "duration": 1019,
    "start_time": "2023-10-20T06:09:57.910Z"
   },
   {
    "duration": 81,
    "start_time": "2023-10-20T06:09:58.931Z"
   },
   {
    "duration": 23,
    "start_time": "2023-10-20T06:09:59.014Z"
   },
   {
    "duration": 15,
    "start_time": "2023-10-20T06:09:59.044Z"
   },
   {
    "duration": 4,
    "start_time": "2023-10-20T06:09:59.061Z"
   },
   {
    "duration": 6,
    "start_time": "2023-10-20T06:09:59.066Z"
   },
   {
    "duration": 7,
    "start_time": "2023-10-20T06:09:59.073Z"
   },
   {
    "duration": 4,
    "start_time": "2023-10-20T06:09:59.081Z"
   },
   {
    "duration": 73,
    "start_time": "2023-10-20T06:09:59.087Z"
   },
   {
    "duration": 81,
    "start_time": "2023-10-20T06:09:59.163Z"
   },
   {
    "duration": 21,
    "start_time": "2023-10-20T06:09:59.245Z"
   },
   {
    "duration": 24,
    "start_time": "2023-10-20T06:09:59.339Z"
   }
  ],
  "kernelspec": {
   "display_name": "Python 3 (ipykernel)",
   "language": "python",
   "name": "python3"
  },
  "language_info": {
   "codemirror_mode": {
    "name": "ipython",
    "version": 3
   },
   "file_extension": ".py",
   "mimetype": "text/x-python",
   "name": "python",
   "nbconvert_exporter": "python",
   "pygments_lexer": "ipython3",
   "version": "3.11.5"
  },
  "toc": {
   "base_numbering": 1,
   "nav_menu": {},
   "number_sections": true,
   "sideBar": true,
   "skip_h1_title": true,
   "title_cell": "Содержание",
   "title_sidebar": "Contents",
   "toc_cell": true,
   "toc_position": {},
   "toc_section_display": true,
   "toc_window_display": false
  }
 },
 "nbformat": 4,
 "nbformat_minor": 4
}
